{
  "cells": [
    {
      "cell_type": "markdown",
      "metadata": {
        "id": "7HDxAHB4WFwP"
      },
      "source": [
        "##Research questions\n",
        "Try to answer the below mentioned questions in our data analysis.\n",
        "Anzrod15riskofdeath\n",
        "ANZROD (2015 version) risk of death\n",
        "Anzrod20riskofdeath\n",
        "ANZROD (2020 version) risk of death\n",
        "\n",
        "Evaluate the Calibration of these scores with reality\n",
        "Between these two scores and actual outcomes\n",
        "Mortality risk prediction models\n",
        "Probability calibration in weather forecasting\n",
        "Brier scores,\n",
        "Probability prediction and forecasting,\n",
        "Apache scores\n",
        "All the times that u said there is 45% chances of rain, did it rain 45% of the time\n",
        "Good estimates,  \n",
        "\n",
        "\n",
        "\n",
        "*   Evaluate the efficiency of  Anzrod15riskofdeath, Anzrod20riskofdeath scores in predicting mortality.\n",
        "*   If someone has a high risk score, how often does mortality actually happen?\n",
        "*   How effective the Australian and New Zealand Risk of Death scoring system is in predicting mortality?\n",
        "\n",
        "\n",
        "The degree of association between riskofdeath and mortality after taking into account other factors known to relate to these outcomes."
      ]
    },
    {
      "cell_type": "code",
      "execution_count": null,
      "metadata": {
        "tags": [],
        "id": "WZIMmdrklrfi"
      },
      "outputs": [],
      "source": [
        "#!unzip './ANZICS_APD_FY2018_FY2023.zip' -d './'"
      ]
    },
    {
      "cell_type": "code",
      "execution_count": null,
      "metadata": {
        "tags": [],
        "id": "-qnDJwBjlrfp"
      },
      "outputs": [],
      "source": [
        "#!rm -d \"./ANZICS_APD_FY2018_FY2023.zip\""
      ]
    },
    {
      "cell_type": "markdown",
      "metadata": {
        "id": "nBYYJQhhmqEw",
        "outputId": "d96646ce-430a-4e32-c913-a11bd71af872"
      },
      "source": [
        "Conversation: 13.32\n",
        " if someone comes into hospital comes into ICU, and the discharge, outcome is death, so the patient dies in ICU, in that case, the ICU discharge, I see ICU outcome will be death. And after that hospital outcome should also be that nothing is not recorded,\n",
        " then it's just missing. It cannot, it cannot be otherwise.\n",
        "\n",
        " In terms of our own data training and validation, we do have that check if the patient has died in ICU, and that is the ICU discharge date and time available there is a variable that we have calculated so it's not the raw data. It's definitely died under ASCII ICU and died underscore hospital. So if the patient's ICU outcome is died, we just populate hospital outcome as died as well.\n",
        "\n",
        " there is yeah, there are bits that come as raw data and then there is a calculated ones that are possibly you know, useful analysis and might be put puts in terms of death. So if you look at died, underscore ICU and died underscore hospital, that would be either yes or no all Those who have died in ICU have always had that as died under hospital. And those who have died in hospital that not necessarily have death as an outcome in ICU. So one is a subset of the other. Okay,\n",
        " so can we talk about someone who's admitted to hospital as an episode in the ICU, is discharged from the ICU and later dies in hospital? How should that data? Or how should that information show up? And how can it show up? What sort of things can go wrong?\n",
        "\n",
        " So I feel I'll come for such a patient will be survived ICU and hospital outcome will be died in hospital?\n",
        "How reliable is that hospital outcome given that it's happened outside the intensive care unit?\n",
        "Yes. So, I would say for all the hospital discharge dates and times recorded, the outcome should be accurate.\n",
        "Should be Yeah,\n",
        "\n",
        "it is mostly accurate. I mean, there are, to my knowledge, there are no cases where the hospital outcome is died and that that patient has reappeared. Again, there might be small number of cases retrospectively in the very old data. But since 2017 2018, I think the data has been quite accurate. We also have a periodic NDI linkage national death index. Okay. So the data on that comes from the central death registry from ah W. Okay, and there is a possibility that we could verify all the deaths that have happened in hospital because every every test should ideally get loaded NDI. So\n",
        "if I remember correctly, there is one variable towards the right hand side data, 177 variables, 177 columns. But it is to do with the debt yet the debt the registry? Yeah, the death date. My instinct is to say, that looks like something that's pretty reliable. Is that correct?\n",
        "That is accurate. Again, that is based on only registry data that's not based on the NDI, because NDI data, we do the linkage once a year, and it's only for our internal reporting. So the ethics around use of that data is quite strict. So we cannot use that data for our likes of data can choose using for student projects, and it's such Yeah. However, we could verify each and every registry date of death with the NDI date of death. When it comes back to us, and check, whatever is recorded in registry is accurate or not.\n",
        "So from what you've described, I'm imagining that if someone was to come to hospital, have an episode in the ICU, be discharged from the ICU, be discharged from the hospital and was then to die. There is no information about that person's death anywhere recorded in the in the ICU data.\n",
        "Not in the ICU component of the registry data, but we do have hospital component,\n",
        "\n",
        "but if they die outside the hospital, oh, yeah,\n",
        "absolutely, then there is no way of recording that. If we do the MDR data linkage, we we will get that information. And we will update our data set. But yeah, it's we are using that data for some of our long term outcomes survivors. And yeah, that is our only way. But it's once a year, it's not timely. But from the registry point of view, yes. The death outside of hospital is not captured anywhere in the registry. This"
      ]
    },
    {
      "cell_type": "markdown",
      "metadata": {
        "id": "lFwQCLL7rVz4"
      },
      "source": [
        "From April 2015, ANZICS CORE implemented the Australian and New Zealand Risk of Death (ANZROD) model as the primary risk prediction model. This model is derived using components of the APACHE III-J score, with additional data elements added. It has been developed using Australian and New Zealand patient data from the APD. While Apache III-J has two prediction algorithms (CABG and non-CABG), ANZROD has eight different algorithms, based on the major diagnostic categories. ANZROD is a more accurate predictor of mortality and provides better adjustment for case-mix variation than APACHE III-J. In addition, ANZROD has less exclusions than APACHE III-J. All initial admissions to ICU aged 16 years and over (other than those specifically admitted for organ donation or palliative care) are included when an ANZROD SMR is calculated. ANZROD will be regularly recalibrated so that the SMR continues to sit around 1 in the years to come. ANZROD provides a single number for each patient which represents the individual’s risk of death before hospital discharge."
      ]
    },
    {
      "cell_type": "markdown",
      "metadata": {
        "id": "Njd-PQuzsRHy"
      },
      "source": [
        "Age\n",
        "Hospital Discharge Destination\n",
        "ICU Admission Source\n",
        "ICU admission following elective surgery\n",
        "Planned ICU Admission\n",
        "Treatment Goals for Admission\n",
        "Total Glasgow Coma Score\n",
        "Glasgow Coma Score Unavailable Due to Sedation\n",
        "Eye Opening Component Glasgow Coma Score\n",
        "Verbal Component Glasgow Coma Score\n",
        "Motor Component Glasgow Coma Score\n",
        "Core Temperature\n",
        "Heart Rate\n",
        "Respiratory Rate\n",
        "Invasive Ventilation Status for Respiratory Rate (high)\n",
        "Invasive Ventilation Status for Respiratory Rate (low)\n",
        "Mean Arterial Blood Pressure\n",
        "Sodium\n",
        "Creatinine\n",
        "Urea\n",
        "Albumin\n",
        "Bilirubin\n",
        "Glucose\n",
        "Urine Output for 24 Hours\n",
        "Haematocrit\n",
        "White Blood Cell Count\n",
        "Fraction of Inspired Oxygen: APACHE III-J\n",
        "Partial Pressure of Oxygen: APACHE III-J\n",
        "Partial Pressure of Carbon Dioxide using Worst Oxygenation: APACHE III-J\n",
        "pH: APACHE III-J\n",
        "Intubation\n",
        "Acute Renal Failure Status\n",
        "Chronic Health Evaluation: APACHE II\n",
        "Chronic Health Evaluation: APACHE III-J"
      ]
    },
    {
      "cell_type": "markdown",
      "metadata": {
        "id": "hpKlGchmoFBd"
      },
      "source": [
        "ANZROD is a prediction model that was developed for use in ANZ ICUs to overcome the deficiencies of APACHE III-j. This model has been shown to be a better risk adjustment tool for benchmarking ICU outcomes in ANZ hospitals. However, as this model uses physiological data collected up to 24 hours after admission to provide estimates of predicted mortality,"
      ]
    },
    {
      "cell_type": "markdown",
      "metadata": {
        "id": "CoYZGygio-9L"
      },
      "source": [
        "We excluded readmission episodes to an ICU within the same hospital stay, patients admitted for palliative care and organ donation, and those with missing hospital outcomes."
      ]
    },
    {
      "cell_type": "markdown",
      "metadata": {
        "id": "6PquIgwkpImb"
      },
      "source": [
        "The ANZROD model also excluded patients with a missing Acute Physiology score on ICU Day 1 in keeping with the methodology.\n"
      ]
    },
    {
      "cell_type": "markdown",
      "metadata": {
        "id": "lY9ZcfNQpXSd"
      },
      "source": [
        "Information extracted for each patient included age, location before ICU admission, surgical status, admission diagnosis, presence of chronic illnesses and presence of treatment limitations. The outcome considered was ‘in-hospital mortality’."
      ]
    },
    {
      "cell_type": "code",
      "execution_count": null,
      "metadata": {
        "tags": [],
        "id": "Fsu5Sjlvlrfz"
      },
      "outputs": [],
      "source": [
        "#!pip install utils"
      ]
    },
    {
      "cell_type": "code",
      "execution_count": null,
      "metadata": {
        "id": "eVAW6Td5KkAG",
        "tags": []
      },
      "outputs": [],
      "source": [
        "#importing libraries required for this project\n",
        "\n",
        "import numpy as np\n",
        "from sklearn.metrics import recall_score, make_scorer\n",
        "from sklearn.model_selection import train_test_split\n",
        "from sklearn.preprocessing import MinMaxScaler\n",
        "from sklearn.ensemble import RandomForestClassifier\n",
        "from sklearn.metrics import accuracy_score, classification_report, confusion_matrix\n",
        "from sklearn.metrics import roc_curve, roc_auc_score\n",
        "from sklearn.model_selection import cross_val_score\n",
        "from sklearn.model_selection import StratifiedKFold\n",
        "from sklearn.linear_model import LogisticRegression\n",
        "from sklearn.calibration import CalibratedClassifierCV, label_binarize\n",
        "from sklearn.model_selection import learning_curve, RandomizedSearchCV, GridSearchCV, cross_val_score\n",
        "from sklearn.metrics import accuracy_score, roc_curve, roc_auc_score, log_loss, brier_score_loss\n",
        "import matplotlib.pyplot as plt\n",
        "import seaborn as sns\n",
        "import pandas as pd\n",
        "from sklearn.preprocessing import MinMaxScaler\n",
        "from sklearn.calibration import calibration_curve\n",
        "\n",
        "import scipy.stats as stats\n",
        "from IPython.display import display, HTML\n",
        "from sklearn.base import BaseEstimator, TransformerMixin\n",
        "from sklearn.pipeline import Pipeline, FeatureUnion\n",
        "import pickle"
      ]
    },
    {
      "cell_type": "code",
      "execution_count": null,
      "metadata": {
        "tags": [],
        "id": "4MCwxvfHlrf0"
      },
      "outputs": [],
      "source": [
        "# plt.style.use('ggplot')\n",
        "# plt.rcParams['figure.figsize'] = 8, 4\n",
        "# plt.rcParams['axes.labelsize'] = 12\n",
        "# plt.rcParams['xtick.labelsize'] = 10\n",
        "# plt.rcParams['ytick.labelsize'] = 10\n",
        "# plt.rcParams['legend.fontsize'] = 10"
      ]
    },
    {
      "cell_type": "code",
      "execution_count": null,
      "metadata": {
        "id": "aU0LBFAr8ZCZ",
        "tags": []
      },
      "outputs": [],
      "source": [
        "# Function to create scrollable table within a small window\n",
        "def create_scrollable_table(df, table_id, title):\n",
        "    html = f'<h3>{title}</h3>'\n",
        "    html += f'<div id=\"{table_id}\" style=\"height:200px; overflow:auto;\">'\n",
        "    html += df.to_html()\n",
        "    html += '</div>'\n",
        "    return html"
      ]
    },
    {
      "cell_type": "markdown",
      "metadata": {
        "id": "T3STvOu-_LyS"
      },
      "source": [
        "## Data Loading"
      ]
    },
    {
      "cell_type": "code",
      "execution_count": null,
      "metadata": {
        "id": "rbKpe3J0UjMG"
      },
      "outputs": [],
      "source": [
        "# from google.colab import drive\n",
        "# drive.mount('/content/gdrive')\n",
        "# data = pd.read_csv('/content/gdrive/MyDrive/Colab Notebooks/ANZICS_APD_FY2018_FY2023.csv')\n",
        "# data.head()"
      ]
    },
    {
      "cell_type": "code",
      "execution_count": null,
      "metadata": {
        "tags": [],
        "id": "ImWesHMclrf1",
        "outputId": "a21d5fdb-ed5b-437f-9403-621980e6ed08"
      },
      "outputs": [
        {
          "name": "stderr",
          "output_type": "stream",
          "text": [
            "/tmp/ipykernel_190/3999970978.py:1: DtypeWarning: Columns (2) have mixed types. Specify dtype option on import or set low_memory=False.\n",
            "  data = pd.read_csv('./ANZICS_APD_FY2018_FY2023.csv')\n"
          ]
        },
        {
          "data": {
            "text/html": [
              "<div>\n",
              "<style scoped>\n",
              "    .dataframe tbody tr th:only-of-type {\n",
              "        vertical-align: middle;\n",
              "    }\n",
              "\n",
              "    .dataframe tbody tr th {\n",
              "        vertical-align: top;\n",
              "    }\n",
              "\n",
              "    .dataframe thead th {\n",
              "        text-align: right;\n",
              "    }\n",
              "</style>\n",
              "<table border=\"1\" class=\"dataframe\">\n",
              "  <thead>\n",
              "    <tr style=\"text-align: right;\">\n",
              "      <th></th>\n",
              "      <th>HospitalClassification</th>\n",
              "      <th>PublicPrivate</th>\n",
              "      <th>PatientID</th>\n",
              "      <th>IcuAdmFinYr</th>\n",
              "      <th>IcuAdmYYYYMM</th>\n",
              "      <th>IcuAdmYear</th>\n",
              "      <th>IcuAdmMonth</th>\n",
              "      <th>IcuAdmDay</th>\n",
              "      <th>IcuAdmHour</th>\n",
              "      <th>IcuDisYear</th>\n",
              "      <th>...</th>\n",
              "      <th>INV_DAYONE</th>\n",
              "      <th>INV_HOURS</th>\n",
              "      <th>INV_IND</th>\n",
              "      <th>NIV_HOURS</th>\n",
              "      <th>NIV_IND</th>\n",
              "      <th>ECMO_IND</th>\n",
              "      <th>INOTROP_IND</th>\n",
              "      <th>RENAL_IND</th>\n",
              "      <th>TRACHE_IND</th>\n",
              "      <th>PREG_GESTWK</th>\n",
              "    </tr>\n",
              "  </thead>\n",
              "  <tbody>\n",
              "    <tr>\n",
              "      <th>0</th>\n",
              "      <td>Tertiary</td>\n",
              "      <td>Public</td>\n",
              "      <td>3865</td>\n",
              "      <td>2018-19</td>\n",
              "      <td>201808</td>\n",
              "      <td>2018</td>\n",
              "      <td>8</td>\n",
              "      <td>27</td>\n",
              "      <td>2</td>\n",
              "      <td>2018.0</td>\n",
              "      <td>...</td>\n",
              "      <td>2.0</td>\n",
              "      <td>0.0</td>\n",
              "      <td>2.0</td>\n",
              "      <td>0.0</td>\n",
              "      <td>2.0</td>\n",
              "      <td>2.0</td>\n",
              "      <td>2.0</td>\n",
              "      <td>2.0</td>\n",
              "      <td>2.0</td>\n",
              "      <td>NaN</td>\n",
              "    </tr>\n",
              "    <tr>\n",
              "      <th>1</th>\n",
              "      <td>Metropolitan</td>\n",
              "      <td>Public</td>\n",
              "      <td>8348</td>\n",
              "      <td>2021-22</td>\n",
              "      <td>202112</td>\n",
              "      <td>2021</td>\n",
              "      <td>12</td>\n",
              "      <td>30</td>\n",
              "      <td>21</td>\n",
              "      <td>2022.0</td>\n",
              "      <td>...</td>\n",
              "      <td>2.0</td>\n",
              "      <td>0.0</td>\n",
              "      <td>2.0</td>\n",
              "      <td>7.0</td>\n",
              "      <td>1.0</td>\n",
              "      <td>2.0</td>\n",
              "      <td>2.0</td>\n",
              "      <td>2.0</td>\n",
              "      <td>2.0</td>\n",
              "      <td>NaN</td>\n",
              "    </tr>\n",
              "    <tr>\n",
              "      <th>2</th>\n",
              "      <td>Metropolitan</td>\n",
              "      <td>Public</td>\n",
              "      <td>8610</td>\n",
              "      <td>2022-23</td>\n",
              "      <td>202207</td>\n",
              "      <td>2022</td>\n",
              "      <td>7</td>\n",
              "      <td>1</td>\n",
              "      <td>22</td>\n",
              "      <td>2022.0</td>\n",
              "      <td>...</td>\n",
              "      <td>2.0</td>\n",
              "      <td>0.0</td>\n",
              "      <td>2.0</td>\n",
              "      <td>0.0</td>\n",
              "      <td>2.0</td>\n",
              "      <td>2.0</td>\n",
              "      <td>2.0</td>\n",
              "      <td>2.0</td>\n",
              "      <td>2.0</td>\n",
              "      <td>NaN</td>\n",
              "    </tr>\n",
              "    <tr>\n",
              "      <th>3</th>\n",
              "      <td>Rural / Regional</td>\n",
              "      <td>Public</td>\n",
              "      <td>14567</td>\n",
              "      <td>2020-21</td>\n",
              "      <td>202105</td>\n",
              "      <td>2021</td>\n",
              "      <td>5</td>\n",
              "      <td>6</td>\n",
              "      <td>15</td>\n",
              "      <td>2021.0</td>\n",
              "      <td>...</td>\n",
              "      <td>2.0</td>\n",
              "      <td>NaN</td>\n",
              "      <td>2.0</td>\n",
              "      <td>NaN</td>\n",
              "      <td>2.0</td>\n",
              "      <td>2.0</td>\n",
              "      <td>2.0</td>\n",
              "      <td>2.0</td>\n",
              "      <td>2.0</td>\n",
              "      <td>NaN</td>\n",
              "    </tr>\n",
              "    <tr>\n",
              "      <th>4</th>\n",
              "      <td>Private</td>\n",
              "      <td>Private</td>\n",
              "      <td>22568</td>\n",
              "      <td>2022-23</td>\n",
              "      <td>202207</td>\n",
              "      <td>2022</td>\n",
              "      <td>7</td>\n",
              "      <td>19</td>\n",
              "      <td>11</td>\n",
              "      <td>2022.0</td>\n",
              "      <td>...</td>\n",
              "      <td>2.0</td>\n",
              "      <td>NaN</td>\n",
              "      <td>2.0</td>\n",
              "      <td>NaN</td>\n",
              "      <td>2.0</td>\n",
              "      <td>2.0</td>\n",
              "      <td>2.0</td>\n",
              "      <td>2.0</td>\n",
              "      <td>2.0</td>\n",
              "      <td>NaN</td>\n",
              "    </tr>\n",
              "  </tbody>\n",
              "</table>\n",
              "<p>5 rows × 193 columns</p>\n",
              "</div>"
            ],
            "text/plain": [
              "  HospitalClassification PublicPrivate PatientID IcuAdmFinYr  IcuAdmYYYYMM  \\\n",
              "0               Tertiary        Public      3865     2018-19        201808   \n",
              "1           Metropolitan        Public      8348     2021-22        202112   \n",
              "2           Metropolitan        Public      8610     2022-23        202207   \n",
              "3       Rural / Regional        Public     14567     2020-21        202105   \n",
              "4                Private       Private     22568     2022-23        202207   \n",
              "\n",
              "   IcuAdmYear  IcuAdmMonth  IcuAdmDay  IcuAdmHour  IcuDisYear  ...  \\\n",
              "0        2018            8         27           2      2018.0  ...   \n",
              "1        2021           12         30          21      2022.0  ...   \n",
              "2        2022            7          1          22      2022.0  ...   \n",
              "3        2021            5          6          15      2021.0  ...   \n",
              "4        2022            7         19          11      2022.0  ...   \n",
              "\n",
              "   INV_DAYONE  INV_HOURS  INV_IND  NIV_HOURS  NIV_IND  ECMO_IND INOTROP_IND  \\\n",
              "0         2.0        0.0      2.0        0.0      2.0       2.0         2.0   \n",
              "1         2.0        0.0      2.0        7.0      1.0       2.0         2.0   \n",
              "2         2.0        0.0      2.0        0.0      2.0       2.0         2.0   \n",
              "3         2.0        NaN      2.0        NaN      2.0       2.0         2.0   \n",
              "4         2.0        NaN      2.0        NaN      2.0       2.0         2.0   \n",
              "\n",
              "   RENAL_IND  TRACHE_IND  PREG_GESTWK  \n",
              "0        2.0         2.0          NaN  \n",
              "1        2.0         2.0          NaN  \n",
              "2        2.0         2.0          NaN  \n",
              "3        2.0         2.0          NaN  \n",
              "4        2.0         2.0          NaN  \n",
              "\n",
              "[5 rows x 193 columns]"
            ]
          },
          "execution_count": 8,
          "metadata": {},
          "output_type": "execute_result"
        }
      ],
      "source": [
        "data = pd.read_csv('./ANZICS_APD_FY2018_FY2023.csv')\n",
        "data.head()"
      ]
    },
    {
      "cell_type": "code",
      "execution_count": null,
      "metadata": {
        "id": "TFhgzoHqbH3l"
      },
      "outputs": [],
      "source": [
        "# Convert DataFrame to Parquet format and save it\n",
        "\n",
        "#data.to_parquet('/content/gdrive/MyDrive/Colab Notebooks/ANZICS_APD_FY2018_FY2023.parquet')"
      ]
    },
    {
      "cell_type": "code",
      "execution_count": null,
      "metadata": {
        "tags": [],
        "id": "uZvFgMIOlrf3",
        "outputId": "7a70aa25-0c45-4d02-f683-cfee2df9206e"
      },
      "outputs": [
        {
          "name": "stdout",
          "output_type": "stream",
          "text": [
            "Rows removed:  1045856\n",
            "New shape:  (97429, 193)\n"
          ]
        }
      ],
      "source": [
        "#IcuAdmYear\n",
        "previous_shape = data.shape[0]\n",
        "\n",
        "data = data[\n",
        "    (data.IcuAdmYear.isin([2023,np.nan]))\n",
        "]\n",
        "\n",
        "print('Rows removed: ', (previous_shape - data.shape[0]))\n",
        "print('New shape: ', data.shape)"
      ]
    },
    {
      "cell_type": "code",
      "execution_count": null,
      "metadata": {
        "id": "O22fxQUjTOo3",
        "tags": [],
        "outputId": "06e2b9bf-2a04-4128-f560-de0a784f854a"
      },
      "outputs": [
        {
          "name": "stdout",
          "output_type": "stream",
          "text": [
            "(97429, 193)\n"
          ]
        }
      ],
      "source": [
        "print(data.shape)"
      ]
    },
    {
      "cell_type": "code",
      "execution_count": null,
      "metadata": {
        "id": "I21IOSc2cIXS"
      },
      "outputs": [],
      "source": [
        "#df = pd.read_parquet('your_parquet_file.parquet')"
      ]
    },
    {
      "cell_type": "markdown",
      "metadata": {
        "id": "0KEb_Qdd8vJu"
      },
      "source": [
        "There are 97429 records with 193 features in the dataset for the year 2023"
      ]
    },
    {
      "cell_type": "markdown",
      "metadata": {
        "id": "NKr4jPCF_RfD"
      },
      "source": [
        "## Exploratory Data Analysis"
      ]
    },
    {
      "cell_type": "code",
      "execution_count": null,
      "metadata": {
        "id": "cyxovckTZO-_",
        "tags": [],
        "outputId": "c9b66933-fd49-4f80-8f20-0faa5de7eace"
      },
      "outputs": [
        {
          "name": "stdout",
          "output_type": "stream",
          "text": [
            "2511597\n",
            "2511597\n"
          ]
        }
      ],
      "source": [
        "print(data.isna().sum().sum())\n",
        "print(data.isnull().sum().sum())"
      ]
    },
    {
      "cell_type": "code",
      "execution_count": null,
      "metadata": {
        "id": "iwT1uOtUaxip",
        "tags": [],
        "outputId": "d31b2379-6593-4a77-c91b-ba84c6285e09"
      },
      "outputs": [
        {
          "name": "stdout",
          "output_type": "stream",
          "text": [
            "13.356860851029184\n"
          ]
        }
      ],
      "source": [
        "print(data.isnull().sum().sum()/(data.size)*100)"
      ]
    },
    {
      "cell_type": "markdown",
      "metadata": {
        "id": "fQuU04ctbVy0"
      },
      "source": [
        "In data set we have 14.28% total missing values"
      ]
    },
    {
      "cell_type": "code",
      "execution_count": null,
      "metadata": {
        "id": "9EAYvyCicDq6",
        "tags": [],
        "outputId": "7206af37-e674-4682-fc23-fed558ecbadf"
      },
      "outputs": [
        {
          "data": {
            "text/plain": [
              "0"
            ]
          },
          "execution_count": 15,
          "metadata": {},
          "output_type": "execute_result"
        }
      ],
      "source": [
        "data.duplicated().sum()"
      ]
    },
    {
      "cell_type": "code",
      "execution_count": null,
      "metadata": {
        "colab": {
          "base_uri": "https://localhost:8080/",
          "height": 193
        },
        "id": "b7y3x01RZmEE",
        "outputId": "3344c9b5-7c55-4ff1-c568-8ea4a1e1cb60",
        "tags": []
      },
      "outputs": [
        {
          "data": {
            "text/html": [
              "<h3>Missing data in the dataset</h3><div id=\"missing_data\" style=\"height:200px; overflow:auto;\"><table border=\"1\" class=\"dataframe\">\n",
              "  <thead>\n",
              "    <tr style=\"text-align: right;\">\n",
              "      <th></th>\n",
              "      <th>0</th>\n",
              "    </tr>\n",
              "  </thead>\n",
              "  <tbody>\n",
              "    <tr>\n",
              "      <th>HospitalClassification</th>\n",
              "      <td>0</td>\n",
              "    </tr>\n",
              "    <tr>\n",
              "      <th>PublicPrivate</th>\n",
              "      <td>0</td>\n",
              "    </tr>\n",
              "    <tr>\n",
              "      <th>PatientID</th>\n",
              "      <td>0</td>\n",
              "    </tr>\n",
              "    <tr>\n",
              "      <th>IcuAdmFinYr</th>\n",
              "      <td>0</td>\n",
              "    </tr>\n",
              "    <tr>\n",
              "      <th>IcuAdmYYYYMM</th>\n",
              "      <td>0</td>\n",
              "    </tr>\n",
              "    <tr>\n",
              "      <th>IcuAdmYear</th>\n",
              "      <td>0</td>\n",
              "    </tr>\n",
              "    <tr>\n",
              "      <th>IcuAdmMonth</th>\n",
              "      <td>0</td>\n",
              "    </tr>\n",
              "    <tr>\n",
              "      <th>IcuAdmDay</th>\n",
              "      <td>0</td>\n",
              "    </tr>\n",
              "    <tr>\n",
              "      <th>IcuAdmHour</th>\n",
              "      <td>0</td>\n",
              "    </tr>\n",
              "    <tr>\n",
              "      <th>IcuDisYear</th>\n",
              "      <td>137</td>\n",
              "    </tr>\n",
              "    <tr>\n",
              "      <th>IcuDisMonth</th>\n",
              "      <td>137</td>\n",
              "    </tr>\n",
              "    <tr>\n",
              "      <th>IcuDisDay</th>\n",
              "      <td>137</td>\n",
              "    </tr>\n",
              "    <tr>\n",
              "      <th>IcuDisHour</th>\n",
              "      <td>137</td>\n",
              "    </tr>\n",
              "    <tr>\n",
              "      <th>hosp_srce</th>\n",
              "      <td>449</td>\n",
              "    </tr>\n",
              "    <tr>\n",
              "      <th>hosp_outcm</th>\n",
              "      <td>251</td>\n",
              "    </tr>\n",
              "    <tr>\n",
              "      <th>hosp_hrs</th>\n",
              "      <td>359</td>\n",
              "    </tr>\n",
              "    <tr>\n",
              "      <th>sex</th>\n",
              "      <td>28</td>\n",
              "    </tr>\n",
              "    <tr>\n",
              "      <th>icu_srce</th>\n",
              "      <td>1</td>\n",
              "    </tr>\n",
              "    <tr>\n",
              "      <th>icu_hrs</th>\n",
              "      <td>137</td>\n",
              "    </tr>\n",
              "    <tr>\n",
              "      <th>pre_icu_hrs</th>\n",
              "      <td>67</td>\n",
              "    </tr>\n",
              "    <tr>\n",
              "      <th>discharge_delay_hrs</th>\n",
              "      <td>15828</td>\n",
              "    </tr>\n",
              "    <tr>\n",
              "      <th>readmission_lag_hrs</th>\n",
              "      <td>93279</td>\n",
              "    </tr>\n",
              "    <tr>\n",
              "      <th>icu_outcm</th>\n",
              "      <td>162</td>\n",
              "    </tr>\n",
              "    <tr>\n",
              "      <th>readmitted</th>\n",
              "      <td>0</td>\n",
              "    </tr>\n",
              "    <tr>\n",
              "      <th>died_icu</th>\n",
              "      <td>162</td>\n",
              "    </tr>\n",
              "    <tr>\n",
              "      <th>died_hosp</th>\n",
              "      <td>251</td>\n",
              "    </tr>\n",
              "    <tr>\n",
              "      <th>PostIcuHrs</th>\n",
              "      <td>454</td>\n",
              "    </tr>\n",
              "    <tr>\n",
              "      <th>HospAdmYear</th>\n",
              "      <td>0</td>\n",
              "    </tr>\n",
              "    <tr>\n",
              "      <th>HospAdmMonth</th>\n",
              "      <td>0</td>\n",
              "    </tr>\n",
              "    <tr>\n",
              "      <th>HospAdmDay</th>\n",
              "      <td>0</td>\n",
              "    </tr>\n",
              "    <tr>\n",
              "      <th>HospAdmHour</th>\n",
              "      <td>0</td>\n",
              "    </tr>\n",
              "    <tr>\n",
              "      <th>HospDisYear</th>\n",
              "      <td>359</td>\n",
              "    </tr>\n",
              "    <tr>\n",
              "      <th>HospDisMonth</th>\n",
              "      <td>359</td>\n",
              "    </tr>\n",
              "    <tr>\n",
              "      <th>HospDisDay</th>\n",
              "      <td>359</td>\n",
              "    </tr>\n",
              "    <tr>\n",
              "      <th>HospDisHour</th>\n",
              "      <td>359</td>\n",
              "    </tr>\n",
              "    <tr>\n",
              "      <th>age</th>\n",
              "      <td>0</td>\n",
              "    </tr>\n",
              "    <tr>\n",
              "      <th>elect</th>\n",
              "      <td>391</td>\n",
              "    </tr>\n",
              "    <tr>\n",
              "      <th>chr_resp</th>\n",
              "      <td>259</td>\n",
              "    </tr>\n",
              "    <tr>\n",
              "      <th>chr_cvs</th>\n",
              "      <td>259</td>\n",
              "    </tr>\n",
              "    <tr>\n",
              "      <th>chr_liv</th>\n",
              "      <td>259</td>\n",
              "    </tr>\n",
              "    <tr>\n",
              "      <th>chr_ren</th>\n",
              "      <td>259</td>\n",
              "    </tr>\n",
              "    <tr>\n",
              "      <th>immundis</th>\n",
              "      <td>259</td>\n",
              "    </tr>\n",
              "    <tr>\n",
              "      <th>immunrx</th>\n",
              "      <td>259</td>\n",
              "    </tr>\n",
              "    <tr>\n",
              "      <th>aids</th>\n",
              "      <td>120</td>\n",
              "    </tr>\n",
              "    <tr>\n",
              "      <th>hepfail</th>\n",
              "      <td>120</td>\n",
              "    </tr>\n",
              "    <tr>\n",
              "      <th>lymphoma</th>\n",
              "      <td>120</td>\n",
              "    </tr>\n",
              "    <tr>\n",
              "      <th>metast</th>\n",
              "      <td>120</td>\n",
              "    </tr>\n",
              "    <tr>\n",
              "      <th>leukaem</th>\n",
              "      <td>120</td>\n",
              "    </tr>\n",
              "    <tr>\n",
              "      <th>immunsup</th>\n",
              "      <td>120</td>\n",
              "    </tr>\n",
              "    <tr>\n",
              "      <th>cirrhos</th>\n",
              "      <td>120</td>\n",
              "    </tr>\n",
              "    <tr>\n",
              "      <th>iddm</th>\n",
              "      <td>97429</td>\n",
              "    </tr>\n",
              "    <tr>\n",
              "      <th>DIABETES</th>\n",
              "      <td>7789</td>\n",
              "    </tr>\n",
              "    <tr>\n",
              "      <th>caretype</th>\n",
              "      <td>4</td>\n",
              "    </tr>\n",
              "    <tr>\n",
              "      <th>weight</th>\n",
              "      <td>31058</td>\n",
              "    </tr>\n",
              "    <tr>\n",
              "      <th>height</th>\n",
              "      <td>39351</td>\n",
              "    </tr>\n",
              "    <tr>\n",
              "      <th>preg_stat</th>\n",
              "      <td>79445</td>\n",
              "    </tr>\n",
              "    <tr>\n",
              "      <th>thrombpro</th>\n",
              "      <td>3851</td>\n",
              "    </tr>\n",
              "    <tr>\n",
              "      <th>emg_rsp_adm</th>\n",
              "      <td>2849</td>\n",
              "    </tr>\n",
              "    <tr>\n",
              "      <th>treat_lmt</th>\n",
              "      <td>31</td>\n",
              "    </tr>\n",
              "    <tr>\n",
              "      <th>cardarrest</th>\n",
              "      <td>2274</td>\n",
              "    </tr>\n",
              "    <tr>\n",
              "      <th>indigenous</th>\n",
              "      <td>3816</td>\n",
              "    </tr>\n",
              "    <tr>\n",
              "      <th>arf</th>\n",
              "      <td>4326</td>\n",
              "    </tr>\n",
              "    <tr>\n",
              "      <th>intubated</th>\n",
              "      <td>13706</td>\n",
              "    </tr>\n",
              "    <tr>\n",
              "      <th>ventilated</th>\n",
              "      <td>381</td>\n",
              "    </tr>\n",
              "    <tr>\n",
              "      <th>gcsverb</th>\n",
              "      <td>2921</td>\n",
              "    </tr>\n",
              "    <tr>\n",
              "      <th>gcsmotor</th>\n",
              "      <td>2907</td>\n",
              "    </tr>\n",
              "    <tr>\n",
              "      <th>gcseye</th>\n",
              "      <td>2909</td>\n",
              "    </tr>\n",
              "    <tr>\n",
              "      <th>gcs</th>\n",
              "      <td>2925</td>\n",
              "    </tr>\n",
              "    <tr>\n",
              "      <th>temp_ap2</th>\n",
              "      <td>97429</td>\n",
              "    </tr>\n",
              "    <tr>\n",
              "      <th>temp_anz</th>\n",
              "      <td>907</td>\n",
              "    </tr>\n",
              "    <tr>\n",
              "      <th>map_ap2</th>\n",
              "      <td>2998</td>\n",
              "    </tr>\n",
              "    <tr>\n",
              "      <th>map_anz</th>\n",
              "      <td>723</td>\n",
              "    </tr>\n",
              "    <tr>\n",
              "      <th>hr_ap2</th>\n",
              "      <td>97429</td>\n",
              "    </tr>\n",
              "    <tr>\n",
              "      <th>hr_anz</th>\n",
              "      <td>716</td>\n",
              "    </tr>\n",
              "    <tr>\n",
              "      <th>rr_ap2</th>\n",
              "      <td>97429</td>\n",
              "    </tr>\n",
              "    <tr>\n",
              "      <th>rr_anz</th>\n",
              "      <td>842</td>\n",
              "    </tr>\n",
              "    <tr>\n",
              "      <th>fio2_ap2</th>\n",
              "      <td>26951</td>\n",
              "    </tr>\n",
              "    <tr>\n",
              "      <th>fio2_anz</th>\n",
              "      <td>26958</td>\n",
              "    </tr>\n",
              "    <tr>\n",
              "      <th>pao2_ap2</th>\n",
              "      <td>27187</td>\n",
              "    </tr>\n",
              "    <tr>\n",
              "      <th>pao2_anz</th>\n",
              "      <td>27133</td>\n",
              "    </tr>\n",
              "    <tr>\n",
              "      <th>paco2_ap2</th>\n",
              "      <td>27176</td>\n",
              "    </tr>\n",
              "    <tr>\n",
              "      <th>paco2_anz</th>\n",
              "      <td>27071</td>\n",
              "    </tr>\n",
              "    <tr>\n",
              "      <th>ph_ap2</th>\n",
              "      <td>27019</td>\n",
              "    </tr>\n",
              "    <tr>\n",
              "      <th>ph_anz</th>\n",
              "      <td>27169</td>\n",
              "    </tr>\n",
              "    <tr>\n",
              "      <th>hco3_ap2</th>\n",
              "      <td>97429</td>\n",
              "    </tr>\n",
              "    <tr>\n",
              "      <th>na_ap2</th>\n",
              "      <td>97429</td>\n",
              "    </tr>\n",
              "    <tr>\n",
              "      <th>na_anz</th>\n",
              "      <td>2848</td>\n",
              "    </tr>\n",
              "    <tr>\n",
              "      <th>k_ap2</th>\n",
              "      <td>97429</td>\n",
              "    </tr>\n",
              "    <tr>\n",
              "      <th>creat_ap2</th>\n",
              "      <td>97429</td>\n",
              "    </tr>\n",
              "    <tr>\n",
              "      <th>creat_anz</th>\n",
              "      <td>4352</td>\n",
              "    </tr>\n",
              "    <tr>\n",
              "      <th>hct_ap2</th>\n",
              "      <td>97429</td>\n",
              "    </tr>\n",
              "    <tr>\n",
              "      <th>hct_anz</th>\n",
              "      <td>5136</td>\n",
              "    </tr>\n",
              "    <tr>\n",
              "      <th>wcc_ap2</th>\n",
              "      <td>97429</td>\n",
              "    </tr>\n",
              "    <tr>\n",
              "      <th>wcc_anz</th>\n",
              "      <td>4244</td>\n",
              "    </tr>\n",
              "    <tr>\n",
              "      <th>urea_anz</th>\n",
              "      <td>5123</td>\n",
              "    </tr>\n",
              "    <tr>\n",
              "      <th>urineop</th>\n",
              "      <td>10644</td>\n",
              "    </tr>\n",
              "    <tr>\n",
              "      <th>albumin_anz</th>\n",
              "      <td>6872</td>\n",
              "    </tr>\n",
              "    <tr>\n",
              "      <th>bili_anz</th>\n",
              "      <td>12924</td>\n",
              "    </tr>\n",
              "    <tr>\n",
              "      <th>glucose_anz</th>\n",
              "      <td>6601</td>\n",
              "    </tr>\n",
              "    <tr>\n",
              "      <th>ap3co2p</th>\n",
              "      <td>97429</td>\n",
              "    </tr>\n",
              "    <tr>\n",
              "      <th>temphi</th>\n",
              "      <td>945</td>\n",
              "    </tr>\n",
              "    <tr>\n",
              "      <th>templo</th>\n",
              "      <td>1077</td>\n",
              "    </tr>\n",
              "    <tr>\n",
              "      <th>hrhi</th>\n",
              "      <td>732</td>\n",
              "    </tr>\n",
              "    <tr>\n",
              "      <th>hrlo</th>\n",
              "      <td>837</td>\n",
              "    </tr>\n",
              "    <tr>\n",
              "      <th>rrhi</th>\n",
              "      <td>851</td>\n",
              "    </tr>\n",
              "    <tr>\n",
              "      <th>rrlo</th>\n",
              "      <td>1062</td>\n",
              "    </tr>\n",
              "    <tr>\n",
              "      <th>systolichi</th>\n",
              "      <td>2462</td>\n",
              "    </tr>\n",
              "    <tr>\n",
              "      <th>systoliclo</th>\n",
              "      <td>2555</td>\n",
              "    </tr>\n",
              "    <tr>\n",
              "      <th>diastolichi</th>\n",
              "      <td>3007</td>\n",
              "    </tr>\n",
              "    <tr>\n",
              "      <th>diastoliclo</th>\n",
              "      <td>3112</td>\n",
              "    </tr>\n",
              "    <tr>\n",
              "      <th>maphi</th>\n",
              "      <td>750</td>\n",
              "    </tr>\n",
              "    <tr>\n",
              "      <th>maplo</th>\n",
              "      <td>853</td>\n",
              "    </tr>\n",
              "    <tr>\n",
              "      <th>nahi</th>\n",
              "      <td>2879</td>\n",
              "    </tr>\n",
              "    <tr>\n",
              "      <th>nalo</th>\n",
              "      <td>5902</td>\n",
              "    </tr>\n",
              "    <tr>\n",
              "      <th>khi</th>\n",
              "      <td>3027</td>\n",
              "    </tr>\n",
              "    <tr>\n",
              "      <th>klo</th>\n",
              "      <td>6015</td>\n",
              "    </tr>\n",
              "    <tr>\n",
              "      <th>hco3hi</th>\n",
              "      <td>5757</td>\n",
              "    </tr>\n",
              "    <tr>\n",
              "      <th>hco3lo</th>\n",
              "      <td>8715</td>\n",
              "    </tr>\n",
              "    <tr>\n",
              "      <th>creathi</th>\n",
              "      <td>4378</td>\n",
              "    </tr>\n",
              "    <tr>\n",
              "      <th>creatlo</th>\n",
              "      <td>7811</td>\n",
              "    </tr>\n",
              "    <tr>\n",
              "      <th>hcthi</th>\n",
              "      <td>5211</td>\n",
              "    </tr>\n",
              "    <tr>\n",
              "      <th>hctlo</th>\n",
              "      <td>8646</td>\n",
              "    </tr>\n",
              "    <tr>\n",
              "      <th>hmgnhi</th>\n",
              "      <td>3450</td>\n",
              "    </tr>\n",
              "    <tr>\n",
              "      <th>hmgnlo</th>\n",
              "      <td>6514</td>\n",
              "    </tr>\n",
              "    <tr>\n",
              "      <th>wcchi</th>\n",
              "      <td>4276</td>\n",
              "    </tr>\n",
              "    <tr>\n",
              "      <th>wcclo</th>\n",
              "      <td>7991</td>\n",
              "    </tr>\n",
              "    <tr>\n",
              "      <th>plathi</th>\n",
              "      <td>4509</td>\n",
              "    </tr>\n",
              "    <tr>\n",
              "      <th>platlo</th>\n",
              "      <td>8229</td>\n",
              "    </tr>\n",
              "    <tr>\n",
              "      <th>gluchi</th>\n",
              "      <td>6677</td>\n",
              "    </tr>\n",
              "    <tr>\n",
              "      <th>gluclo</th>\n",
              "      <td>8622</td>\n",
              "    </tr>\n",
              "    <tr>\n",
              "      <th>LACTATE</th>\n",
              "      <td>16600</td>\n",
              "    </tr>\n",
              "    <tr>\n",
              "      <th>ap3diag</th>\n",
              "      <td>175</td>\n",
              "    </tr>\n",
              "    <tr>\n",
              "      <th>AP3_SUBCODE</th>\n",
              "      <td>8933</td>\n",
              "    </tr>\n",
              "    <tr>\n",
              "      <th>cabg_graft</th>\n",
              "      <td>91981</td>\n",
              "    </tr>\n",
              "    <tr>\n",
              "      <th>cabg_redo</th>\n",
              "      <td>89231</td>\n",
              "    </tr>\n",
              "    <tr>\n",
              "      <th>thromb_therapy</th>\n",
              "      <td>93221</td>\n",
              "    </tr>\n",
              "    <tr>\n",
              "      <th>admepisode</th>\n",
              "      <td>0</td>\n",
              "    </tr>\n",
              "    <tr>\n",
              "      <th>apache3riskofdeath</th>\n",
              "      <td>291</td>\n",
              "    </tr>\n",
              "    <tr>\n",
              "      <th>apache3score</th>\n",
              "      <td>137</td>\n",
              "    </tr>\n",
              "    <tr>\n",
              "      <th>apache3isincluded</th>\n",
              "      <td>0</td>\n",
              "    </tr>\n",
              "    <tr>\n",
              "      <th>apache3issmr</th>\n",
              "      <td>0</td>\n",
              "    </tr>\n",
              "    <tr>\n",
              "      <th>anzrod15riskofdeath</th>\n",
              "      <td>137</td>\n",
              "    </tr>\n",
              "    <tr>\n",
              "      <th>anzrod20riskofdeath</th>\n",
              "      <td>137</td>\n",
              "    </tr>\n",
              "    <tr>\n",
              "      <th>anzrodisincluded</th>\n",
              "      <td>0</td>\n",
              "    </tr>\n",
              "    <tr>\n",
              "      <th>anzrodissmr</th>\n",
              "      <td>0</td>\n",
              "    </tr>\n",
              "    <tr>\n",
              "      <th>agescore</th>\n",
              "      <td>0</td>\n",
              "    </tr>\n",
              "    <tr>\n",
              "      <th>albuminscore</th>\n",
              "      <td>0</td>\n",
              "    </tr>\n",
              "    <tr>\n",
              "      <th>bilirubinscore</th>\n",
              "      <td>0</td>\n",
              "    </tr>\n",
              "    <tr>\n",
              "      <th>creatininescore</th>\n",
              "      <td>0</td>\n",
              "    </tr>\n",
              "    <tr>\n",
              "      <th>glucosescore</th>\n",
              "      <td>0</td>\n",
              "    </tr>\n",
              "    <tr>\n",
              "      <th>haematocritscore</th>\n",
              "      <td>0</td>\n",
              "    </tr>\n",
              "    <tr>\n",
              "      <th>heartratescore</th>\n",
              "      <td>0</td>\n",
              "    </tr>\n",
              "    <tr>\n",
              "      <th>meanarterialpressurescore</th>\n",
              "      <td>0</td>\n",
              "    </tr>\n",
              "    <tr>\n",
              "      <th>sodiumscore</th>\n",
              "      <td>0</td>\n",
              "    </tr>\n",
              "    <tr>\n",
              "      <th>neurologicalscore</th>\n",
              "      <td>0</td>\n",
              "    </tr>\n",
              "    <tr>\n",
              "      <th>oxygenationscore</th>\n",
              "      <td>0</td>\n",
              "    </tr>\n",
              "    <tr>\n",
              "      <th>phscore</th>\n",
              "      <td>0</td>\n",
              "    </tr>\n",
              "    <tr>\n",
              "      <th>respiratoryratescore</th>\n",
              "      <td>0</td>\n",
              "    </tr>\n",
              "    <tr>\n",
              "      <th>temperaturescore</th>\n",
              "      <td>0</td>\n",
              "    </tr>\n",
              "    <tr>\n",
              "      <th>ureascore</th>\n",
              "      <td>0</td>\n",
              "    </tr>\n",
              "    <tr>\n",
              "      <th>urineoutputscore</th>\n",
              "      <td>0</td>\n",
              "    </tr>\n",
              "    <tr>\n",
              "      <th>whitecellcountscore</th>\n",
              "      <td>0</td>\n",
              "    </tr>\n",
              "    <tr>\n",
              "      <th>apache2score</th>\n",
              "      <td>137</td>\n",
              "    </tr>\n",
              "    <tr>\n",
              "      <th>COVID_pneumonitis_derived</th>\n",
              "      <td>0</td>\n",
              "    </tr>\n",
              "    <tr>\n",
              "      <th>apachegroup_derived</th>\n",
              "      <td>0</td>\n",
              "    </tr>\n",
              "    <tr>\n",
              "      <th>RegistryDateOfDeath</th>\n",
              "      <td>88189</td>\n",
              "    </tr>\n",
              "    <tr>\n",
              "      <th>DPostCode</th>\n",
              "      <td>203</td>\n",
              "    </tr>\n",
              "    <tr>\n",
              "      <th>DSLK581</th>\n",
              "      <td>145</td>\n",
              "    </tr>\n",
              "    <tr>\n",
              "      <th>SofaScore</th>\n",
              "      <td>0</td>\n",
              "    </tr>\n",
              "    <tr>\n",
              "      <th>DSiteID</th>\n",
              "      <td>0</td>\n",
              "    </tr>\n",
              "    <tr>\n",
              "      <th>IRSDScore</th>\n",
              "      <td>5815</td>\n",
              "    </tr>\n",
              "    <tr>\n",
              "      <th>IRSDDecile</th>\n",
              "      <td>5815</td>\n",
              "    </tr>\n",
              "    <tr>\n",
              "      <th>IRSADScore</th>\n",
              "      <td>5815</td>\n",
              "    </tr>\n",
              "    <tr>\n",
              "      <th>IRSADDecile</th>\n",
              "      <td>5815</td>\n",
              "    </tr>\n",
              "    <tr>\n",
              "      <th>IERScore</th>\n",
              "      <td>5815</td>\n",
              "    </tr>\n",
              "    <tr>\n",
              "      <th>IERDecile</th>\n",
              "      <td>5815</td>\n",
              "    </tr>\n",
              "    <tr>\n",
              "      <th>IEOScore</th>\n",
              "      <td>5815</td>\n",
              "    </tr>\n",
              "    <tr>\n",
              "      <th>IEODecile</th>\n",
              "      <td>5815</td>\n",
              "    </tr>\n",
              "    <tr>\n",
              "      <th>PLAN_ICU</th>\n",
              "      <td>22</td>\n",
              "    </tr>\n",
              "    <tr>\n",
              "      <th>ELECT_SURG</th>\n",
              "      <td>369</td>\n",
              "    </tr>\n",
              "    <tr>\n",
              "      <th>DELIRIUM</th>\n",
              "      <td>20989</td>\n",
              "    </tr>\n",
              "    <tr>\n",
              "      <th>FRAILTY</th>\n",
              "      <td>11394</td>\n",
              "    </tr>\n",
              "    <tr>\n",
              "      <th>PRESS_INJ</th>\n",
              "      <td>14480</td>\n",
              "    </tr>\n",
              "    <tr>\n",
              "      <th>INV_DAYONE</th>\n",
              "      <td>1021</td>\n",
              "    </tr>\n",
              "    <tr>\n",
              "      <th>INV_HOURS</th>\n",
              "      <td>44460</td>\n",
              "    </tr>\n",
              "    <tr>\n",
              "      <th>INV_IND</th>\n",
              "      <td>6413</td>\n",
              "    </tr>\n",
              "    <tr>\n",
              "      <th>NIV_HOURS</th>\n",
              "      <td>47344</td>\n",
              "    </tr>\n",
              "    <tr>\n",
              "      <th>NIV_IND</th>\n",
              "      <td>7037</td>\n",
              "    </tr>\n",
              "    <tr>\n",
              "      <th>ECMO_IND</th>\n",
              "      <td>7296</td>\n",
              "    </tr>\n",
              "    <tr>\n",
              "      <th>INOTROP_IND</th>\n",
              "      <td>6345</td>\n",
              "    </tr>\n",
              "    <tr>\n",
              "      <th>RENAL_IND</th>\n",
              "      <td>7129</td>\n",
              "    </tr>\n",
              "    <tr>\n",
              "      <th>TRACHE_IND</th>\n",
              "      <td>7467</td>\n",
              "    </tr>\n",
              "    <tr>\n",
              "      <th>PREG_GESTWK</th>\n",
              "      <td>96889</td>\n",
              "    </tr>\n",
              "  </tbody>\n",
              "</table></div>"
            ],
            "text/plain": [
              "<IPython.core.display.HTML object>"
            ]
          },
          "metadata": {},
          "output_type": "display_data"
        }
      ],
      "source": [
        "#checking for missing values in columns in data, Not checking other columns as the data is case based only the\n",
        "missing_data = data.isna().sum()\n",
        "html_missing_data = create_scrollable_table(missing_data.to_frame(), 'missing_data', 'Missing data in the dataset')\n",
        "display(HTML(html_missing_data))"
      ]
    },
    {
      "cell_type": "code",
      "execution_count": null,
      "metadata": {
        "id": "P9KgJfIZQE0I",
        "tags": [],
        "outputId": "656cbea9-ef03-4776-ebc0-d65945faf5b1"
      },
      "outputs": [
        {
          "data": {
            "text/html": [
              "<h3>Different data types in the dataset</h3><div id=\"datatypes\" style=\"height:200px; overflow:auto;\"><table border=\"1\" class=\"dataframe\">\n",
              "  <thead>\n",
              "    <tr style=\"text-align: right;\">\n",
              "      <th></th>\n",
              "      <th>0</th>\n",
              "    </tr>\n",
              "  </thead>\n",
              "  <tbody>\n",
              "    <tr>\n",
              "      <th>HospitalClassification</th>\n",
              "      <td>category</td>\n",
              "    </tr>\n",
              "    <tr>\n",
              "      <th>PublicPrivate</th>\n",
              "      <td>category</td>\n",
              "    </tr>\n",
              "    <tr>\n",
              "      <th>PatientID</th>\n",
              "      <td>object</td>\n",
              "    </tr>\n",
              "    <tr>\n",
              "      <th>IcuAdmFinYr</th>\n",
              "      <td>object</td>\n",
              "    </tr>\n",
              "    <tr>\n",
              "      <th>IcuAdmYYYYMM</th>\n",
              "      <td>int64</td>\n",
              "    </tr>\n",
              "    <tr>\n",
              "      <th>IcuAdmYear</th>\n",
              "      <td>int64</td>\n",
              "    </tr>\n",
              "    <tr>\n",
              "      <th>IcuAdmMonth</th>\n",
              "      <td>int64</td>\n",
              "    </tr>\n",
              "    <tr>\n",
              "      <th>IcuAdmDay</th>\n",
              "      <td>int64</td>\n",
              "    </tr>\n",
              "    <tr>\n",
              "      <th>IcuAdmHour</th>\n",
              "      <td>int64</td>\n",
              "    </tr>\n",
              "    <tr>\n",
              "      <th>IcuDisYear</th>\n",
              "      <td>float64</td>\n",
              "    </tr>\n",
              "    <tr>\n",
              "      <th>IcuDisMonth</th>\n",
              "      <td>float64</td>\n",
              "    </tr>\n",
              "    <tr>\n",
              "      <th>IcuDisDay</th>\n",
              "      <td>float64</td>\n",
              "    </tr>\n",
              "    <tr>\n",
              "      <th>IcuDisHour</th>\n",
              "      <td>float64</td>\n",
              "    </tr>\n",
              "    <tr>\n",
              "      <th>hosp_srce</th>\n",
              "      <td>float64</td>\n",
              "    </tr>\n",
              "    <tr>\n",
              "      <th>hosp_outcm</th>\n",
              "      <td>float64</td>\n",
              "    </tr>\n",
              "    <tr>\n",
              "      <th>hosp_hrs</th>\n",
              "      <td>float64</td>\n",
              "    </tr>\n",
              "    <tr>\n",
              "      <th>sex</th>\n",
              "      <td>object</td>\n",
              "    </tr>\n",
              "    <tr>\n",
              "      <th>icu_srce</th>\n",
              "      <td>float64</td>\n",
              "    </tr>\n",
              "    <tr>\n",
              "      <th>icu_hrs</th>\n",
              "      <td>float64</td>\n",
              "    </tr>\n",
              "    <tr>\n",
              "      <th>pre_icu_hrs</th>\n",
              "      <td>float64</td>\n",
              "    </tr>\n",
              "    <tr>\n",
              "      <th>discharge_delay_hrs</th>\n",
              "      <td>float64</td>\n",
              "    </tr>\n",
              "    <tr>\n",
              "      <th>readmission_lag_hrs</th>\n",
              "      <td>float64</td>\n",
              "    </tr>\n",
              "    <tr>\n",
              "      <th>icu_outcm</th>\n",
              "      <td>float64</td>\n",
              "    </tr>\n",
              "    <tr>\n",
              "      <th>readmitted</th>\n",
              "      <td>int64</td>\n",
              "    </tr>\n",
              "    <tr>\n",
              "      <th>died_icu</th>\n",
              "      <td>float64</td>\n",
              "    </tr>\n",
              "    <tr>\n",
              "      <th>died_hosp</th>\n",
              "      <td>float64</td>\n",
              "    </tr>\n",
              "    <tr>\n",
              "      <th>PostIcuHrs</th>\n",
              "      <td>float64</td>\n",
              "    </tr>\n",
              "    <tr>\n",
              "      <th>HospAdmYear</th>\n",
              "      <td>float64</td>\n",
              "    </tr>\n",
              "    <tr>\n",
              "      <th>HospAdmMonth</th>\n",
              "      <td>float64</td>\n",
              "    </tr>\n",
              "    <tr>\n",
              "      <th>HospAdmDay</th>\n",
              "      <td>float64</td>\n",
              "    </tr>\n",
              "    <tr>\n",
              "      <th>HospAdmHour</th>\n",
              "      <td>float64</td>\n",
              "    </tr>\n",
              "    <tr>\n",
              "      <th>HospDisYear</th>\n",
              "      <td>float64</td>\n",
              "    </tr>\n",
              "    <tr>\n",
              "      <th>HospDisMonth</th>\n",
              "      <td>float64</td>\n",
              "    </tr>\n",
              "    <tr>\n",
              "      <th>HospDisDay</th>\n",
              "      <td>float64</td>\n",
              "    </tr>\n",
              "    <tr>\n",
              "      <th>HospDisHour</th>\n",
              "      <td>float64</td>\n",
              "    </tr>\n",
              "    <tr>\n",
              "      <th>age</th>\n",
              "      <td>int64</td>\n",
              "    </tr>\n",
              "    <tr>\n",
              "      <th>elect</th>\n",
              "      <td>float64</td>\n",
              "    </tr>\n",
              "    <tr>\n",
              "      <th>chr_resp</th>\n",
              "      <td>float64</td>\n",
              "    </tr>\n",
              "    <tr>\n",
              "      <th>chr_cvs</th>\n",
              "      <td>float64</td>\n",
              "    </tr>\n",
              "    <tr>\n",
              "      <th>chr_liv</th>\n",
              "      <td>float64</td>\n",
              "    </tr>\n",
              "    <tr>\n",
              "      <th>chr_ren</th>\n",
              "      <td>float64</td>\n",
              "    </tr>\n",
              "    <tr>\n",
              "      <th>immundis</th>\n",
              "      <td>float64</td>\n",
              "    </tr>\n",
              "    <tr>\n",
              "      <th>immunrx</th>\n",
              "      <td>float64</td>\n",
              "    </tr>\n",
              "    <tr>\n",
              "      <th>aids</th>\n",
              "      <td>float64</td>\n",
              "    </tr>\n",
              "    <tr>\n",
              "      <th>hepfail</th>\n",
              "      <td>float64</td>\n",
              "    </tr>\n",
              "    <tr>\n",
              "      <th>lymphoma</th>\n",
              "      <td>float64</td>\n",
              "    </tr>\n",
              "    <tr>\n",
              "      <th>metast</th>\n",
              "      <td>float64</td>\n",
              "    </tr>\n",
              "    <tr>\n",
              "      <th>leukaem</th>\n",
              "      <td>float64</td>\n",
              "    </tr>\n",
              "    <tr>\n",
              "      <th>immunsup</th>\n",
              "      <td>float64</td>\n",
              "    </tr>\n",
              "    <tr>\n",
              "      <th>cirrhos</th>\n",
              "      <td>float64</td>\n",
              "    </tr>\n",
              "    <tr>\n",
              "      <th>iddm</th>\n",
              "      <td>float64</td>\n",
              "    </tr>\n",
              "    <tr>\n",
              "      <th>DIABETES</th>\n",
              "      <td>float64</td>\n",
              "    </tr>\n",
              "    <tr>\n",
              "      <th>caretype</th>\n",
              "      <td>float64</td>\n",
              "    </tr>\n",
              "    <tr>\n",
              "      <th>weight</th>\n",
              "      <td>float64</td>\n",
              "    </tr>\n",
              "    <tr>\n",
              "      <th>height</th>\n",
              "      <td>float64</td>\n",
              "    </tr>\n",
              "    <tr>\n",
              "      <th>preg_stat</th>\n",
              "      <td>float64</td>\n",
              "    </tr>\n",
              "    <tr>\n",
              "      <th>thrombpro</th>\n",
              "      <td>float64</td>\n",
              "    </tr>\n",
              "    <tr>\n",
              "      <th>emg_rsp_adm</th>\n",
              "      <td>float64</td>\n",
              "    </tr>\n",
              "    <tr>\n",
              "      <th>treat_lmt</th>\n",
              "      <td>float64</td>\n",
              "    </tr>\n",
              "    <tr>\n",
              "      <th>cardarrest</th>\n",
              "      <td>float64</td>\n",
              "    </tr>\n",
              "    <tr>\n",
              "      <th>indigenous</th>\n",
              "      <td>float64</td>\n",
              "    </tr>\n",
              "    <tr>\n",
              "      <th>arf</th>\n",
              "      <td>float64</td>\n",
              "    </tr>\n",
              "    <tr>\n",
              "      <th>intubated</th>\n",
              "      <td>float64</td>\n",
              "    </tr>\n",
              "    <tr>\n",
              "      <th>ventilated</th>\n",
              "      <td>float64</td>\n",
              "    </tr>\n",
              "    <tr>\n",
              "      <th>gcsverb</th>\n",
              "      <td>float64</td>\n",
              "    </tr>\n",
              "    <tr>\n",
              "      <th>gcsmotor</th>\n",
              "      <td>float64</td>\n",
              "    </tr>\n",
              "    <tr>\n",
              "      <th>gcseye</th>\n",
              "      <td>float64</td>\n",
              "    </tr>\n",
              "    <tr>\n",
              "      <th>gcs</th>\n",
              "      <td>float64</td>\n",
              "    </tr>\n",
              "    <tr>\n",
              "      <th>temp_ap2</th>\n",
              "      <td>float64</td>\n",
              "    </tr>\n",
              "    <tr>\n",
              "      <th>temp_anz</th>\n",
              "      <td>float64</td>\n",
              "    </tr>\n",
              "    <tr>\n",
              "      <th>map_ap2</th>\n",
              "      <td>float64</td>\n",
              "    </tr>\n",
              "    <tr>\n",
              "      <th>map_anz</th>\n",
              "      <td>float64</td>\n",
              "    </tr>\n",
              "    <tr>\n",
              "      <th>hr_ap2</th>\n",
              "      <td>float64</td>\n",
              "    </tr>\n",
              "    <tr>\n",
              "      <th>hr_anz</th>\n",
              "      <td>float64</td>\n",
              "    </tr>\n",
              "    <tr>\n",
              "      <th>rr_ap2</th>\n",
              "      <td>float64</td>\n",
              "    </tr>\n",
              "    <tr>\n",
              "      <th>rr_anz</th>\n",
              "      <td>float64</td>\n",
              "    </tr>\n",
              "    <tr>\n",
              "      <th>fio2_ap2</th>\n",
              "      <td>float64</td>\n",
              "    </tr>\n",
              "    <tr>\n",
              "      <th>fio2_anz</th>\n",
              "      <td>float64</td>\n",
              "    </tr>\n",
              "    <tr>\n",
              "      <th>pao2_ap2</th>\n",
              "      <td>float64</td>\n",
              "    </tr>\n",
              "    <tr>\n",
              "      <th>pao2_anz</th>\n",
              "      <td>float64</td>\n",
              "    </tr>\n",
              "    <tr>\n",
              "      <th>paco2_ap2</th>\n",
              "      <td>float64</td>\n",
              "    </tr>\n",
              "    <tr>\n",
              "      <th>paco2_anz</th>\n",
              "      <td>float64</td>\n",
              "    </tr>\n",
              "    <tr>\n",
              "      <th>ph_ap2</th>\n",
              "      <td>float64</td>\n",
              "    </tr>\n",
              "    <tr>\n",
              "      <th>ph_anz</th>\n",
              "      <td>float64</td>\n",
              "    </tr>\n",
              "    <tr>\n",
              "      <th>hco3_ap2</th>\n",
              "      <td>float64</td>\n",
              "    </tr>\n",
              "    <tr>\n",
              "      <th>na_ap2</th>\n",
              "      <td>float64</td>\n",
              "    </tr>\n",
              "    <tr>\n",
              "      <th>na_anz</th>\n",
              "      <td>float64</td>\n",
              "    </tr>\n",
              "    <tr>\n",
              "      <th>k_ap2</th>\n",
              "      <td>float64</td>\n",
              "    </tr>\n",
              "    <tr>\n",
              "      <th>creat_ap2</th>\n",
              "      <td>float64</td>\n",
              "    </tr>\n",
              "    <tr>\n",
              "      <th>creat_anz</th>\n",
              "      <td>float64</td>\n",
              "    </tr>\n",
              "    <tr>\n",
              "      <th>hct_ap2</th>\n",
              "      <td>float64</td>\n",
              "    </tr>\n",
              "    <tr>\n",
              "      <th>hct_anz</th>\n",
              "      <td>float64</td>\n",
              "    </tr>\n",
              "    <tr>\n",
              "      <th>wcc_ap2</th>\n",
              "      <td>float64</td>\n",
              "    </tr>\n",
              "    <tr>\n",
              "      <th>wcc_anz</th>\n",
              "      <td>float64</td>\n",
              "    </tr>\n",
              "    <tr>\n",
              "      <th>urea_anz</th>\n",
              "      <td>float64</td>\n",
              "    </tr>\n",
              "    <tr>\n",
              "      <th>urineop</th>\n",
              "      <td>float64</td>\n",
              "    </tr>\n",
              "    <tr>\n",
              "      <th>albumin_anz</th>\n",
              "      <td>float64</td>\n",
              "    </tr>\n",
              "    <tr>\n",
              "      <th>bili_anz</th>\n",
              "      <td>float64</td>\n",
              "    </tr>\n",
              "    <tr>\n",
              "      <th>glucose_anz</th>\n",
              "      <td>float64</td>\n",
              "    </tr>\n",
              "    <tr>\n",
              "      <th>ap3co2p</th>\n",
              "      <td>float64</td>\n",
              "    </tr>\n",
              "    <tr>\n",
              "      <th>temphi</th>\n",
              "      <td>float64</td>\n",
              "    </tr>\n",
              "    <tr>\n",
              "      <th>templo</th>\n",
              "      <td>float64</td>\n",
              "    </tr>\n",
              "    <tr>\n",
              "      <th>hrhi</th>\n",
              "      <td>float64</td>\n",
              "    </tr>\n",
              "    <tr>\n",
              "      <th>hrlo</th>\n",
              "      <td>float64</td>\n",
              "    </tr>\n",
              "    <tr>\n",
              "      <th>rrhi</th>\n",
              "      <td>float64</td>\n",
              "    </tr>\n",
              "    <tr>\n",
              "      <th>rrlo</th>\n",
              "      <td>float64</td>\n",
              "    </tr>\n",
              "    <tr>\n",
              "      <th>systolichi</th>\n",
              "      <td>float64</td>\n",
              "    </tr>\n",
              "    <tr>\n",
              "      <th>systoliclo</th>\n",
              "      <td>float64</td>\n",
              "    </tr>\n",
              "    <tr>\n",
              "      <th>diastolichi</th>\n",
              "      <td>float64</td>\n",
              "    </tr>\n",
              "    <tr>\n",
              "      <th>diastoliclo</th>\n",
              "      <td>float64</td>\n",
              "    </tr>\n",
              "    <tr>\n",
              "      <th>maphi</th>\n",
              "      <td>float64</td>\n",
              "    </tr>\n",
              "    <tr>\n",
              "      <th>maplo</th>\n",
              "      <td>float64</td>\n",
              "    </tr>\n",
              "    <tr>\n",
              "      <th>nahi</th>\n",
              "      <td>float64</td>\n",
              "    </tr>\n",
              "    <tr>\n",
              "      <th>nalo</th>\n",
              "      <td>float64</td>\n",
              "    </tr>\n",
              "    <tr>\n",
              "      <th>khi</th>\n",
              "      <td>float64</td>\n",
              "    </tr>\n",
              "    <tr>\n",
              "      <th>klo</th>\n",
              "      <td>float64</td>\n",
              "    </tr>\n",
              "    <tr>\n",
              "      <th>hco3hi</th>\n",
              "      <td>float64</td>\n",
              "    </tr>\n",
              "    <tr>\n",
              "      <th>hco3lo</th>\n",
              "      <td>float64</td>\n",
              "    </tr>\n",
              "    <tr>\n",
              "      <th>creathi</th>\n",
              "      <td>float64</td>\n",
              "    </tr>\n",
              "    <tr>\n",
              "      <th>creatlo</th>\n",
              "      <td>float64</td>\n",
              "    </tr>\n",
              "    <tr>\n",
              "      <th>hcthi</th>\n",
              "      <td>float64</td>\n",
              "    </tr>\n",
              "    <tr>\n",
              "      <th>hctlo</th>\n",
              "      <td>float64</td>\n",
              "    </tr>\n",
              "    <tr>\n",
              "      <th>hmgnhi</th>\n",
              "      <td>float64</td>\n",
              "    </tr>\n",
              "    <tr>\n",
              "      <th>hmgnlo</th>\n",
              "      <td>float64</td>\n",
              "    </tr>\n",
              "    <tr>\n",
              "      <th>wcchi</th>\n",
              "      <td>float64</td>\n",
              "    </tr>\n",
              "    <tr>\n",
              "      <th>wcclo</th>\n",
              "      <td>float64</td>\n",
              "    </tr>\n",
              "    <tr>\n",
              "      <th>plathi</th>\n",
              "      <td>float64</td>\n",
              "    </tr>\n",
              "    <tr>\n",
              "      <th>platlo</th>\n",
              "      <td>float64</td>\n",
              "    </tr>\n",
              "    <tr>\n",
              "      <th>gluchi</th>\n",
              "      <td>float64</td>\n",
              "    </tr>\n",
              "    <tr>\n",
              "      <th>gluclo</th>\n",
              "      <td>float64</td>\n",
              "    </tr>\n",
              "    <tr>\n",
              "      <th>LACTATE</th>\n",
              "      <td>float64</td>\n",
              "    </tr>\n",
              "    <tr>\n",
              "      <th>ap3diag</th>\n",
              "      <td>float64</td>\n",
              "    </tr>\n",
              "    <tr>\n",
              "      <th>AP3_SUBCODE</th>\n",
              "      <td>float64</td>\n",
              "    </tr>\n",
              "    <tr>\n",
              "      <th>cabg_graft</th>\n",
              "      <td>float64</td>\n",
              "    </tr>\n",
              "    <tr>\n",
              "      <th>cabg_redo</th>\n",
              "      <td>float64</td>\n",
              "    </tr>\n",
              "    <tr>\n",
              "      <th>thromb_therapy</th>\n",
              "      <td>float64</td>\n",
              "    </tr>\n",
              "    <tr>\n",
              "      <th>admepisode</th>\n",
              "      <td>int64</td>\n",
              "    </tr>\n",
              "    <tr>\n",
              "      <th>apache3riskofdeath</th>\n",
              "      <td>float64</td>\n",
              "    </tr>\n",
              "    <tr>\n",
              "      <th>apache3score</th>\n",
              "      <td>float64</td>\n",
              "    </tr>\n",
              "    <tr>\n",
              "      <th>apache3isincluded</th>\n",
              "      <td>int64</td>\n",
              "    </tr>\n",
              "    <tr>\n",
              "      <th>apache3issmr</th>\n",
              "      <td>int64</td>\n",
              "    </tr>\n",
              "    <tr>\n",
              "      <th>anzrod15riskofdeath</th>\n",
              "      <td>float64</td>\n",
              "    </tr>\n",
              "    <tr>\n",
              "      <th>anzrod20riskofdeath</th>\n",
              "      <td>float64</td>\n",
              "    </tr>\n",
              "    <tr>\n",
              "      <th>anzrodisincluded</th>\n",
              "      <td>int64</td>\n",
              "    </tr>\n",
              "    <tr>\n",
              "      <th>anzrodissmr</th>\n",
              "      <td>int64</td>\n",
              "    </tr>\n",
              "    <tr>\n",
              "      <th>agescore</th>\n",
              "      <td>int64</td>\n",
              "    </tr>\n",
              "    <tr>\n",
              "      <th>albuminscore</th>\n",
              "      <td>int64</td>\n",
              "    </tr>\n",
              "    <tr>\n",
              "      <th>bilirubinscore</th>\n",
              "      <td>int64</td>\n",
              "    </tr>\n",
              "    <tr>\n",
              "      <th>creatininescore</th>\n",
              "      <td>int64</td>\n",
              "    </tr>\n",
              "    <tr>\n",
              "      <th>glucosescore</th>\n",
              "      <td>int64</td>\n",
              "    </tr>\n",
              "    <tr>\n",
              "      <th>haematocritscore</th>\n",
              "      <td>int64</td>\n",
              "    </tr>\n",
              "    <tr>\n",
              "      <th>heartratescore</th>\n",
              "      <td>int64</td>\n",
              "    </tr>\n",
              "    <tr>\n",
              "      <th>meanarterialpressurescore</th>\n",
              "      <td>int64</td>\n",
              "    </tr>\n",
              "    <tr>\n",
              "      <th>sodiumscore</th>\n",
              "      <td>int64</td>\n",
              "    </tr>\n",
              "    <tr>\n",
              "      <th>neurologicalscore</th>\n",
              "      <td>int64</td>\n",
              "    </tr>\n",
              "    <tr>\n",
              "      <th>oxygenationscore</th>\n",
              "      <td>int64</td>\n",
              "    </tr>\n",
              "    <tr>\n",
              "      <th>phscore</th>\n",
              "      <td>int64</td>\n",
              "    </tr>\n",
              "    <tr>\n",
              "      <th>respiratoryratescore</th>\n",
              "      <td>int64</td>\n",
              "    </tr>\n",
              "    <tr>\n",
              "      <th>temperaturescore</th>\n",
              "      <td>int64</td>\n",
              "    </tr>\n",
              "    <tr>\n",
              "      <th>ureascore</th>\n",
              "      <td>int64</td>\n",
              "    </tr>\n",
              "    <tr>\n",
              "      <th>urineoutputscore</th>\n",
              "      <td>int64</td>\n",
              "    </tr>\n",
              "    <tr>\n",
              "      <th>whitecellcountscore</th>\n",
              "      <td>int64</td>\n",
              "    </tr>\n",
              "    <tr>\n",
              "      <th>apache2score</th>\n",
              "      <td>float64</td>\n",
              "    </tr>\n",
              "    <tr>\n",
              "      <th>COVID_pneumonitis_derived</th>\n",
              "      <td>int64</td>\n",
              "    </tr>\n",
              "    <tr>\n",
              "      <th>apachegroup_derived</th>\n",
              "      <td>int64</td>\n",
              "    </tr>\n",
              "    <tr>\n",
              "      <th>RegistryDateOfDeath</th>\n",
              "      <td>object</td>\n",
              "    </tr>\n",
              "    <tr>\n",
              "      <th>DPostCode</th>\n",
              "      <td>float64</td>\n",
              "    </tr>\n",
              "    <tr>\n",
              "      <th>DSLK581</th>\n",
              "      <td>object</td>\n",
              "    </tr>\n",
              "    <tr>\n",
              "      <th>SofaScore</th>\n",
              "      <td>int64</td>\n",
              "    </tr>\n",
              "    <tr>\n",
              "      <th>DSiteID</th>\n",
              "      <td>int64</td>\n",
              "    </tr>\n",
              "    <tr>\n",
              "      <th>IRSDScore</th>\n",
              "      <td>float64</td>\n",
              "    </tr>\n",
              "    <tr>\n",
              "      <th>IRSDDecile</th>\n",
              "      <td>float64</td>\n",
              "    </tr>\n",
              "    <tr>\n",
              "      <th>IRSADScore</th>\n",
              "      <td>float64</td>\n",
              "    </tr>\n",
              "    <tr>\n",
              "      <th>IRSADDecile</th>\n",
              "      <td>float64</td>\n",
              "    </tr>\n",
              "    <tr>\n",
              "      <th>IERScore</th>\n",
              "      <td>float64</td>\n",
              "    </tr>\n",
              "    <tr>\n",
              "      <th>IERDecile</th>\n",
              "      <td>float64</td>\n",
              "    </tr>\n",
              "    <tr>\n",
              "      <th>IEOScore</th>\n",
              "      <td>float64</td>\n",
              "    </tr>\n",
              "    <tr>\n",
              "      <th>IEODecile</th>\n",
              "      <td>float64</td>\n",
              "    </tr>\n",
              "    <tr>\n",
              "      <th>PLAN_ICU</th>\n",
              "      <td>float64</td>\n",
              "    </tr>\n",
              "    <tr>\n",
              "      <th>ELECT_SURG</th>\n",
              "      <td>float64</td>\n",
              "    </tr>\n",
              "    <tr>\n",
              "      <th>DELIRIUM</th>\n",
              "      <td>float64</td>\n",
              "    </tr>\n",
              "    <tr>\n",
              "      <th>FRAILTY</th>\n",
              "      <td>float64</td>\n",
              "    </tr>\n",
              "    <tr>\n",
              "      <th>PRESS_INJ</th>\n",
              "      <td>float64</td>\n",
              "    </tr>\n",
              "    <tr>\n",
              "      <th>INV_DAYONE</th>\n",
              "      <td>float64</td>\n",
              "    </tr>\n",
              "    <tr>\n",
              "      <th>INV_HOURS</th>\n",
              "      <td>float64</td>\n",
              "    </tr>\n",
              "    <tr>\n",
              "      <th>INV_IND</th>\n",
              "      <td>float64</td>\n",
              "    </tr>\n",
              "    <tr>\n",
              "      <th>NIV_HOURS</th>\n",
              "      <td>float64</td>\n",
              "    </tr>\n",
              "    <tr>\n",
              "      <th>NIV_IND</th>\n",
              "      <td>float64</td>\n",
              "    </tr>\n",
              "    <tr>\n",
              "      <th>ECMO_IND</th>\n",
              "      <td>float64</td>\n",
              "    </tr>\n",
              "    <tr>\n",
              "      <th>INOTROP_IND</th>\n",
              "      <td>float64</td>\n",
              "    </tr>\n",
              "    <tr>\n",
              "      <th>RENAL_IND</th>\n",
              "      <td>float64</td>\n",
              "    </tr>\n",
              "    <tr>\n",
              "      <th>TRACHE_IND</th>\n",
              "      <td>float64</td>\n",
              "    </tr>\n",
              "    <tr>\n",
              "      <th>PREG_GESTWK</th>\n",
              "      <td>float64</td>\n",
              "    </tr>\n",
              "  </tbody>\n",
              "</table></div>"
            ],
            "text/plain": [
              "<IPython.core.display.HTML object>"
            ]
          },
          "metadata": {},
          "output_type": "display_data"
        }
      ],
      "source": [
        "#checking the datatype of different columns\n",
        "datatypes = data.dtypes\n",
        "html_datatypes = create_scrollable_table(datatypes.to_frame(), 'datatypes', 'Different data types in the dataset')\n",
        "display(HTML(html_datatypes))"
      ]
    },
    {
      "cell_type": "code",
      "execution_count": null,
      "metadata": {
        "id": "tOwomsTZ-AvE",
        "tags": [],
        "outputId": "44781db5-f4b7-4edc-fa4d-7a7907badc76"
      },
      "outputs": [
        {
          "data": {
            "text/html": [
              "<div>\n",
              "<style scoped>\n",
              "    .dataframe tbody tr th:only-of-type {\n",
              "        vertical-align: middle;\n",
              "    }\n",
              "\n",
              "    .dataframe tbody tr th {\n",
              "        vertical-align: top;\n",
              "    }\n",
              "\n",
              "    .dataframe thead th {\n",
              "        text-align: right;\n",
              "    }\n",
              "</style>\n",
              "<table border=\"1\" class=\"dataframe\">\n",
              "  <thead>\n",
              "    <tr style=\"text-align: right;\">\n",
              "      <th></th>\n",
              "      <th>IcuAdmYYYYMM</th>\n",
              "      <th>IcuAdmYear</th>\n",
              "      <th>IcuAdmMonth</th>\n",
              "      <th>IcuAdmDay</th>\n",
              "      <th>IcuAdmHour</th>\n",
              "      <th>IcuDisYear</th>\n",
              "      <th>IcuDisMonth</th>\n",
              "      <th>IcuDisDay</th>\n",
              "      <th>IcuDisHour</th>\n",
              "      <th>hosp_srce</th>\n",
              "      <th>...</th>\n",
              "      <th>INV_DAYONE</th>\n",
              "      <th>INV_HOURS</th>\n",
              "      <th>INV_IND</th>\n",
              "      <th>NIV_HOURS</th>\n",
              "      <th>NIV_IND</th>\n",
              "      <th>ECMO_IND</th>\n",
              "      <th>INOTROP_IND</th>\n",
              "      <th>RENAL_IND</th>\n",
              "      <th>TRACHE_IND</th>\n",
              "      <th>PREG_GESTWK</th>\n",
              "    </tr>\n",
              "  </thead>\n",
              "  <tbody>\n",
              "    <tr>\n",
              "      <th>count</th>\n",
              "      <td>81884.000000</td>\n",
              "      <td>81884.0</td>\n",
              "      <td>81884.000000</td>\n",
              "      <td>81884.000000</td>\n",
              "      <td>81884.000000</td>\n",
              "      <td>81798.000000</td>\n",
              "      <td>81798.000000</td>\n",
              "      <td>81798.000000</td>\n",
              "      <td>81798.000000</td>\n",
              "      <td>81532.000000</td>\n",
              "      <td>...</td>\n",
              "      <td>81059.000000</td>\n",
              "      <td>43229.000000</td>\n",
              "      <td>76149.000000</td>\n",
              "      <td>40602.000000</td>\n",
              "      <td>75524.000000</td>\n",
              "      <td>75361.000000</td>\n",
              "      <td>76193.000000</td>\n",
              "      <td>75469.000000</td>\n",
              "      <td>75216.000000</td>\n",
              "      <td>518.000000</td>\n",
              "    </tr>\n",
              "    <tr>\n",
              "      <th>mean</th>\n",
              "      <td>202303.566509</td>\n",
              "      <td>2023.0</td>\n",
              "      <td>3.566509</td>\n",
              "      <td>15.774999</td>\n",
              "      <td>14.167933</td>\n",
              "      <td>2023.000012</td>\n",
              "      <td>3.672865</td>\n",
              "      <td>15.682841</td>\n",
              "      <td>13.840595</td>\n",
              "      <td>1.635444</td>\n",
              "      <td>...</td>\n",
              "      <td>1.697825</td>\n",
              "      <td>33.669689</td>\n",
              "      <td>1.669438</td>\n",
              "      <td>3.114034</td>\n",
              "      <td>1.907592</td>\n",
              "      <td>1.997014</td>\n",
              "      <td>1.603258</td>\n",
              "      <td>1.960818</td>\n",
              "      <td>1.988806</td>\n",
              "      <td>31.615830</td>\n",
              "    </tr>\n",
              "    <tr>\n",
              "      <th>std</th>\n",
              "      <td>1.693006</td>\n",
              "      <td>0.0</td>\n",
              "      <td>1.693006</td>\n",
              "      <td>8.730964</td>\n",
              "      <td>5.994715</td>\n",
              "      <td>0.003496</td>\n",
              "      <td>1.717193</td>\n",
              "      <td>8.756703</td>\n",
              "      <td>3.859696</td>\n",
              "      <td>1.842698</td>\n",
              "      <td>...</td>\n",
              "      <td>0.459204</td>\n",
              "      <td>102.163753</td>\n",
              "      <td>0.470419</td>\n",
              "      <td>15.783903</td>\n",
              "      <td>0.289603</td>\n",
              "      <td>0.054560</td>\n",
              "      <td>0.489225</td>\n",
              "      <td>0.194028</td>\n",
              "      <td>0.105211</td>\n",
              "      <td>10.154565</td>\n",
              "    </tr>\n",
              "    <tr>\n",
              "      <th>min</th>\n",
              "      <td>202301.000000</td>\n",
              "      <td>2023.0</td>\n",
              "      <td>1.000000</td>\n",
              "      <td>1.000000</td>\n",
              "      <td>0.000000</td>\n",
              "      <td>2023.000000</td>\n",
              "      <td>1.000000</td>\n",
              "      <td>1.000000</td>\n",
              "      <td>0.000000</td>\n",
              "      <td>1.000000</td>\n",
              "      <td>...</td>\n",
              "      <td>1.000000</td>\n",
              "      <td>0.000000</td>\n",
              "      <td>1.000000</td>\n",
              "      <td>0.000000</td>\n",
              "      <td>1.000000</td>\n",
              "      <td>1.000000</td>\n",
              "      <td>1.000000</td>\n",
              "      <td>1.000000</td>\n",
              "      <td>1.000000</td>\n",
              "      <td>1.000000</td>\n",
              "    </tr>\n",
              "    <tr>\n",
              "      <th>25%</th>\n",
              "      <td>202302.000000</td>\n",
              "      <td>2023.0</td>\n",
              "      <td>2.000000</td>\n",
              "      <td>8.000000</td>\n",
              "      <td>11.000000</td>\n",
              "      <td>2023.000000</td>\n",
              "      <td>2.000000</td>\n",
              "      <td>8.000000</td>\n",
              "      <td>12.000000</td>\n",
              "      <td>1.000000</td>\n",
              "      <td>...</td>\n",
              "      <td>1.000000</td>\n",
              "      <td>0.000000</td>\n",
              "      <td>1.000000</td>\n",
              "      <td>0.000000</td>\n",
              "      <td>2.000000</td>\n",
              "      <td>2.000000</td>\n",
              "      <td>1.000000</td>\n",
              "      <td>2.000000</td>\n",
              "      <td>2.000000</td>\n",
              "      <td>28.250000</td>\n",
              "    </tr>\n",
              "    <tr>\n",
              "      <th>50%</th>\n",
              "      <td>202304.000000</td>\n",
              "      <td>2023.0</td>\n",
              "      <td>4.000000</td>\n",
              "      <td>16.000000</td>\n",
              "      <td>15.000000</td>\n",
              "      <td>2023.000000</td>\n",
              "      <td>4.000000</td>\n",
              "      <td>16.000000</td>\n",
              "      <td>14.000000</td>\n",
              "      <td>1.000000</td>\n",
              "      <td>...</td>\n",
              "      <td>2.000000</td>\n",
              "      <td>2.000000</td>\n",
              "      <td>2.000000</td>\n",
              "      <td>0.000000</td>\n",
              "      <td>2.000000</td>\n",
              "      <td>2.000000</td>\n",
              "      <td>2.000000</td>\n",
              "      <td>2.000000</td>\n",
              "      <td>2.000000</td>\n",
              "      <td>36.000000</td>\n",
              "    </tr>\n",
              "    <tr>\n",
              "      <th>75%</th>\n",
              "      <td>202305.000000</td>\n",
              "      <td>2023.0</td>\n",
              "      <td>5.000000</td>\n",
              "      <td>23.000000</td>\n",
              "      <td>19.000000</td>\n",
              "      <td>2023.000000</td>\n",
              "      <td>5.000000</td>\n",
              "      <td>23.000000</td>\n",
              "      <td>16.000000</td>\n",
              "      <td>1.000000</td>\n",
              "      <td>...</td>\n",
              "      <td>2.000000</td>\n",
              "      <td>19.000000</td>\n",
              "      <td>2.000000</td>\n",
              "      <td>0.000000</td>\n",
              "      <td>2.000000</td>\n",
              "      <td>2.000000</td>\n",
              "      <td>2.000000</td>\n",
              "      <td>2.000000</td>\n",
              "      <td>2.000000</td>\n",
              "      <td>39.000000</td>\n",
              "    </tr>\n",
              "    <tr>\n",
              "      <th>max</th>\n",
              "      <td>202306.000000</td>\n",
              "      <td>2023.0</td>\n",
              "      <td>6.000000</td>\n",
              "      <td>31.000000</td>\n",
              "      <td>23.000000</td>\n",
              "      <td>2024.000000</td>\n",
              "      <td>12.000000</td>\n",
              "      <td>31.000000</td>\n",
              "      <td>23.000000</td>\n",
              "      <td>8.000000</td>\n",
              "      <td>...</td>\n",
              "      <td>2.000000</td>\n",
              "      <td>3759.000000</td>\n",
              "      <td>2.000000</td>\n",
              "      <td>475.000000</td>\n",
              "      <td>2.000000</td>\n",
              "      <td>2.000000</td>\n",
              "      <td>2.000000</td>\n",
              "      <td>2.000000</td>\n",
              "      <td>2.000000</td>\n",
              "      <td>42.000000</td>\n",
              "    </tr>\n",
              "  </tbody>\n",
              "</table>\n",
              "<p>8 rows × 186 columns</p>\n",
              "</div>"
            ],
            "text/plain": [
              "        IcuAdmYYYYMM  IcuAdmYear   IcuAdmMonth     IcuAdmDay    IcuAdmHour  \\\n",
              "count   81884.000000     81884.0  81884.000000  81884.000000  81884.000000   \n",
              "mean   202303.566509      2023.0      3.566509     15.774999     14.167933   \n",
              "std         1.693006         0.0      1.693006      8.730964      5.994715   \n",
              "min    202301.000000      2023.0      1.000000      1.000000      0.000000   \n",
              "25%    202302.000000      2023.0      2.000000      8.000000     11.000000   \n",
              "50%    202304.000000      2023.0      4.000000     16.000000     15.000000   \n",
              "75%    202305.000000      2023.0      5.000000     23.000000     19.000000   \n",
              "max    202306.000000      2023.0      6.000000     31.000000     23.000000   \n",
              "\n",
              "         IcuDisYear   IcuDisMonth     IcuDisDay    IcuDisHour     hosp_srce  \\\n",
              "count  81798.000000  81798.000000  81798.000000  81798.000000  81532.000000   \n",
              "mean    2023.000012      3.672865     15.682841     13.840595      1.635444   \n",
              "std        0.003496      1.717193      8.756703      3.859696      1.842698   \n",
              "min     2023.000000      1.000000      1.000000      0.000000      1.000000   \n",
              "25%     2023.000000      2.000000      8.000000     12.000000      1.000000   \n",
              "50%     2023.000000      4.000000     16.000000     14.000000      1.000000   \n",
              "75%     2023.000000      5.000000     23.000000     16.000000      1.000000   \n",
              "max     2024.000000     12.000000     31.000000     23.000000      8.000000   \n",
              "\n",
              "       ...    INV_DAYONE     INV_HOURS       INV_IND     NIV_HOURS  \\\n",
              "count  ...  81059.000000  43229.000000  76149.000000  40602.000000   \n",
              "mean   ...      1.697825     33.669689      1.669438      3.114034   \n",
              "std    ...      0.459204    102.163753      0.470419     15.783903   \n",
              "min    ...      1.000000      0.000000      1.000000      0.000000   \n",
              "25%    ...      1.000000      0.000000      1.000000      0.000000   \n",
              "50%    ...      2.000000      2.000000      2.000000      0.000000   \n",
              "75%    ...      2.000000     19.000000      2.000000      0.000000   \n",
              "max    ...      2.000000   3759.000000      2.000000    475.000000   \n",
              "\n",
              "            NIV_IND      ECMO_IND   INOTROP_IND     RENAL_IND    TRACHE_IND  \\\n",
              "count  75524.000000  75361.000000  76193.000000  75469.000000  75216.000000   \n",
              "mean       1.907592      1.997014      1.603258      1.960818      1.988806   \n",
              "std        0.289603      0.054560      0.489225      0.194028      0.105211   \n",
              "min        1.000000      1.000000      1.000000      1.000000      1.000000   \n",
              "25%        2.000000      2.000000      1.000000      2.000000      2.000000   \n",
              "50%        2.000000      2.000000      2.000000      2.000000      2.000000   \n",
              "75%        2.000000      2.000000      2.000000      2.000000      2.000000   \n",
              "max        2.000000      2.000000      2.000000      2.000000      2.000000   \n",
              "\n",
              "       PREG_GESTWK  \n",
              "count   518.000000  \n",
              "mean     31.615830  \n",
              "std      10.154565  \n",
              "min       1.000000  \n",
              "25%      28.250000  \n",
              "50%      36.000000  \n",
              "75%      39.000000  \n",
              "max      42.000000  \n",
              "\n",
              "[8 rows x 186 columns]"
            ]
          },
          "execution_count": 88,
          "metadata": {},
          "output_type": "execute_result"
        }
      ],
      "source": [
        "# Get the descriptive statistics for numerical columns\n",
        "data.describe()"
      ]
    },
    {
      "cell_type": "code",
      "execution_count": null,
      "metadata": {
        "id": "15ASe9owaMZa",
        "tags": [],
        "outputId": "82435707-dc14-4581-b649-6bcb65fb748f"
      },
      "outputs": [
        {
          "data": {
            "text/plain": [
              "HospitalClassification\n",
              "Tertiary            32887\n",
              "Private             28117\n",
              "Metropolitan        11326\n",
              "Rural / Regional     9554\n",
              "Name: count, dtype: int64"
            ]
          },
          "execution_count": 89,
          "metadata": {},
          "output_type": "execute_result"
        }
      ],
      "source": [
        "data['HospitalClassification'].value_counts()"
      ]
    },
    {
      "cell_type": "code",
      "execution_count": null,
      "metadata": {
        "id": "qUgqiOIzBHwI",
        "tags": []
      },
      "outputs": [],
      "source": [
        "data['HospitalClassification'] = data['HospitalClassification'].astype('category')"
      ]
    },
    {
      "cell_type": "code",
      "execution_count": null,
      "metadata": {
        "id": "T7shKEggBkzt",
        "tags": [],
        "outputId": "71572699-623e-4b91-84a5-4c05ce365454"
      },
      "outputs": [
        {
          "data": {
            "text/plain": [
              "count        81884\n",
              "unique           4\n",
              "top       Tertiary\n",
              "freq         32887\n",
              "Name: HospitalClassification, dtype: object"
            ]
          },
          "execution_count": 91,
          "metadata": {},
          "output_type": "execute_result"
        }
      ],
      "source": [
        "data['HospitalClassification'].describe()"
      ]
    },
    {
      "cell_type": "code",
      "execution_count": null,
      "metadata": {
        "id": "JvhpF_BaaMkK",
        "tags": [],
        "outputId": "dfc08eac-0d70-44a4-e9a7-b3923dc72fcf"
      },
      "outputs": [
        {
          "data": {
            "text/plain": [
              "PublicPrivate\n",
              "Public                             52563\n",
              "Private                            28117\n",
              "Public under private management     1204\n",
              "Name: count, dtype: int64"
            ]
          },
          "execution_count": 92,
          "metadata": {},
          "output_type": "execute_result"
        }
      ],
      "source": [
        "data['PublicPrivate'].value_counts()"
      ]
    },
    {
      "cell_type": "code",
      "execution_count": null,
      "metadata": {
        "id": "tVurXyGjBVH9",
        "tags": []
      },
      "outputs": [],
      "source": [
        "data['PublicPrivate'] = data['PublicPrivate'].astype('category')"
      ]
    },
    {
      "cell_type": "code",
      "execution_count": null,
      "metadata": {
        "id": "rbUqMLHIaMoJ",
        "tags": [],
        "outputId": "359badfd-5673-4ee4-8374-42f5136826d8"
      },
      "outputs": [
        {
          "data": {
            "text/plain": [
              "sex\n",
              "M    46315\n",
              "F    35490\n",
              "I       57\n",
              "Name: count, dtype: int64"
            ]
          },
          "execution_count": 94,
          "metadata": {},
          "output_type": "execute_result"
        }
      ],
      "source": [
        "data['sex'].value_counts()"
      ]
    },
    {
      "cell_type": "code",
      "execution_count": null,
      "metadata": {
        "id": "VZuanOBoaMr-",
        "tags": [],
        "outputId": "e24b5109-a6c0-4013-9fba-212d2548c784"
      },
      "outputs": [
        {
          "data": {
            "text/plain": [
              "hosp_srce\n",
              "1.0    68657\n",
              "8.0     5824\n",
              "2.0     5150\n",
              "4.0     1379\n",
              "3.0      237\n",
              "5.0      174\n",
              "6.0       82\n",
              "7.0       29\n",
              "Name: count, dtype: int64"
            ]
          },
          "execution_count": 95,
          "metadata": {},
          "output_type": "execute_result"
        }
      ],
      "source": [
        "data['hosp_srce'].value_counts()"
      ]
    },
    {
      "cell_type": "code",
      "execution_count": null,
      "metadata": {
        "id": "iRXJSnfShuTx",
        "tags": [],
        "outputId": "c2401ca2-0574-4bd6-b2c8-7d2d9fb7d510"
      },
      "outputs": [
        {
          "data": {
            "image/png": "[encoded data removed]",
            "text/plain": [
              "<Figure size 640x480 with 1 Axes>"
            ]
          },
          "metadata": {},
          "output_type": "display_data"
        }
      ],
      "source": [
        "# hospital admission source codes\n",
        "# (1 Home, 2 Other Acute Hospital (not ICU/ED), 3 Nursing home/Chronic care/Palliative care,4 Other hospital - ICU, 5 Rehabilitation, 6 Mental health, 7 Inborn, 8 Other hospital – ED)\n",
        "#plotting the activities in the dataset after slecting first 5 events as prefix\n",
        "data['hosp_srce'].value_counts().sort_index().plot(kind='bar', rot='vertical', ylabel='count', title = 'Different hospital source counts')\n",
        "plt.show()"
      ]
    },
    {
      "cell_type": "code",
      "execution_count": null,
      "metadata": {
        "id": "xZ0gD7dOmAb1",
        "tags": [],
        "outputId": "2102b742-f519-4dc4-e6de-d9fbdf2494b4"
      },
      "outputs": [
        {
          "data": {
            "image/png": "[encoded data removed]",
            "text/plain": [
              "<Figure size 640x480 with 1 Axes>"
            ]
          },
          "metadata": {},
          "output_type": "display_data"
        }
      ],
      "source": [
        "# hospital outcome codes\n",
        "# (2 Died, 3 Home, 4 Transferred to Nursing home/Chronic care/Palliative care, 5 Transferred to other hospital – ICU, 6 Transferred to other acute hospital,\n",
        "#7 Transferred to Rehabilitation, 8 Transferred to Mental health, 9 Hospital in the home)\n",
        "data['hosp_outcm'].value_counts().sort_index().plot(kind='bar', rot='vertical', ylabel='count', title = 'Different hospital outcomes')\n",
        "plt.show()\n"
      ]
    },
    {
      "cell_type": "code",
      "execution_count": null,
      "metadata": {
        "id": "VdO6jlpMndrs",
        "tags": [],
        "outputId": "0bb21483-a15b-45ad-e28d-e3f32ed6e2fc"
      },
      "outputs": [
        {
          "data": {
            "image/png": "[encoded data removed]",
            "text/plain": [
              "<Figure size 640x480 with 1 Axes>"
            ]
          },
          "metadata": {},
          "output_type": "display_data"
        }
      ],
      "source": [
        "# Source of ICU admission\n",
        "# (1 OT/Recovery 2 Accident & Emergency 3 Ward 4 Other ICU, same hospital 5 Other hospital 6 Other Hospital ICU 9 Direct ICU admission (from home))\n",
        "data['icu_srce'].value_counts().sort_index().plot(kind='bar', rot='vertical', ylabel='count', title = 'Different icu sources')\n",
        "plt.show()"
      ]
    },
    {
      "cell_type": "code",
      "execution_count": null,
      "metadata": {
        "id": "xGwqCCk-oMU_",
        "tags": [],
        "outputId": "ba2f1b31-c48b-4e47-f212-3fafa6802659"
      },
      "outputs": [
        {
          "data": {
            "image/png": "[encoded data removed]",
            "text/plain": [
              "<Figure size 640x480 with 1 Axes>"
            ]
          },
          "metadata": {},
          "output_type": "display_data"
        }
      ],
      "source": [
        "# ICU outcome codes\n",
        "# (2 Died in ICU 3 Survived ICU 5 Transferred to another ICU 6 Transferred to another hospital)\n",
        "data['icu_outcm'].value_counts().sort_index().plot(kind='bar', rot='vertical', ylabel='count', title = 'Different icu outcomes')\n",
        "plt.show()"
      ]
    },
    {
      "cell_type": "code",
      "execution_count": null,
      "metadata": {
        "id": "zGoN0YqL4usW",
        "tags": [],
        "outputId": "556ae07c-3a2b-4c98-cf95-c5698b0b7aa5"
      },
      "outputs": [
        {
          "data": {
            "text/html": [
              "<h3>Summary statistics for categorical features</h3><div id=\"categorical_features\" style=\"height:200px; overflow:auto;\"><table border=\"1\" class=\"dataframe\">\n",
              "  <thead>\n",
              "    <tr style=\"text-align: right;\">\n",
              "      <th></th>\n",
              "      <th>count</th>\n",
              "      <th>unique</th>\n",
              "      <th>top</th>\n",
              "      <th>freq</th>\n",
              "    </tr>\n",
              "  </thead>\n",
              "  <tbody>\n",
              "    <tr>\n",
              "      <th>PatientID</th>\n",
              "      <td>81884</td>\n",
              "      <td>47875</td>\n",
              "      <td>39947</td>\n",
              "      <td>14</td>\n",
              "    </tr>\n",
              "    <tr>\n",
              "      <th>IcuAdmFinYr</th>\n",
              "      <td>81884</td>\n",
              "      <td>1</td>\n",
              "      <td>2022-23</td>\n",
              "      <td>81884</td>\n",
              "    </tr>\n",
              "    <tr>\n",
              "      <th>sex</th>\n",
              "      <td>81862</td>\n",
              "      <td>3</td>\n",
              "      <td>M</td>\n",
              "      <td>46315</td>\n",
              "    </tr>\n",
              "    <tr>\n",
              "      <th>RegistryDateOfDeath</th>\n",
              "      <td>5257</td>\n",
              "      <td>5026</td>\n",
              "      <td>2023-05-14 21:30:00.000</td>\n",
              "      <td>4</td>\n",
              "    </tr>\n",
              "    <tr>\n",
              "      <th>DSLK581</th>\n",
              "      <td>81777</td>\n",
              "      <td>78106</td>\n",
              "      <td>IRPKW120319882</td>\n",
              "      <td>14</td>\n",
              "    </tr>\n",
              "  </tbody>\n",
              "</table></div>"
            ],
            "text/plain": [
              "<IPython.core.display.HTML object>"
            ]
          },
          "metadata": {},
          "output_type": "display_data"
        }
      ],
      "source": [
        "# Summary statistics for categorical features\n",
        "categorical_features = data.select_dtypes(include=[object])\n",
        "cat_summary_stats = categorical_features.describe().T\n",
        "html_categorical = create_scrollable_table(cat_summary_stats, 'categorical_features', 'Summary statistics for categorical features')\n",
        "display(HTML(html_categorical ))"
      ]
    },
    {
      "cell_type": "code",
      "execution_count": null,
      "metadata": {
        "id": "ykFGRnVWZaK9",
        "tags": [],
        "outputId": "5101742e-8ce7-496d-c652-e4dad34edbe3"
      },
      "outputs": [
        {
          "data": {
            "text/plain": [
              "anzrod15riskofdeath\n",
              "0.000000    97\n",
              "0.002189    21\n",
              "0.001913    15\n",
              "0.003436    15\n",
              "0.002768    15\n",
              "            ..\n",
              "0.014468     1\n",
              "0.114782     1\n",
              "0.617374     1\n",
              "0.123204     1\n",
              "0.517131     1\n",
              "Name: count, Length: 46683, dtype: int64"
            ]
          },
          "execution_count": 101,
          "metadata": {},
          "output_type": "execute_result"
        }
      ],
      "source": [
        "data['anzrod15riskofdeath'].value_counts()\n"
      ]
    },
    {
      "cell_type": "code",
      "execution_count": null,
      "metadata": {
        "id": "C1n5ANfpZ3DW",
        "tags": [],
        "outputId": "4c67b927-a747-47b1-ed5b-72b9fe1ad176"
      },
      "outputs": [
        {
          "data": {
            "text/plain": [
              "0.0"
            ]
          },
          "execution_count": 102,
          "metadata": {},
          "output_type": "execute_result"
        }
      ],
      "source": [
        "data['anzrod15riskofdeath'].min()"
      ]
    },
    {
      "cell_type": "code",
      "execution_count": null,
      "metadata": {
        "id": "lNF6YgoLZ8Nw",
        "tags": [],
        "outputId": "7d07295f-3a3b-4a8e-e22e-0786a5695d7d"
      },
      "outputs": [
        {
          "data": {
            "text/plain": [
              "0.999999"
            ]
          },
          "execution_count": 103,
          "metadata": {},
          "output_type": "execute_result"
        }
      ],
      "source": [
        "data['anzrod15riskofdeath'].max()"
      ]
    },
    {
      "cell_type": "code",
      "execution_count": null,
      "metadata": {
        "id": "AKEwE-UdcCiA",
        "tags": [],
        "outputId": "b61c44c3-c9ef-49ba-eda0-4f0e168263d7"
      },
      "outputs": [
        {
          "data": {
            "text/plain": [
              "Text(0.5, 1.0, 'Histogram of anzrod15riskofdeath Values')"
            ]
          },
          "execution_count": 104,
          "metadata": {},
          "output_type": "execute_result"
        },
        {
          "data": {
            "image/png": "[encoded data removed]",
            "text/plain": [
              "<Figure size 800x800 with 1 Axes>"
            ]
          },
          "metadata": {},
          "output_type": "display_data"
        }
      ],
      "source": [
        "fig = plt.figure(figsize=[8, 8])\n",
        "ax = fig.add_subplot(1, 1, 1)\n",
        "ax.hist(data['anzrod15riskofdeath'], 100)\n",
        "ax.set_xlabel('anzrod15riskofdeath')\n",
        "ax.set_ylabel('Count')\n",
        "ax.set_title('Histogram of anzrod15riskofdeath Values')\n"
      ]
    },
    {
      "cell_type": "code",
      "execution_count": null,
      "metadata": {
        "id": "QleO3qbYcyUS",
        "tags": [],
        "outputId": "b1ed4ee0-a1bf-426f-8f0a-c6cae41d4a00"
      },
      "outputs": [
        {
          "data": {
            "text/plain": [
              "Text(0.5, 1.0, 'Histogram of anzrod20riskofdeath Values')"
            ]
          },
          "execution_count": 105,
          "metadata": {},
          "output_type": "execute_result"
        },
        {
          "data": {
            "image/png": "[encoded data removed]",
            "text/plain": [
              "<Figure size 800x800 with 1 Axes>"
            ]
          },
          "metadata": {},
          "output_type": "display_data"
        }
      ],
      "source": [
        "fig = plt.figure(figsize=[8, 8])\n",
        "ax = fig.add_subplot(1, 1, 1)\n",
        "ax.hist(data['anzrod20riskofdeath'], 100)\n",
        "ax.set_xlabel('anzrod20riskofdeath')\n",
        "ax.set_ylabel('Count')\n",
        "ax.set_title('Histogram of anzrod20riskofdeath Values')"
      ]
    },
    {
      "cell_type": "code",
      "execution_count": null,
      "metadata": {
        "id": "ndGEV0dVZaRC",
        "tags": [],
        "outputId": "042a64ea-e826-43f3-d008-07a4dc359bd4"
      },
      "outputs": [
        {
          "data": {
            "text/plain": [
              "anzrod20riskofdeath\n",
              "0.000000    718\n",
              "0.000985     15\n",
              "0.002585     15\n",
              "0.001246     14\n",
              "0.001918     13\n",
              "           ... \n",
              "0.935584      1\n",
              "0.209355      1\n",
              "0.115533      1\n",
              "0.631837      1\n",
              "0.680174      1\n",
              "Name: count, Length: 43451, dtype: int64"
            ]
          },
          "execution_count": 106,
          "metadata": {},
          "output_type": "execute_result"
        }
      ],
      "source": [
        "data['anzrod20riskofdeath'].value_counts()"
      ]
    },
    {
      "cell_type": "code",
      "execution_count": null,
      "metadata": {
        "id": "uiUL__ttaBn3",
        "tags": [],
        "outputId": "6d193fe9-6e79-4b2e-e6ee-62edaa4e6f35"
      },
      "outputs": [
        {
          "data": {
            "text/plain": [
              "0.0"
            ]
          },
          "execution_count": 107,
          "metadata": {},
          "output_type": "execute_result"
        }
      ],
      "source": [
        "data['anzrod20riskofdeath'].min()"
      ]
    },
    {
      "cell_type": "code",
      "execution_count": null,
      "metadata": {
        "id": "987kaxczaGjE",
        "tags": [],
        "outputId": "156e3e2f-9371-41bb-8744-d902cddd2be4"
      },
      "outputs": [
        {
          "data": {
            "text/plain": [
              "0.997937"
            ]
          },
          "execution_count": 108,
          "metadata": {},
          "output_type": "execute_result"
        }
      ],
      "source": [
        "data['anzrod20riskofdeath'].max()"
      ]
    },
    {
      "cell_type": "code",
      "execution_count": null,
      "metadata": {
        "id": "YJVP5dVglL58",
        "tags": [],
        "outputId": "5c5e1460-d16e-47ca-9c11-572cc314cb0a"
      },
      "outputs": [
        {
          "data": {
            "image/png": "[encoded data removed]",
            "text/plain": [
              "<Figure size 640x480 with 1 Axes>"
            ]
          },
          "metadata": {},
          "output_type": "display_data"
        }
      ],
      "source": [
        "_=data.died_icu.value_counts().plot(kind='pie',autopct=\"%.2f\",title ='Mortality in hospital in %',color='blue')"
      ]
    },
    {
      "cell_type": "code",
      "execution_count": null,
      "metadata": {
        "id": "tX_eOppBkenR",
        "tags": [],
        "outputId": "5a6598cf-0685-4863-b6e7-7b5c78ee489b"
      },
      "outputs": [
        {
          "data": {
            "text/plain": [
              "died_icu\n",
              "2.0    78937\n",
              "1.0     2840\n",
              "Name: count, dtype: int64"
            ]
          },
          "execution_count": 110,
          "metadata": {},
          "output_type": "execute_result"
        }
      ],
      "source": [
        "#(1=yes, 2=no)\n",
        "data['died_icu'].value_counts()"
      ]
    },
    {
      "cell_type": "code",
      "execution_count": null,
      "metadata": {
        "id": "v8Ud1Wwok6ZA",
        "tags": [],
        "outputId": "7b615311-f384-44e8-e28f-3f0532c2b1a0"
      },
      "outputs": [
        {
          "data": {
            "image/png": "[encoded data removed]",
            "text/plain": [
              "<Figure size 640x480 with 1 Axes>"
            ]
          },
          "metadata": {},
          "output_type": "display_data"
        }
      ],
      "source": [
        "_=data.died_hosp.value_counts().plot(kind='pie',autopct=\"%.2f\",title ='Mortality in hospital in %')"
      ]
    },
    {
      "cell_type": "code",
      "execution_count": null,
      "metadata": {
        "id": "2MQ2rP4ppfcG",
        "tags": [],
        "outputId": "3303b89e-9f5d-4931-9142-a74bf1406c38"
      },
      "outputs": [
        {
          "data": {
            "text/plain": [
              "died_hosp\n",
              "2.0    77511\n",
              "1.0     4373\n",
              "Name: count, dtype: int64"
            ]
          },
          "execution_count": 112,
          "metadata": {},
          "output_type": "execute_result"
        }
      ],
      "source": [
        "#(1=yes, 2=no)\n",
        "data['died_hosp'].value_counts()"
      ]
    },
    {
      "cell_type": "code",
      "execution_count": null,
      "metadata": {
        "id": "2LYx1qLLrQrs",
        "tags": [],
        "outputId": "5950c794-1cce-4e51-a95f-331fae04ba98"
      },
      "outputs": [
        {
          "data": {
            "text/plain": [
              "age\n",
              "76    2215\n",
              "69    2143\n",
              "72    2129\n",
              "75    2127\n",
              "73    2073\n",
              "      ... \n",
              "92     125\n",
              "97     123\n",
              "93     112\n",
              "94      76\n",
              "95       2\n",
              "Name: count, Length: 81, dtype: int64"
            ]
          },
          "execution_count": 113,
          "metadata": {},
          "output_type": "execute_result"
        }
      ],
      "source": [
        "data['age'].value_counts()"
      ]
    },
    {
      "cell_type": "code",
      "execution_count": null,
      "metadata": {
        "id": "6i4li7pprs0J",
        "tags": [],
        "outputId": "99027196-8008-4cb9-92fe-b8cdec4226b1"
      },
      "outputs": [
        {
          "data": {
            "text/plain": [
              "count    56170.000000\n",
              "mean        85.297292\n",
              "std         25.291354\n",
              "min          1.000000\n",
              "25%         68.600000\n",
              "50%         81.200000\n",
              "75%         97.000000\n",
              "max        347.000000\n",
              "Name: weight, dtype: float64"
            ]
          },
          "execution_count": 114,
          "metadata": {},
          "output_type": "execute_result"
        }
      ],
      "source": [
        "#weight weight in Kg\n",
        "data['weight'].describe()"
      ]
    },
    {
      "cell_type": "code",
      "execution_count": null,
      "metadata": {
        "id": "61-qjMu2pD27",
        "tags": [],
        "outputId": "ccdf8f28-01e9-4869-c9b7-01907f690851"
      },
      "outputs": [
        {
          "data": {
            "text/plain": [
              "count    49801.000000\n",
              "mean       169.504106\n",
              "std         11.872251\n",
              "min         10.000000\n",
              "25%        163.000000\n",
              "50%        170.000000\n",
              "75%        178.000000\n",
              "max        272.000000\n",
              "Name: height, dtype: float64"
            ]
          },
          "execution_count": 115,
          "metadata": {},
          "output_type": "execute_result"
        }
      ],
      "source": [
        "#height in cms\n",
        "data['height'].describe()"
      ]
    },
    {
      "cell_type": "code",
      "execution_count": null,
      "metadata": {
        "id": "vYsF034rufT7",
        "tags": [],
        "outputId": "a32109e3-f98f-47c5-d996-7117a5186646"
      },
      "outputs": [
        {
          "data": {
            "text/plain": [
              "preg_stat\n",
              "2.0    15417\n",
              "3.0      697\n",
              "1.0      193\n",
              "Name: count, dtype: int64"
            ]
          },
          "execution_count": 116,
          "metadata": {},
          "output_type": "execute_result"
        }
      ],
      "source": [
        "# pregnancy status\n",
        "# (1 Currently pregnant 2 Not pregnant 3 Postpartum period): preg_stat\n",
        "data['preg_stat'].value_counts()"
      ]
    },
    {
      "cell_type": "code",
      "execution_count": null,
      "metadata": {
        "id": "F1eCBQ_qwYj3",
        "tags": [],
        "outputId": "a8eecbf7-03d6-485a-9e1b-b493859acff8"
      },
      "outputs": [
        {
          "data": {
            "text/plain": [
              "treat_lmt\n",
              "1.0    81857\n",
              "Name: count, dtype: int64"
            ]
          },
          "execution_count": 117,
          "metadata": {},
          "output_type": "execute_result"
        }
      ],
      "source": [
        "# Treatment goal in ICU admission\n",
        "# (1 Full active management (without treatment limitation) 2 Treatment limitation order 3 Palliative care of a dying patient 4 Potential Organ donation)\n",
        "data['treat_lmt'].value_counts()"
      ]
    },
    {
      "cell_type": "code",
      "execution_count": null,
      "metadata": {
        "id": "KzRRgifVZaWQ",
        "tags": [],
        "outputId": "62a1a199-c0a8-4855-c168-97f7c114baf5"
      },
      "outputs": [
        {
          "data": {
            "text/plain": [
              "cardarrest\n",
              "2.0    77991\n",
              "1.0     2006\n",
              "Name: count, dtype: int64"
            ]
          },
          "execution_count": 118,
          "metadata": {},
          "output_type": "execute_result"
        }
      ],
      "source": [
        "#cardarrest: cardiac arrest during 24 hours prior to ICU admission 1 = yes, 0 = no\n",
        "data['cardarrest'].value_counts()"
      ]
    },
    {
      "cell_type": "code",
      "execution_count": null,
      "metadata": {
        "id": "LXIuAoakxHmq",
        "tags": [],
        "outputId": "9f024deb-0f89-44b8-d154-f00e8920bbda"
      },
      "outputs": [
        {
          "data": {
            "text/plain": [
              "indigenous\n",
              "2.0    74250\n",
              "1.0     4147\n",
              "Name: count, dtype: int64"
            ]
          },
          "execution_count": 119,
          "metadata": {},
          "output_type": "execute_result"
        }
      ],
      "source": [
        "#indigenous:Indigenous status codes, 1 = yes, 0 = no, -1 = unknown/missing\n",
        "data['indigenous'].value_counts()"
      ]
    },
    {
      "cell_type": "code",
      "execution_count": null,
      "metadata": {
        "id": "bxL72n8KxUTP",
        "tags": [],
        "outputId": "971de23c-f5ef-4344-caf3-f7fd73cbf3ef"
      },
      "outputs": [
        {
          "data": {
            "text/plain": [
              "arf\n",
              "2.0    75518\n",
              "1.0     2602\n",
              "Name: count, dtype: int64"
            ]
          },
          "execution_count": 120,
          "metadata": {},
          "output_type": "execute_result"
        }
      ],
      "source": [
        "#arf:Acute Renal Failure 1 = yes, 2 = no\n",
        "data['arf'].value_counts()"
      ]
    },
    {
      "cell_type": "code",
      "execution_count": null,
      "metadata": {
        "id": "PAd-IihlyH_-",
        "tags": [],
        "outputId": "b3b512a7-ad96-4035-99cb-09168f101c31"
      },
      "outputs": [
        {
          "data": {
            "text/plain": [
              "intubated\n",
              "2.0    49374\n",
              "1.0    20875\n",
              "Name: count, dtype: int64"
            ]
          },
          "execution_count": 121,
          "metadata": {},
          "output_type": "execute_result"
        }
      ],
      "source": [
        "#intubated:Intubated at the time of worst blood gas collected 1 = yes, 0 = no\n",
        "data['intubated'].value_counts()"
      ]
    },
    {
      "cell_type": "code",
      "execution_count": null,
      "metadata": {
        "id": "GfSs5YcKyRlQ",
        "tags": [],
        "outputId": "42856039-b042-41ba-95df-cc9ffcd3ff18"
      },
      "outputs": [
        {
          "data": {
            "text/plain": [
              "ventilated\n",
              "2.0    56555\n",
              "1.0    25040\n",
              "Name: count, dtype: int64"
            ]
          },
          "execution_count": 122,
          "metadata": {},
          "output_type": "execute_result"
        }
      ],
      "source": [
        "#ventilated: Invasively Ventilated during first 24 hours of ICU 1 = yes, 0 = no\n",
        "data['ventilated'].value_counts()"
      ]
    },
    {
      "cell_type": "code",
      "execution_count": null,
      "metadata": {
        "id": "nf-fxitlzdmM",
        "tags": [],
        "outputId": "7e13f1a1-2ac9-4d72-9d23-d8f3cc7ad22a"
      },
      "outputs": [
        {
          "data": {
            "text/plain": [
              "ap3diag\n",
              "1207.0    5169\n",
              "1902.0    4194\n",
              "1408.0    4014\n",
              "1504.0    3315\n",
              "1405.0    3179\n",
              "          ... \n",
              "1603.0      33\n",
              "310.0       24\n",
              "2101.0      10\n",
              "1002.0       6\n",
              "1201.0       1\n",
              "Name: count, Length: 117, dtype: int64"
            ]
          },
          "execution_count": 123,
          "metadata": {},
          "output_type": "execute_result"
        }
      ],
      "source": [
        "#ap3diag ,Apache III diagnosis code (See list of ICU admission diagnoses)\n",
        "data['ap3diag'].value_counts()"
      ]
    },
    {
      "cell_type": "code",
      "execution_count": null,
      "metadata": {
        "id": "PxsjuVyD0CIg",
        "tags": [],
        "outputId": "3f40df82-5049-4023-ef21-b5eef05c78d9"
      },
      "outputs": [
        {
          "data": {
            "text/plain": [
              "apache3riskofdeath\n",
              "0.005650    24\n",
              "0.006069    22\n",
              "0.007002    22\n",
              "0.002242    21\n",
              "0.004843    19\n",
              "            ..\n",
              "0.109200     1\n",
              "0.659226     1\n",
              "0.006491     1\n",
              "0.032734     1\n",
              "0.576198     1\n",
              "Name: count, Length: 60521, dtype: int64"
            ]
          },
          "execution_count": 124,
          "metadata": {},
          "output_type": "execute_result"
        }
      ],
      "source": [
        "#apache3riskofdeath: Apache III risk of death\n",
        "data['apache3riskofdeath'].value_counts()"
      ]
    },
    {
      "cell_type": "code",
      "execution_count": null,
      "metadata": {
        "id": "t80oTXVw2pm3",
        "tags": [],
        "outputId": "c4b21ad7-dc32-4da8-d74a-88d820e06d55"
      },
      "outputs": [
        {
          "data": {
            "text/plain": [
              "count    81716.000000\n",
              "mean         0.106136\n",
              "std          0.165728\n",
              "min          0.000355\n",
              "25%          0.014892\n",
              "50%          0.039728\n",
              "75%          0.113667\n",
              "max          0.999945\n",
              "Name: apache3riskofdeath, dtype: float64"
            ]
          },
          "execution_count": 125,
          "metadata": {},
          "output_type": "execute_result"
        }
      ],
      "source": [
        "data['apache3riskofdeath'].describe()"
      ]
    },
    {
      "cell_type": "code",
      "execution_count": null,
      "metadata": {
        "id": "3ZINMn6Q20sc",
        "tags": [],
        "outputId": "9ebbfedd-fe3b-4344-e8b6-7f1348fa53e5"
      },
      "outputs": [
        {
          "data": {
            "text/plain": [
              "count    81845.000000\n",
              "mean        48.780512\n",
              "std         22.551873\n",
              "min          0.000000\n",
              "25%         33.000000\n",
              "50%         45.000000\n",
              "75%         60.000000\n",
              "max        238.000000\n",
              "Name: apache3score, dtype: float64"
            ]
          },
          "execution_count": 126,
          "metadata": {},
          "output_type": "execute_result"
        }
      ],
      "source": [
        "#apache3score: Apache III score\n",
        "data['apache3score'].describe()"
      ]
    },
    {
      "cell_type": "code",
      "execution_count": null,
      "metadata": {
        "id": "UjAVtkfY4Zq9",
        "tags": [],
        "outputId": "e30331f4-7614-4712-c78d-47e9181bf606"
      },
      "outputs": [
        {
          "data": {
            "text/plain": [
              "anzrodisincluded\n",
              "1    81845\n",
              "2       39\n",
              "Name: count, dtype: int64"
            ]
          },
          "execution_count": 127,
          "metadata": {},
          "output_type": "execute_result"
        }
      ],
      "source": [
        "#anzrodisincluded\n",
        "#meets age and readmission-status requirements to be included in an ANZROD SMR (i.e. everyone who should be included if data was perfect) 1 = yes, 0 = no\n",
        "data['anzrodisincluded'].value_counts()"
      ]
    },
    {
      "cell_type": "code",
      "execution_count": null,
      "metadata": {
        "id": "O5RHmCvM6WLU",
        "tags": [],
        "outputId": "61161968-dace-40a6-e713-c9e68b3b9a72"
      },
      "outputs": [
        {
          "data": {
            "text/plain": [
              "COVID_pneumonitis_derived\n",
              "0    79890\n",
              "2      964\n",
              "3      577\n",
              "1      453\n",
              "Name: count, dtype: int64"
            ]
          },
          "execution_count": 128,
          "metadata": {},
          "output_type": "execute_result"
        }
      ],
      "source": [
        "# COVID_pneumonitis_derived\n",
        "# Indicator of COVID-19 Pneumonitis\n",
        "# 1:# Primary COVID-19 Pneumonitis\n",
        "# 8: # ANZICS Adult Patient Database (APD) - variable list\n",
        "# 2:# Condition exacerbated by COVID-19\n",
        "# 3: # Incidental COVID-19\n",
        "# 0: # Other\n",
        "data['COVID_pneumonitis_derived'].value_counts()"
      ]
    },
    {
      "cell_type": "code",
      "execution_count": null,
      "metadata": {
        "id": "uQdyUUJD65Ts",
        "tags": [],
        "outputId": "8e95ef0c-5bc7-4473-cb99-7b5072dbb2a1"
      },
      "outputs": [
        {
          "data": {
            "text/plain": [
              "apachegroup_derived\n",
              "8    16897\n",
              "4    12957\n",
              "3    11388\n",
              "2    11204\n",
              "5    11183\n",
              "1     8645\n",
              "7     5955\n",
              "6     3655\n",
              "Name: count, dtype: int64"
            ]
          },
          "execution_count": 129,
          "metadata": {},
          "output_type": "execute_result"
        }
      ],
      "source": [
        "# apachegroup_derived\n",
        "# Diagnosis grouping based on APACHE III Diagnosis code (ap3diag)\n",
        "# 1:Cardiac surgery\n",
        "# 2: Cardiac\n",
        "# 3: Respiratory\n",
        "# 4: Gastrointestinal\n",
        "# 5: Neurological\n",
        "# 6: Trauma\n",
        "# 7: Sepsis\n",
        "# 8: Other\n",
        "data['apachegroup_derived'].value_counts()"
      ]
    },
    {
      "cell_type": "code",
      "execution_count": null,
      "metadata": {
        "id": "RJYjgmxS7Tfo",
        "tags": [],
        "outputId": "bb83952b-39bf-4132-bfe2-3f24ed1eab3e"
      },
      "outputs": [
        {
          "data": {
            "text/plain": [
              "5                              NaN\n",
              "26                             NaN\n",
              "47                             NaN\n",
              "56         2023-02-07 11:10:00.000\n",
              "144                            NaN\n",
              "                    ...           \n",
              "1143240                        NaN\n",
              "1143247                        NaN\n",
              "1143267                        NaN\n",
              "1143274                        NaN\n",
              "1143284                        NaN\n",
              "Name: RegistryDateOfDeath, Length: 81884, dtype: object"
            ]
          },
          "execution_count": 130,
          "metadata": {},
          "output_type": "execute_result"
        }
      ],
      "source": [
        "#RegistryDateOfDeath: Death date based on the Registry data\n",
        "data['RegistryDateOfDeath']"
      ]
    },
    {
      "cell_type": "code",
      "execution_count": null,
      "metadata": {
        "id": "4PypfM138VKy",
        "tags": [],
        "outputId": "ec59282c-d6ce-4b98-aba9-4f896e2fe33c"
      },
      "outputs": [
        {
          "data": {
            "text/plain": [
              "5      XLNJA300719521\n",
              "26     TKCKR210919592\n",
              "47     BUKUL190919531\n",
              "56     PUQXE060619821\n",
              "144    VJGNV050619701\n",
              "145    BUGKJ170819601\n",
              "147    BUJGR080819951\n",
              "148    JQGAW081019552\n",
              "149    SRGKE260719932\n",
              "151    VWPSM051119952\n",
              "Name: DSLK581, dtype: object"
            ]
          },
          "execution_count": 131,
          "metadata": {},
          "output_type": "execute_result"
        }
      ],
      "source": [
        "#DSLK581: De-identified unique patient identifier across sites\n",
        "data['DSLK581'].head(10)"
      ]
    },
    {
      "cell_type": "code",
      "execution_count": null,
      "metadata": {
        "id": "dsmjz0xZ8T8L",
        "tags": [],
        "outputId": "e82d03d0-be10-4a66-acbf-b1a5b57e7f9f"
      },
      "outputs": [
        {
          "data": {
            "text/plain": [
              "5     NaN\n",
              "26    NaN\n",
              "47    NaN\n",
              "56    NaN\n",
              "144   NaN\n",
              "145   NaN\n",
              "147   NaN\n",
              "148   NaN\n",
              "149   NaN\n",
              "151   NaN\n",
              "Name: DPostCode, dtype: float64"
            ]
          },
          "execution_count": 132,
          "metadata": {},
          "output_type": "execute_result"
        }
      ],
      "source": [
        "\n",
        "data['DPostCode'].head(10)"
      ]
    },
    {
      "cell_type": "markdown",
      "metadata": {
        "id": "Scdk0crBstxg"
      },
      "source": [
        "#### Checking for data inconsistency\n",
        "\n",
        "check icu_outcm and died_icu\n",
        "icu_outcm: 2 - died; 3 - survived\n",
        "died_icu: 0 - survived; 1 - died"
      ]
    },
    {
      "cell_type": "code",
      "execution_count": null,
      "metadata": {
        "id": "iHr5U9isso3u",
        "tags": [],
        "outputId": "00bfe5e9-46c9-44d9-be2a-2ba5600cdf28"
      },
      "outputs": [
        {
          "data": {
            "text/html": [
              "<div>\n",
              "<style scoped>\n",
              "    .dataframe tbody tr th:only-of-type {\n",
              "        vertical-align: middle;\n",
              "    }\n",
              "\n",
              "    .dataframe tbody tr th {\n",
              "        vertical-align: top;\n",
              "    }\n",
              "\n",
              "    .dataframe thead th {\n",
              "        text-align: right;\n",
              "    }\n",
              "</style>\n",
              "<table border=\"1\" class=\"dataframe\">\n",
              "  <thead>\n",
              "    <tr style=\"text-align: right;\">\n",
              "      <th>died_icu</th>\n",
              "      <th>1.0</th>\n",
              "      <th>2.0</th>\n",
              "    </tr>\n",
              "    <tr>\n",
              "      <th>icu_outcm</th>\n",
              "      <th></th>\n",
              "      <th></th>\n",
              "    </tr>\n",
              "  </thead>\n",
              "  <tbody>\n",
              "    <tr>\n",
              "      <th>2.0</th>\n",
              "      <td>2840</td>\n",
              "      <td>0</td>\n",
              "    </tr>\n",
              "    <tr>\n",
              "      <th>3.0</th>\n",
              "      <td>0</td>\n",
              "      <td>77198</td>\n",
              "    </tr>\n",
              "    <tr>\n",
              "      <th>6.0</th>\n",
              "      <td>0</td>\n",
              "      <td>1739</td>\n",
              "    </tr>\n",
              "  </tbody>\n",
              "</table>\n",
              "</div>"
            ],
            "text/plain": [
              "died_icu    1.0    2.0\n",
              "icu_outcm             \n",
              "2.0        2840      0\n",
              "3.0           0  77198\n",
              "6.0           0   1739"
            ]
          },
          "execution_count": 133,
          "metadata": {},
          "output_type": "execute_result"
        }
      ],
      "source": [
        "#'died_icu' :(1=yes, 2=no)\n",
        "# ICU outcome codes: 2 Died in ICU 3 Survived ICU 5 Transferred to another ICU 6 Transferred to another hospital\n",
        "data['icu_outcm']\n",
        "\n",
        "pd.crosstab(data['icu_outcm'], data['died_icu'])"
      ]
    },
    {
      "cell_type": "code",
      "execution_count": null,
      "metadata": {
        "id": "5-u1olbVsr3M",
        "tags": [],
        "outputId": "549b85ec-e33e-4fe4-cf9a-019747b169cb"
      },
      "outputs": [
        {
          "data": {
            "text/html": [
              "<div>\n",
              "<style scoped>\n",
              "    .dataframe tbody tr th:only-of-type {\n",
              "        vertical-align: middle;\n",
              "    }\n",
              "\n",
              "    .dataframe tbody tr th {\n",
              "        vertical-align: top;\n",
              "    }\n",
              "\n",
              "    .dataframe thead th {\n",
              "        text-align: right;\n",
              "    }\n",
              "</style>\n",
              "<table border=\"1\" class=\"dataframe\">\n",
              "  <thead>\n",
              "    <tr style=\"text-align: right;\">\n",
              "      <th>died_hosp</th>\n",
              "      <th>1.0</th>\n",
              "      <th>2.0</th>\n",
              "    </tr>\n",
              "    <tr>\n",
              "      <th>hosp_outcm</th>\n",
              "      <th></th>\n",
              "      <th></th>\n",
              "    </tr>\n",
              "  </thead>\n",
              "  <tbody>\n",
              "    <tr>\n",
              "      <th>1.0</th>\n",
              "      <td>0</td>\n",
              "      <td>30</td>\n",
              "    </tr>\n",
              "    <tr>\n",
              "      <th>2.0</th>\n",
              "      <td>4373</td>\n",
              "      <td>0</td>\n",
              "    </tr>\n",
              "    <tr>\n",
              "      <th>3.0</th>\n",
              "      <td>0</td>\n",
              "      <td>63112</td>\n",
              "    </tr>\n",
              "    <tr>\n",
              "      <th>4.0</th>\n",
              "      <td>0</td>\n",
              "      <td>722</td>\n",
              "    </tr>\n",
              "    <tr>\n",
              "      <th>5.0</th>\n",
              "      <td>0</td>\n",
              "      <td>252</td>\n",
              "    </tr>\n",
              "    <tr>\n",
              "      <th>6.0</th>\n",
              "      <td>0</td>\n",
              "      <td>6721</td>\n",
              "    </tr>\n",
              "    <tr>\n",
              "      <th>7.0</th>\n",
              "      <td>0</td>\n",
              "      <td>5033</td>\n",
              "    </tr>\n",
              "    <tr>\n",
              "      <th>8.0</th>\n",
              "      <td>0</td>\n",
              "      <td>506</td>\n",
              "    </tr>\n",
              "    <tr>\n",
              "      <th>9.0</th>\n",
              "      <td>0</td>\n",
              "      <td>893</td>\n",
              "    </tr>\n",
              "    <tr>\n",
              "      <th>10.0</th>\n",
              "      <td>0</td>\n",
              "      <td>242</td>\n",
              "    </tr>\n",
              "  </tbody>\n",
              "</table>\n",
              "</div>"
            ],
            "text/plain": [
              "died_hosp    1.0    2.0\n",
              "hosp_outcm             \n",
              "1.0            0     30\n",
              "2.0         4373      0\n",
              "3.0            0  63112\n",
              "4.0            0    722\n",
              "5.0            0    252\n",
              "6.0            0   6721\n",
              "7.0            0   5033\n",
              "8.0            0    506\n",
              "9.0            0    893\n",
              "10.0           0    242"
            ]
          },
          "execution_count": 134,
          "metadata": {},
          "output_type": "execute_result"
        }
      ],
      "source": [
        "# hospital outcome codes\n",
        "# (2 Died, 3 Home, 4 Transferred to Nursing home/Chronic care/Palliative care, 5 Transferred to other hospital – ICU, 6 Transferred to other acute hospital, 7 Transferred to Rehabilitation, 8 Transferred to Mental health, 9 Hospital in the home)\n",
        "#data['died_hosp'] : (1=yes, 2=no)\n",
        "pd.crosstab(data['hosp_outcm'], data['died_hosp'])"
      ]
    },
    {
      "cell_type": "code",
      "execution_count": null,
      "metadata": {
        "id": "VdJawy1ossDm",
        "tags": [],
        "outputId": "fe32b9b7-456b-4b1b-e7fc-4d643bbc210f"
      },
      "outputs": [
        {
          "data": {
            "text/html": [
              "<div>\n",
              "<style scoped>\n",
              "    .dataframe tbody tr th:only-of-type {\n",
              "        vertical-align: middle;\n",
              "    }\n",
              "\n",
              "    .dataframe tbody tr th {\n",
              "        vertical-align: top;\n",
              "    }\n",
              "\n",
              "    .dataframe thead th {\n",
              "        text-align: right;\n",
              "    }\n",
              "</style>\n",
              "<table border=\"1\" class=\"dataframe\">\n",
              "  <thead>\n",
              "    <tr style=\"text-align: right;\">\n",
              "      <th>died_hosp</th>\n",
              "      <th>1.0</th>\n",
              "      <th>2.0</th>\n",
              "    </tr>\n",
              "    <tr>\n",
              "      <th>died_icu</th>\n",
              "      <th></th>\n",
              "      <th></th>\n",
              "    </tr>\n",
              "  </thead>\n",
              "  <tbody>\n",
              "    <tr>\n",
              "      <th>1.0</th>\n",
              "      <td>2840</td>\n",
              "      <td>0</td>\n",
              "    </tr>\n",
              "    <tr>\n",
              "      <th>2.0</th>\n",
              "      <td>1530</td>\n",
              "      <td>77407</td>\n",
              "    </tr>\n",
              "  </tbody>\n",
              "</table>\n",
              "</div>"
            ],
            "text/plain": [
              "died_hosp   1.0    2.0\n",
              "died_icu              \n",
              "1.0        2840      0\n",
              "2.0        1530  77407"
            ]
          },
          "execution_count": 135,
          "metadata": {},
          "output_type": "execute_result"
        }
      ],
      "source": [
        "#check died_icu and died_hosp\n",
        "pd.crosstab(data['died_icu'], data['died_hosp'])"
      ]
    },
    {
      "cell_type": "markdown",
      "metadata": {
        "id": "GQVHc7oTbDQN"
      },
      "source": [
        "### Data Cleaning"
      ]
    },
    {
      "cell_type": "markdown",
      "metadata": {
        "id": "9tLOEeRVwCMN"
      },
      "source": [
        "There is s ome inconsistency in data for the above 36 people who died in ICU but is marked as survived in hospital.\n",
        "\n",
        "Remove the inconsistent rows of data"
      ]
    },
    {
      "cell_type": "code",
      "execution_count": null,
      "metadata": {
        "id": "x-vB0E8WssMe",
        "tags": [],
        "outputId": "f2ee91ba-05c4-4169-94fb-c24626720880"
      },
      "outputs": [
        {
          "name": "stdout",
          "output_type": "stream",
          "text": [
            "Rows removed:  0\n",
            "New shape:  (81884, 193)\n"
          ]
        }
      ],
      "source": [
        "previous_shape = data.shape[0]\n",
        "\n",
        "data = data[\n",
        "    ~((data.died_icu == 1) & (data.died_hosp == 2))\n",
        "]\n",
        "\n",
        "print('Rows removed: ', (previous_shape - data.shape[0]))\n",
        "print('New shape: ', data.shape)"
      ]
    },
    {
      "cell_type": "code",
      "execution_count": null,
      "metadata": {
        "id": "MOlSicH4ssQ0",
        "tags": [],
        "outputId": "f7a2e841-eef0-4a70-e272-9af48a5619e9"
      },
      "outputs": [
        {
          "name": "stdout",
          "output_type": "stream",
          "text": [
            "Rows removed:  0\n",
            "New shape:  (81884, 193)\n"
          ]
        }
      ],
      "source": [
        "#Removing patients with age less than 16 years\n",
        "previous_shape = data.shape[0]\n",
        "data = data[\n",
        "    ~(data.age < 16)\n",
        "]\n",
        "\n",
        "print('Rows removed: ', (previous_shape - data.shape[0]))\n",
        "print('New shape: ', data.shape)"
      ]
    },
    {
      "cell_type": "code",
      "execution_count": null,
      "metadata": {
        "id": "onqnAeafssb7",
        "tags": [],
        "outputId": "10a9ef69-1119-4bf9-98f7-31d2e793fc7f"
      },
      "outputs": [
        {
          "name": "stdout",
          "output_type": "stream",
          "text": [
            "Rows removed:  0\n",
            "New shape:  (81884, 193)\n"
          ]
        }
      ],
      "source": [
        "#remove patients admitted for palliative care\n",
        "previous_shape = data.shape[0]\n",
        "data = data[\n",
        "    ~(data.treat_lmt == 3)\n",
        "]\n",
        "print('Rows removed: ', (previous_shape - data.shape[0]))\n",
        "print('New shape: ', data.shape)\n"
      ]
    },
    {
      "cell_type": "code",
      "execution_count": null,
      "metadata": {
        "id": "Of35kKvxdIzG",
        "tags": [],
        "outputId": "b022fff2-5dce-404f-c3eb-b37d8a1b7b09"
      },
      "outputs": [
        {
          "data": {
            "text/plain": [
              "hosp_outcm\n",
              "3.0     63112\n",
              "6.0      6721\n",
              "7.0      5033\n",
              "2.0      4373\n",
              "9.0       893\n",
              "4.0       722\n",
              "8.0       506\n",
              "5.0       252\n",
              "10.0      242\n",
              "1.0        30\n",
              "Name: count, dtype: int64"
            ]
          },
          "execution_count": 139,
          "metadata": {},
          "output_type": "execute_result"
        }
      ],
      "source": [
        "#exclude patients with missing hospital outcomes.\n",
        "data['hosp_outcm'].value_counts()\n"
      ]
    },
    {
      "cell_type": "code",
      "execution_count": null,
      "metadata": {
        "id": "eZDKTkdmdI3D",
        "tags": [],
        "outputId": "76205b75-185a-43ad-c4e8-f2cdef10fc0b"
      },
      "outputs": [
        {
          "name": "stdout",
          "output_type": "stream",
          "text": [
            "0\n",
            "0\n",
            "0\n"
          ]
        }
      ],
      "source": [
        "print(data['hosp_outcm'].isna().sum())\n",
        "print(data['hosp_outcm'].isnull().sum())\n",
        "print((data['hosp_outcm'] == \" \").sum())"
      ]
    },
    {
      "cell_type": "code",
      "execution_count": null,
      "metadata": {
        "id": "LsDlHpgLdI8X",
        "tags": [],
        "outputId": "cac25250-1938-4c58-f73c-aae8e3d8d31b"
      },
      "outputs": [
        {
          "name": "stdout",
          "output_type": "stream",
          "text": [
            "Rows removed:  0\n",
            "New shape:  (81884, 193)\n"
          ]
        }
      ],
      "source": [
        "#exclude patients with missing hospital outcomes.\n",
        "previous_shape = data.shape[0]\n",
        "data.dropna(subset=['hosp_outcm'], inplace=True)\n",
        "print('Rows removed: ', (previous_shape - data.shape[0]))\n",
        "print('New shape: ', data.shape)\n"
      ]
    },
    {
      "cell_type": "code",
      "execution_count": null,
      "metadata": {
        "id": "1d3husrydJAv",
        "tags": [],
        "outputId": "d084b79d-56b9-4523-b4d8-4c8958bc3191"
      },
      "outputs": [
        {
          "data": {
            "text/plain": [
              "readmitted\n",
              "2    81884\n",
              "Name: count, dtype: int64"
            ]
          },
          "execution_count": 142,
          "metadata": {},
          "output_type": "execute_result"
        }
      ],
      "source": [
        "#To avoid counting more than 1 hospital outcome for a patient during the same hospital stay,includ only each patient's first ICU admission.\n",
        "#whether this admission is a readmission or not (1=yes, 2=no)\n",
        "data['readmitted'].value_counts()"
      ]
    },
    {
      "cell_type": "code",
      "execution_count": null,
      "metadata": {
        "id": "3MQUm4xfdJEg",
        "tags": [],
        "outputId": "48d23ca7-1a72-41a4-c223-35d0a081ed7f"
      },
      "outputs": [
        {
          "name": "stdout",
          "output_type": "stream",
          "text": [
            "Rows removed:  0\n",
            "New shape:  (81884, 193)\n"
          ]
        }
      ],
      "source": [
        "previous_shape = data.shape[0]\n",
        "data = data[\n",
        "    ~(data.readmitted == 1)\n",
        "]\n",
        "print('Rows removed: ', (previous_shape - data.shape[0]))\n",
        "print('New shape: ', data.shape)\n"
      ]
    },
    {
      "cell_type": "code",
      "execution_count": null,
      "metadata": {
        "id": "Dr-PmoxydJJa",
        "tags": [],
        "outputId": "19e938bd-e51a-4255-90b0-3c54c40e0a75"
      },
      "outputs": [
        {
          "name": "stdout",
          "output_type": "stream",
          "text": [
            "DSiteID\n",
            "318    1629\n",
            "29     1407\n",
            "229    1403\n",
            "37     1399\n",
            "105    1278\n",
            "       ... \n",
            "257      82\n",
            "209      66\n",
            "785      65\n",
            "553      64\n",
            "633      35\n",
            "Name: count, Length: 192, dtype: int64\n"
          ]
        }
      ],
      "source": [
        "print(data['DSiteID'].value_counts())"
      ]
    },
    {
      "cell_type": "code",
      "execution_count": null,
      "metadata": {
        "id": "heyQCTY4xEZg",
        "tags": [],
        "outputId": "38a6d06d-7092-47f2-91de-1d13c5a4fa5d"
      },
      "outputs": [
        {
          "data": {
            "text/plain": [
              "True"
            ]
          },
          "execution_count": 145,
          "metadata": {},
          "output_type": "execute_result"
        }
      ],
      "source": [
        " data['DSLK581'].apply(lambda x: isinstance(x, str)).any()"
      ]
    },
    {
      "cell_type": "markdown",
      "metadata": {
        "id": "imaoMCBZv5Md"
      },
      "source": [
        "There are text vlaues in DSLK581 column."
      ]
    },
    {
      "cell_type": "code",
      "execution_count": null,
      "metadata": {
        "id": "As8xUTlJssXU",
        "tags": [],
        "outputId": "984cdc1c-51ea-485f-d1c2-b9e16e84fdc3"
      },
      "outputs": [
        {
          "name": "stdout",
          "output_type": "stream",
          "text": [
            "39\n",
            "39\n",
            "0\n"
          ]
        }
      ],
      "source": [
        "\n",
        "print(data['apache3score'].isna().sum())\n",
        "print(data['apache3score'].isnull().sum())\n",
        "print((data['apache3score'] == \" \").sum())"
      ]
    },
    {
      "cell_type": "code",
      "execution_count": null,
      "metadata": {
        "id": "waYm7YpNxEcf",
        "tags": [],
        "outputId": "808d8e26-3852-4a82-8893-e463ae0891d5"
      },
      "outputs": [
        {
          "name": "stdout",
          "output_type": "stream",
          "text": [
            "icu_hrs\n",
            "24.000000     309\n",
            "21.000000     277\n",
            "22.000000     262\n",
            "20.000000     249\n",
            "23.000000     247\n",
            "             ... \n",
            "181.183333      1\n",
            "269.166666      1\n",
            "470.766666      1\n",
            "121.800000      1\n",
            "217.000000      1\n",
            "Name: count, Length: 14520, dtype: int64\n"
          ]
        }
      ],
      "source": [
        "print(data['icu_hrs'].value_counts())\n"
      ]
    },
    {
      "cell_type": "code",
      "execution_count": null,
      "metadata": {
        "id": "uWZEUFnXxEko",
        "tags": [],
        "outputId": "7413f674-75c1-4e12-e6f4-770d59db3df2"
      },
      "outputs": [
        {
          "name": "stdout",
          "output_type": "stream",
          "text": [
            "5          False\n",
            "26         False\n",
            "47         False\n",
            "56         False\n",
            "144        False\n",
            "           ...  \n",
            "1143240     True\n",
            "1143247     True\n",
            "1143267    False\n",
            "1143274    False\n",
            "1143284    False\n",
            "Name: icu_hrs, Length: 81884, dtype: bool\n"
          ]
        }
      ],
      "source": [
        "print(data['icu_hrs']<= 24)"
      ]
    },
    {
      "cell_type": "code",
      "execution_count": null,
      "metadata": {
        "id": "jEQfII8NxEut",
        "tags": [],
        "outputId": "6b975bed-ac4e-4791-993c-e176e284dd0e"
      },
      "outputs": [
        {
          "name": "stdout",
          "output_type": "stream",
          "text": [
            "Rows removed:  0\n",
            "New shape:  (81884, 193)\n"
          ]
        }
      ],
      "source": [
        "# Remove patients missing an acute physiology score on ICU day 1\n",
        "previous_shape = data.shape[0]\n",
        "\n",
        "data = data[\n",
        "    ~((data['icu_hrs']<= 24) & (data['apache3score'].isna()))\n",
        "]\n",
        "print('Rows removed: ', (previous_shape - data.shape[0]))\n",
        "print('New shape: ', data.shape)\n"
      ]
    },
    {
      "cell_type": "code",
      "execution_count": null,
      "metadata": {
        "tags": [],
        "id": "CxDidNEVlrga"
      },
      "outputs": [],
      "source": [
        "physio_vars = ['temperaturescore', 'meanarterialpressurescore', 'heartratescore', 'respiratoryratescore',\n",
        "               'sodiumscore', 'creatininescore', 'haematocritscore', 'whitecellcountscore', 'oxygenationscore',\n",
        "               'urineoutputscore', 'glucosescore', 'bilirubinscore', 'albuminscore', 'phscore', 'neurologicalscore']"
      ]
    },
    {
      "cell_type": "markdown",
      "metadata": {
        "id": "-w6Z_vXIlrga"
      },
      "source": [
        "Remove those raws were a physiological variable is missing on the first day."
      ]
    },
    {
      "cell_type": "code",
      "execution_count": null,
      "metadata": {
        "tags": [],
        "id": "X1e2f0E5lrga",
        "outputId": "0393b87d-0e19-4c90-a195-f42f9daac244"
      },
      "outputs": [
        {
          "name": "stdout",
          "output_type": "stream",
          "text": [
            "Rows removed:  0\n",
            "New shape:  (81884, 193)\n"
          ]
        }
      ],
      "source": [
        "previous_shape = data.shape[0]\n",
        "for i in physio_vars:\n",
        "    data = data[\n",
        "    ~((data['icu_hrs']<= 24) & (data[i].isna()))\n",
        "]\n",
        "\n",
        "print('Rows removed: ', (previous_shape - data.shape[0]))\n",
        "print('New shape: ', data.shape)"
      ]
    },
    {
      "cell_type": "markdown",
      "metadata": {
        "id": "FyfhxxxNlrgb"
      },
      "source": [
        "Drop patients who have a treatment limitation (since most cases have no treatment limitation, treats NA values as no limitation)"
      ]
    },
    {
      "cell_type": "code",
      "execution_count": null,
      "metadata": {
        "id": "Een5h4POdJT9",
        "tags": [],
        "outputId": "a5bf5a52-5ea1-4445-e142-3cb51b57e40c"
      },
      "outputs": [
        {
          "name": "stdout",
          "output_type": "stream",
          "text": [
            "Rows removed:  0\n",
            "New shape:  (81884, 193)\n"
          ]
        }
      ],
      "source": [
        "previous_shape = data.shape[0]\n",
        "\n",
        "data = data[\n",
        "    (data.treat_lmt.isin([1,np.nan])) # no treatment limitation\n",
        "]\n",
        "\n",
        "print('Rows removed: ', (previous_shape - data.shape[0]))\n",
        "print('New shape: ', data.shape)"
      ]
    },
    {
      "cell_type": "markdown",
      "metadata": {
        "id": "Kh9Tm_rGps6M"
      },
      "source": [
        "Drop patients whose ICU outcome is transferred to another ICU. Include NA values"
      ]
    },
    {
      "cell_type": "code",
      "execution_count": null,
      "metadata": {
        "id": "lp5IjF1wps_q",
        "tags": [],
        "outputId": "4a315719-3f74-433b-efb3-45127b6a330d"
      },
      "outputs": [
        {
          "name": "stdout",
          "output_type": "stream",
          "text": [
            "Rows removed:  0\n",
            "New shape:  (81884, 193)\n"
          ]
        }
      ],
      "source": [
        "previous_shape = data.shape[0]\n",
        "\n",
        "data = data[\n",
        "    (data.icu_outcm.isin([2,3,6,np.nan])) # icu_outcm shows either died(2) or survived(3) or transferred hosp (6)\n",
        "]\n",
        "\n",
        "print('Rows removed: ', (previous_shape - data.shape[0]))\n",
        "print('New shape: ', data.shape)"
      ]
    },
    {
      "cell_type": "markdown",
      "metadata": {
        "id": "Kwc1bNO5dJaI"
      },
      "source": [
        "Include only first-time admissions"
      ]
    },
    {
      "cell_type": "markdown",
      "metadata": {
        "id": "8_qRG922lrgc"
      },
      "source": [
        "#admepisode  \n",
        "To obtain first admissions you can pull out everyone with AdmEpisode = 0 or 1  \n",
        "0 first admission (patient had no subsequent readmissions)  \n",
        "1 first admission (patient had at least 1 readmission)  \n",
        "2 2nd admission during this hospital stay (i.e. 1st readmission)  \n",
        "3 3rd admission during this hospital stay  \n",
        "4 4th admission during this hospital stay  \n",
        "5 5th admission during this hospital stay  "
      ]
    },
    {
      "cell_type": "code",
      "execution_count": null,
      "metadata": {
        "id": "-Hc-C1E5lrgc",
        "outputId": "da53ab0a-c2ce-4872-ea43-7ba1715c8f76"
      },
      "outputs": [
        {
          "name": "stdout",
          "output_type": "stream",
          "text": [
            "Rows removed:  0\n",
            "New shape:  (81884, 193)\n"
          ]
        }
      ],
      "source": [
        "previous_shape = data.shape[0]\n",
        "\n",
        "data = data[\n",
        "    (data.admepisode.isin([0,1,np.nan])) # Include first-time admissions only\n",
        "]\n",
        "\n",
        "print('Rows removed: ', (previous_shape - data.shape[0]))\n",
        "print('New shape: ', data.shape)"
      ]
    },
    {
      "cell_type": "markdown",
      "metadata": {
        "id": "0PzizvSOlrgd"
      },
      "source": [
        "## Select features of interest"
      ]
    },
    {
      "cell_type": "markdown",
      "metadata": {
        "id": "RyEzoQt-lrgd"
      },
      "source": [
        "Pick relavent features Some variables are obvious irrelavent. Fist pick a rough set of candidates based on two subsets: then to refine the list through EDA.  \n",
        "\n",
        "1. Biological background info\n",
        "2. Highest and lowest physiology in first 24 hours of ICU stay"
      ]
    },
    {
      "cell_type": "markdown",
      "metadata": {
        "id": "yK1ZLam_lrgd"
      },
      "source": [
        "### Response Variable"
      ]
    },
    {
      "cell_type": "markdown",
      "metadata": {
        "id": "faa5tus-lrgd"
      },
      "source": [
        "This model predicts the risk of death at the time of ICU admission, so anzrod20riskofdeath is the target variable, and remove hosp_outcm, icu_outcm and died_icu."
      ]
    },
    {
      "cell_type": "code",
      "execution_count": null,
      "metadata": {
        "id": "Sd22oLYMlrge"
      },
      "outputs": [],
      "source": [
        "target_var = ['died_hosp']"
      ]
    },
    {
      "cell_type": "code",
      "execution_count": null,
      "metadata": {
        "tags": [],
        "id": "JELrN9PQlrge"
      },
      "outputs": [],
      "source": [
        "bio_vars = ['chr_resp', 'chr_cvs', 'chr_liv', 'chr_ren', 'immundis',\n",
        "                      'immunrx', 'aids', 'hepfail', 'lymphoma', 'metast', 'leukaem',\n",
        "                       'DIABETES', 'weight', 'height', 'preg_stat',\n",
        "                       'intubated']"
      ]
    },
    {
      "cell_type": "code",
      "execution_count": null,
      "metadata": {
        "tags": [],
        "id": "w0nAJClWlrge"
      },
      "outputs": [],
      "source": [
        "addtl_vars = ['anzrod20riskofdeath','apache3riskofdeath', 'anzrod15riskofdeath', 'apache3score','pre_icu_hrs','ELECT_SURG','agescore','treat_lmt','hosp_srce','icu_srce']"
      ]
    },
    {
      "cell_type": "code",
      "execution_count": null,
      "metadata": {
        "id": "irXmQ5Vklrge",
        "outputId": "23e1f0ee-5ce9-45bd-d66a-099c59d09fae"
      },
      "outputs": [
        {
          "data": {
            "text/plain": [
              "(81884, 42)"
            ]
          },
          "execution_count": 158,
          "metadata": {},
          "output_type": "execute_result"
        }
      ],
      "source": [
        "final_data = data[bio_vars + physio_vars + addtl_vars + target_var]\n",
        "final_data.shape"
      ]
    },
    {
      "cell_type": "markdown",
      "metadata": {
        "id": "0aI_2ev6ssfm"
      },
      "source": [
        "## Split into trainning and test set\n",
        "Before doing any EDA on the data, it is best practice to split the data into trainning and test set, and only explore on the trainning set.  \n",
        "But first check missing values in target variable died_hosp"
      ]
    },
    {
      "cell_type": "code",
      "execution_count": null,
      "metadata": {
        "id": "sSAhjP0olrgf",
        "outputId": "e4114dcc-214c-46a0-a26b-e6069e649aed"
      },
      "outputs": [
        {
          "data": {
            "text/plain": [
              "0"
            ]
          },
          "execution_count": 159,
          "metadata": {},
          "output_type": "execute_result"
        }
      ],
      "source": [
        "final_data.died_hosp.isnull().sum()"
      ]
    },
    {
      "cell_type": "code",
      "execution_count": null,
      "metadata": {
        "tags": [],
        "id": "QXj565a8lrgf",
        "outputId": "1564c957-efc3-467b-e2d2-232e00884939"
      },
      "outputs": [
        {
          "data": {
            "text/plain": [
              "0.0"
            ]
          },
          "execution_count": 160,
          "metadata": {},
          "output_type": "execute_result"
        }
      ],
      "source": [
        "final_data.died_hosp.isnull().sum() / final_data.shape[0] * 100"
      ]
    },
    {
      "cell_type": "code",
      "execution_count": null,
      "metadata": {
        "tags": [],
        "id": "71jh5MQllrgf",
        "outputId": "d47642f5-4df7-45aa-922e-272a4326c5d4"
      },
      "outputs": [
        {
          "name": "stdout",
          "output_type": "stream",
          "text": [
            "Rows removed:  0\n",
            "New shape:  (81884, 38)\n"
          ]
        }
      ],
      "source": [
        "previous_shape = final_data.shape[0]\n",
        "final_data_clean = final_data.copy() # keep a copy of data_candidate\n",
        "\n",
        "final_data = final_data.drop(columns = ['anzrod20riskofdeath','apache3riskofdeath', 'anzrod15riskofdeath', 'apache3score'])\n",
        "\n",
        "scaler = MinMaxScaler(feature_range=(-1, 1))\n",
        "final_data['weight'] = scaler.fit_transform(final_data['weight'].values.reshape(-1,1))\n",
        "final_data['height'] = scaler.fit_transform(final_data['height'].values.reshape(-1,1))\n",
        "final_data['pre_icu_hrs'] = scaler.fit_transform(final_data['pre_icu_hrs'].values.reshape(-1,1))\n",
        "\n",
        "final_data = final_data.dropna(subset=['died_hosp'])\n",
        "\n",
        "print('Rows removed: ', (previous_shape - final_data.shape[0]))\n",
        "print('New shape: ', final_data.shape)"
      ]
    },
    {
      "cell_type": "code",
      "execution_count": null,
      "metadata": {
        "id": "6FRRhbpWlrgg"
      },
      "outputs": [],
      "source": [
        "def show_na_info(df, missing_only = False):\n",
        "    rlt = pd.DataFrame({'count' : df.isnull().sum(),\n",
        "              'percent' : df.isnull().sum() / df.shape[0] * 100})\n",
        "    if missing_only:\n",
        "        rlt = rlt[rlt['count'] > 0]\n",
        "    return rlt[['count', 'percent']]"
      ]
    },
    {
      "cell_type": "code",
      "execution_count": null,
      "metadata": {
        "id": "2lCZHM4qlrgg",
        "outputId": "8b352487-95ea-4971-fd32-fd47ba2f8429"
      },
      "outputs": [
        {
          "data": {
            "text/html": [
              "<h3>Missing values percentage in the dataset</h3><div id=\"missing_percent\" style=\"height:200px; overflow:auto;\"><table border=\"1\" class=\"dataframe\">\n",
              "  <thead>\n",
              "    <tr style=\"text-align: right;\">\n",
              "      <th></th>\n",
              "      <th>count</th>\n",
              "      <th>percent</th>\n",
              "    </tr>\n",
              "  </thead>\n",
              "  <tbody>\n",
              "    <tr>\n",
              "      <th>preg_stat</th>\n",
              "      <td>65577</td>\n",
              "      <td>80.085243</td>\n",
              "    </tr>\n",
              "    <tr>\n",
              "      <th>height</th>\n",
              "      <td>32083</td>\n",
              "      <td>39.181037</td>\n",
              "    </tr>\n",
              "    <tr>\n",
              "      <th>weight</th>\n",
              "      <td>25714</td>\n",
              "      <td>31.402960</td>\n",
              "    </tr>\n",
              "    <tr>\n",
              "      <th>intubated</th>\n",
              "      <td>11635</td>\n",
              "      <td>14.209125</td>\n",
              "    </tr>\n",
              "    <tr>\n",
              "      <th>DIABETES</th>\n",
              "      <td>6893</td>\n",
              "      <td>8.418006</td>\n",
              "    </tr>\n",
              "    <tr>\n",
              "      <th>hosp_srce</th>\n",
              "      <td>352</td>\n",
              "      <td>0.429876</td>\n",
              "    </tr>\n",
              "    <tr>\n",
              "      <th>ELECT_SURG</th>\n",
              "      <td>249</td>\n",
              "      <td>0.304089</td>\n",
              "    </tr>\n",
              "    <tr>\n",
              "      <th>immundis</th>\n",
              "      <td>195</td>\n",
              "      <td>0.238142</td>\n",
              "    </tr>\n",
              "    <tr>\n",
              "      <th>immunrx</th>\n",
              "      <td>195</td>\n",
              "      <td>0.238142</td>\n",
              "    </tr>\n",
              "    <tr>\n",
              "      <th>chr_liv</th>\n",
              "      <td>195</td>\n",
              "      <td>0.238142</td>\n",
              "    </tr>\n",
              "    <tr>\n",
              "      <th>chr_cvs</th>\n",
              "      <td>195</td>\n",
              "      <td>0.238142</td>\n",
              "    </tr>\n",
              "    <tr>\n",
              "      <th>chr_resp</th>\n",
              "      <td>195</td>\n",
              "      <td>0.238142</td>\n",
              "    </tr>\n",
              "    <tr>\n",
              "      <th>chr_ren</th>\n",
              "      <td>195</td>\n",
              "      <td>0.238142</td>\n",
              "    </tr>\n",
              "    <tr>\n",
              "      <th>lymphoma</th>\n",
              "      <td>85</td>\n",
              "      <td>0.103805</td>\n",
              "    </tr>\n",
              "    <tr>\n",
              "      <th>leukaem</th>\n",
              "      <td>85</td>\n",
              "      <td>0.103805</td>\n",
              "    </tr>\n",
              "    <tr>\n",
              "      <th>hepfail</th>\n",
              "      <td>85</td>\n",
              "      <td>0.103805</td>\n",
              "    </tr>\n",
              "    <tr>\n",
              "      <th>metast</th>\n",
              "      <td>85</td>\n",
              "      <td>0.103805</td>\n",
              "    </tr>\n",
              "    <tr>\n",
              "      <th>aids</th>\n",
              "      <td>85</td>\n",
              "      <td>0.103805</td>\n",
              "    </tr>\n",
              "    <tr>\n",
              "      <th>pre_icu_hrs</th>\n",
              "      <td>55</td>\n",
              "      <td>0.067168</td>\n",
              "    </tr>\n",
              "    <tr>\n",
              "      <th>treat_lmt</th>\n",
              "      <td>27</td>\n",
              "      <td>0.032973</td>\n",
              "    </tr>\n",
              "    <tr>\n",
              "      <th>icu_srce</th>\n",
              "      <td>1</td>\n",
              "      <td>0.001221</td>\n",
              "    </tr>\n",
              "    <tr>\n",
              "      <th>temperaturescore</th>\n",
              "      <td>0</td>\n",
              "      <td>0.000000</td>\n",
              "    </tr>\n",
              "    <tr>\n",
              "      <th>creatininescore</th>\n",
              "      <td>0</td>\n",
              "      <td>0.000000</td>\n",
              "    </tr>\n",
              "    <tr>\n",
              "      <th>sodiumscore</th>\n",
              "      <td>0</td>\n",
              "      <td>0.000000</td>\n",
              "    </tr>\n",
              "    <tr>\n",
              "      <th>respiratoryratescore</th>\n",
              "      <td>0</td>\n",
              "      <td>0.000000</td>\n",
              "    </tr>\n",
              "    <tr>\n",
              "      <th>heartratescore</th>\n",
              "      <td>0</td>\n",
              "      <td>0.000000</td>\n",
              "    </tr>\n",
              "    <tr>\n",
              "      <th>meanarterialpressurescore</th>\n",
              "      <td>0</td>\n",
              "      <td>0.000000</td>\n",
              "    </tr>\n",
              "    <tr>\n",
              "      <th>haematocritscore</th>\n",
              "      <td>0</td>\n",
              "      <td>0.000000</td>\n",
              "    </tr>\n",
              "    <tr>\n",
              "      <th>oxygenationscore</th>\n",
              "      <td>0</td>\n",
              "      <td>0.000000</td>\n",
              "    </tr>\n",
              "    <tr>\n",
              "      <th>whitecellcountscore</th>\n",
              "      <td>0</td>\n",
              "      <td>0.000000</td>\n",
              "    </tr>\n",
              "    <tr>\n",
              "      <th>phscore</th>\n",
              "      <td>0</td>\n",
              "      <td>0.000000</td>\n",
              "    </tr>\n",
              "    <tr>\n",
              "      <th>albuminscore</th>\n",
              "      <td>0</td>\n",
              "      <td>0.000000</td>\n",
              "    </tr>\n",
              "    <tr>\n",
              "      <th>bilirubinscore</th>\n",
              "      <td>0</td>\n",
              "      <td>0.000000</td>\n",
              "    </tr>\n",
              "    <tr>\n",
              "      <th>glucosescore</th>\n",
              "      <td>0</td>\n",
              "      <td>0.000000</td>\n",
              "    </tr>\n",
              "    <tr>\n",
              "      <th>urineoutputscore</th>\n",
              "      <td>0</td>\n",
              "      <td>0.000000</td>\n",
              "    </tr>\n",
              "    <tr>\n",
              "      <th>neurologicalscore</th>\n",
              "      <td>0</td>\n",
              "      <td>0.000000</td>\n",
              "    </tr>\n",
              "    <tr>\n",
              "      <th>agescore</th>\n",
              "      <td>0</td>\n",
              "      <td>0.000000</td>\n",
              "    </tr>\n",
              "    <tr>\n",
              "      <th>died_hosp</th>\n",
              "      <td>0</td>\n",
              "      <td>0.000000</td>\n",
              "    </tr>\n",
              "  </tbody>\n",
              "</table></div>"
            ],
            "text/plain": [
              "<IPython.core.display.HTML object>"
            ]
          },
          "metadata": {},
          "output_type": "display_data"
        }
      ],
      "source": [
        "missing_percent = show_na_info(final_data).sort_values('percent', ascending=False)\n",
        "html_datatypes = create_scrollable_table(missing_percent, 'missing_percent', 'Missing values percentage in the dataset')\n",
        "display(HTML(html_datatypes))"
      ]
    },
    {
      "cell_type": "code",
      "execution_count": null,
      "metadata": {
        "tags": [],
        "id": "ZiDz4qZMlrgg",
        "outputId": "42c4361b-ebff-4e29-c05f-12c4e99fcf2c"
      },
      "outputs": [
        {
          "name": "stdout",
          "output_type": "stream",
          "text": [
            "0\n"
          ]
        },
        {
          "name": "stderr",
          "output_type": "stream",
          "text": [
            "/tmp/ipykernel_190/3848200083.py:2: FutureWarning: A value is trying to be set on a copy of a DataFrame or Series through chained assignment using an inplace method.\n",
            "The behavior will change in pandas 3.0. This inplace method will never work because the intermediate object on which we are setting values always behaves as a copy.\n",
            "\n",
            "For example, when doing 'df[col].method(value, inplace=True)', try using 'df.method({col: value}, inplace=True)' or df[col] = df[col].method(value) instead, to perform the operation inplace on the original object.\n",
            "\n",
            "\n",
            "  final_data['preg_stat'].fillna(1,inplace = True)\n"
          ]
        }
      ],
      "source": [
        "#filling missing values for CaseID column with 1:not pregnant\n",
        "final_data['preg_stat'].fillna(1,inplace = True)\n",
        "print(final_data['preg_stat'].isna().sum())"
      ]
    },
    {
      "cell_type": "code",
      "execution_count": null,
      "metadata": {
        "tags": [],
        "id": "2AnFeeVZlrgh",
        "outputId": "1c6916a2-bc10-4744-d818-78e053b941ed"
      },
      "outputs": [
        {
          "name": "stdout",
          "output_type": "stream",
          "text": [
            "0\n"
          ]
        },
        {
          "name": "stderr",
          "output_type": "stream",
          "text": [
            "/tmp/ipykernel_190/2032627121.py:3: FutureWarning: A value is trying to be set on a copy of a DataFrame or Series through chained assignment using an inplace method.\n",
            "The behavior will change in pandas 3.0. This inplace method will never work because the intermediate object on which we are setting values always behaves as a copy.\n",
            "\n",
            "For example, when doing 'df[col].method(value, inplace=True)', try using 'df.method({col: value}, inplace=True)' or df[col] = df[col].method(value) instead, to perform the operation inplace on the original object.\n",
            "\n",
            "\n",
            "  final_data['intubated'].fillna(2,inplace = True)\n"
          ]
        }
      ],
      "source": [
        "#intubated\n",
        "#filling missing values for CaseID column with 2:not intubated\n",
        "final_data['intubated'].fillna(2,inplace = True)\n",
        "print(final_data['intubated'].isna().sum())"
      ]
    },
    {
      "cell_type": "code",
      "execution_count": null,
      "metadata": {
        "id": "D_cQBGF9lrgh",
        "outputId": "e6be3594-bf03-4fb9-d272-1e138bf90cb0"
      },
      "outputs": [
        {
          "name": "stdout",
          "output_type": "stream",
          "text": [
            "0\n"
          ]
        },
        {
          "name": "stderr",
          "output_type": "stream",
          "text": [
            "/tmp/ipykernel_190/1181309175.py:2: FutureWarning: A value is trying to be set on a copy of a DataFrame or Series through chained assignment using an inplace method.\n",
            "The behavior will change in pandas 3.0. This inplace method will never work because the intermediate object on which we are setting values always behaves as a copy.\n",
            "\n",
            "For example, when doing 'df[col].method(value, inplace=True)', try using 'df.method({col: value}, inplace=True)' or df[col] = df[col].method(value) instead, to perform the operation inplace on the original object.\n",
            "\n",
            "\n",
            "  final_data['hosp_srce'].fillna(1,inplace = True)\n"
          ]
        }
      ],
      "source": [
        "#hosp_srce:1-Home\n",
        "final_data['hosp_srce'].fillna(1,inplace = True)\n",
        "print(final_data['hosp_srce'].isna().sum())"
      ]
    },
    {
      "cell_type": "code",
      "execution_count": null,
      "metadata": {
        "tags": [],
        "id": "9yHK0ibklrgh"
      },
      "outputs": [],
      "source": [
        "final_data['height'] = final_data['height'].fillna(final_data['height'].mean())"
      ]
    },
    {
      "cell_type": "code",
      "execution_count": null,
      "metadata": {
        "id": "DeFuBKMalrgh"
      },
      "outputs": [],
      "source": [
        "final_data['weight'] = final_data['weight'].fillna(final_data['weight'].mean())\n",
        "final_data['DIABETES'] = final_data['DIABETES'].fillna(final_data['DIABETES'].mean())"
      ]
    },
    {
      "cell_type": "code",
      "execution_count": null,
      "metadata": {
        "id": "A4hgH5rNlrgi",
        "outputId": "b83beff4-c931-496c-ac4e-e515a9511576"
      },
      "outputs": [
        {
          "name": "stdout",
          "output_type": "stream",
          "text": [
            "0\n"
          ]
        },
        {
          "name": "stderr",
          "output_type": "stream",
          "text": [
            "/tmp/ipykernel_190/4003454066.py:2: FutureWarning: A value is trying to be set on a copy of a DataFrame or Series through chained assignment using an inplace method.\n",
            "The behavior will change in pandas 3.0. This inplace method will never work because the intermediate object on which we are setting values always behaves as a copy.\n",
            "\n",
            "For example, when doing 'df[col].method(value, inplace=True)', try using 'df.method({col: value}, inplace=True)' or df[col] = df[col].method(value) instead, to perform the operation inplace on the original object.\n",
            "\n",
            "\n",
            "  final_data['ELECT_SURG'].fillna(2,inplace = True)\n"
          ]
        }
      ],
      "source": [
        "#ELECT_SURG:2-No\n",
        "final_data['ELECT_SURG'].fillna(2,inplace = True)\n",
        "print(final_data['ELECT_SURG'].isna().sum())"
      ]
    },
    {
      "cell_type": "code",
      "execution_count": null,
      "metadata": {
        "id": "haP2M4Yklrgi",
        "outputId": "024cb702-2701-44da-da95-814fb06ad5d8"
      },
      "outputs": [
        {
          "name": "stdout",
          "output_type": "stream",
          "text": [
            "0\n"
          ]
        },
        {
          "name": "stderr",
          "output_type": "stream",
          "text": [
            "/tmp/ipykernel_190/1847614705.py:2: FutureWarning: A value is trying to be set on a copy of a DataFrame or Series through chained assignment using an inplace method.\n",
            "The behavior will change in pandas 3.0. This inplace method will never work because the intermediate object on which we are setting values always behaves as a copy.\n",
            "\n",
            "For example, when doing 'df[col].method(value, inplace=True)', try using 'df.method({col: value}, inplace=True)' or df[col] = df[col].method(value) instead, to perform the operation inplace on the original object.\n",
            "\n",
            "\n",
            "  final_data['chr_liv'].fillna(2,inplace = True)\n"
          ]
        }
      ],
      "source": [
        "#chr_liv:2-No\n",
        "final_data['chr_liv'].fillna(2,inplace = True)\n",
        "print(final_data['chr_liv'].isna().sum())"
      ]
    },
    {
      "cell_type": "code",
      "execution_count": null,
      "metadata": {
        "id": "kHqSqRZBlrgi",
        "outputId": "93826be6-cc85-4e35-e158-894ec8b44bfd"
      },
      "outputs": [
        {
          "name": "stdout",
          "output_type": "stream",
          "text": [
            "0\n"
          ]
        },
        {
          "name": "stderr",
          "output_type": "stream",
          "text": [
            "/tmp/ipykernel_190/1138909622.py:2: FutureWarning: A value is trying to be set on a copy of a DataFrame or Series through chained assignment using an inplace method.\n",
            "The behavior will change in pandas 3.0. This inplace method will never work because the intermediate object on which we are setting values always behaves as a copy.\n",
            "\n",
            "For example, when doing 'df[col].method(value, inplace=True)', try using 'df.method({col: value}, inplace=True)' or df[col] = df[col].method(value) instead, to perform the operation inplace on the original object.\n",
            "\n",
            "\n",
            "  final_data['immunrx'].fillna(2,inplace = True)\n"
          ]
        }
      ],
      "source": [
        "#immunrx\n",
        "final_data['immunrx'].fillna(2,inplace = True)\n",
        "print(final_data['immunrx'].isna().sum())"
      ]
    },
    {
      "cell_type": "code",
      "execution_count": null,
      "metadata": {
        "id": "a8h-QiW8lrgj",
        "outputId": "1c577cbb-d921-454b-9c57-d8c0c103d6ee"
      },
      "outputs": [
        {
          "name": "stdout",
          "output_type": "stream",
          "text": [
            "0\n"
          ]
        },
        {
          "name": "stderr",
          "output_type": "stream",
          "text": [
            "/tmp/ipykernel_190/3293369077.py:2: FutureWarning: A value is trying to be set on a copy of a DataFrame or Series through chained assignment using an inplace method.\n",
            "The behavior will change in pandas 3.0. This inplace method will never work because the intermediate object on which we are setting values always behaves as a copy.\n",
            "\n",
            "For example, when doing 'df[col].method(value, inplace=True)', try using 'df.method({col: value}, inplace=True)' or df[col] = df[col].method(value) instead, to perform the operation inplace on the original object.\n",
            "\n",
            "\n",
            "  final_data['immundis'].fillna(2,inplace = True)\n"
          ]
        }
      ],
      "source": [
        "#immundis\n",
        "final_data['immundis'].fillna(2,inplace = True)\n",
        "print(final_data['immundis'].isna().sum())"
      ]
    },
    {
      "cell_type": "code",
      "execution_count": null,
      "metadata": {
        "id": "KOZyK0hulrgj",
        "outputId": "c70fca0f-60fb-41ac-c5c5-14a937a2aef2"
      },
      "outputs": [
        {
          "name": "stdout",
          "output_type": "stream",
          "text": [
            "0\n"
          ]
        },
        {
          "name": "stderr",
          "output_type": "stream",
          "text": [
            "/tmp/ipykernel_190/1964413022.py:2: FutureWarning: A value is trying to be set on a copy of a DataFrame or Series through chained assignment using an inplace method.\n",
            "The behavior will change in pandas 3.0. This inplace method will never work because the intermediate object on which we are setting values always behaves as a copy.\n",
            "\n",
            "For example, when doing 'df[col].method(value, inplace=True)', try using 'df.method({col: value}, inplace=True)' or df[col] = df[col].method(value) instead, to perform the operation inplace on the original object.\n",
            "\n",
            "\n",
            "  final_data['chr_ren'].fillna(2,inplace = True)\n"
          ]
        }
      ],
      "source": [
        "#chr_ren\n",
        "final_data['chr_ren'].fillna(2,inplace = True)\n",
        "print(final_data['chr_ren'].isna().sum())"
      ]
    },
    {
      "cell_type": "code",
      "execution_count": null,
      "metadata": {
        "id": "OK2ejFuSlrgj",
        "outputId": "54547d40-c692-4e3c-c7e2-cc6c9f1bd482"
      },
      "outputs": [
        {
          "name": "stdout",
          "output_type": "stream",
          "text": [
            "0\n"
          ]
        },
        {
          "name": "stderr",
          "output_type": "stream",
          "text": [
            "/tmp/ipykernel_190/2578419842.py:2: FutureWarning: A value is trying to be set on a copy of a DataFrame or Series through chained assignment using an inplace method.\n",
            "The behavior will change in pandas 3.0. This inplace method will never work because the intermediate object on which we are setting values always behaves as a copy.\n",
            "\n",
            "For example, when doing 'df[col].method(value, inplace=True)', try using 'df.method({col: value}, inplace=True)' or df[col] = df[col].method(value) instead, to perform the operation inplace on the original object.\n",
            "\n",
            "\n",
            "  final_data['chr_resp'].fillna(2,inplace = True)\n"
          ]
        }
      ],
      "source": [
        "#chr_resp\n",
        "final_data['chr_resp'].fillna(2,inplace = True)\n",
        "print(final_data['chr_resp'].isna().sum())"
      ]
    },
    {
      "cell_type": "code",
      "execution_count": null,
      "metadata": {
        "id": "MuJW2lDjlrgk",
        "outputId": "08f94d80-7ba2-4a0e-f463-fabda9cd4dfa"
      },
      "outputs": [
        {
          "name": "stdout",
          "output_type": "stream",
          "text": [
            "0\n"
          ]
        },
        {
          "name": "stderr",
          "output_type": "stream",
          "text": [
            "/tmp/ipykernel_190/2548556268.py:2: FutureWarning: A value is trying to be set on a copy of a DataFrame or Series through chained assignment using an inplace method.\n",
            "The behavior will change in pandas 3.0. This inplace method will never work because the intermediate object on which we are setting values always behaves as a copy.\n",
            "\n",
            "For example, when doing 'df[col].method(value, inplace=True)', try using 'df.method({col: value}, inplace=True)' or df[col] = df[col].method(value) instead, to perform the operation inplace on the original object.\n",
            "\n",
            "\n",
            "  final_data['chr_cvs'].fillna(2,inplace = True)\n"
          ]
        }
      ],
      "source": [
        "#chr_cvs\n",
        "final_data['chr_cvs'].fillna(2,inplace = True)\n",
        "print(final_data['chr_cvs'].isna().sum())"
      ]
    },
    {
      "cell_type": "code",
      "execution_count": null,
      "metadata": {
        "id": "rPii9_PQlrgk",
        "outputId": "4a3f1f66-d265-4c6b-94d0-1a499599b6c3"
      },
      "outputs": [
        {
          "name": "stdout",
          "output_type": "stream",
          "text": [
            "0\n"
          ]
        },
        {
          "name": "stderr",
          "output_type": "stream",
          "text": [
            "/tmp/ipykernel_190/2497594902.py:2: FutureWarning: A value is trying to be set on a copy of a DataFrame or Series through chained assignment using an inplace method.\n",
            "The behavior will change in pandas 3.0. This inplace method will never work because the intermediate object on which we are setting values always behaves as a copy.\n",
            "\n",
            "For example, when doing 'df[col].method(value, inplace=True)', try using 'df.method({col: value}, inplace=True)' or df[col] = df[col].method(value) instead, to perform the operation inplace on the original object.\n",
            "\n",
            "\n",
            "  final_data['aids'].fillna(2,inplace = True)\n"
          ]
        }
      ],
      "source": [
        "#aids\n",
        "final_data['aids'].fillna(2,inplace = True)\n",
        "print(final_data['aids'].isna().sum())"
      ]
    },
    {
      "cell_type": "code",
      "execution_count": null,
      "metadata": {
        "id": "KK5To3ntlrgk",
        "outputId": "81f1fcdd-02ec-4684-d390-7a3336a66be5"
      },
      "outputs": [
        {
          "name": "stdout",
          "output_type": "stream",
          "text": [
            "0\n"
          ]
        },
        {
          "name": "stderr",
          "output_type": "stream",
          "text": [
            "/tmp/ipykernel_190/356627447.py:2: FutureWarning: A value is trying to be set on a copy of a DataFrame or Series through chained assignment using an inplace method.\n",
            "The behavior will change in pandas 3.0. This inplace method will never work because the intermediate object on which we are setting values always behaves as a copy.\n",
            "\n",
            "For example, when doing 'df[col].method(value, inplace=True)', try using 'df.method({col: value}, inplace=True)' or df[col] = df[col].method(value) instead, to perform the operation inplace on the original object.\n",
            "\n",
            "\n",
            "  final_data['metast'].fillna(2,inplace = True)\n"
          ]
        }
      ],
      "source": [
        "#metast\n",
        "final_data['metast'].fillna(2,inplace = True)\n",
        "print(final_data['metast'].isna().sum())"
      ]
    },
    {
      "cell_type": "code",
      "execution_count": null,
      "metadata": {
        "id": "6qxy6YBhlrgk",
        "outputId": "064d94d1-513c-43cc-a6ec-83289dc65f2c"
      },
      "outputs": [
        {
          "name": "stdout",
          "output_type": "stream",
          "text": [
            "0\n"
          ]
        },
        {
          "name": "stderr",
          "output_type": "stream",
          "text": [
            "/tmp/ipykernel_190/389154148.py:2: FutureWarning: A value is trying to be set on a copy of a DataFrame or Series through chained assignment using an inplace method.\n",
            "The behavior will change in pandas 3.0. This inplace method will never work because the intermediate object on which we are setting values always behaves as a copy.\n",
            "\n",
            "For example, when doing 'df[col].method(value, inplace=True)', try using 'df.method({col: value}, inplace=True)' or df[col] = df[col].method(value) instead, to perform the operation inplace on the original object.\n",
            "\n",
            "\n",
            "  final_data['lymphoma'].fillna(2,inplace = True)\n"
          ]
        }
      ],
      "source": [
        "#lymphoma\n",
        "final_data['lymphoma'].fillna(2,inplace = True)\n",
        "print(final_data['lymphoma'].isna().sum())"
      ]
    },
    {
      "cell_type": "code",
      "execution_count": null,
      "metadata": {
        "id": "zcagu0Dflrgl",
        "outputId": "50c5f026-5fe5-4ef9-bdd0-3d84a22f9b3c"
      },
      "outputs": [
        {
          "name": "stdout",
          "output_type": "stream",
          "text": [
            "0\n"
          ]
        },
        {
          "name": "stderr",
          "output_type": "stream",
          "text": [
            "/tmp/ipykernel_190/2512455066.py:2: FutureWarning: A value is trying to be set on a copy of a DataFrame or Series through chained assignment using an inplace method.\n",
            "The behavior will change in pandas 3.0. This inplace method will never work because the intermediate object on which we are setting values always behaves as a copy.\n",
            "\n",
            "For example, when doing 'df[col].method(value, inplace=True)', try using 'df.method({col: value}, inplace=True)' or df[col] = df[col].method(value) instead, to perform the operation inplace on the original object.\n",
            "\n",
            "\n",
            "  final_data['hepfail'].fillna(2,inplace = True)\n"
          ]
        }
      ],
      "source": [
        "#hepfail\n",
        "final_data['hepfail'].fillna(2,inplace = True)\n",
        "print(final_data['hepfail'].isna().sum())"
      ]
    },
    {
      "cell_type": "code",
      "execution_count": null,
      "metadata": {
        "id": "GND35DxIlrgl",
        "outputId": "9be445d6-9f26-4da8-f6b6-030466ead7d8"
      },
      "outputs": [
        {
          "name": "stdout",
          "output_type": "stream",
          "text": [
            "0\n"
          ]
        },
        {
          "name": "stderr",
          "output_type": "stream",
          "text": [
            "/tmp/ipykernel_190/2322104996.py:2: FutureWarning: A value is trying to be set on a copy of a DataFrame or Series through chained assignment using an inplace method.\n",
            "The behavior will change in pandas 3.0. This inplace method will never work because the intermediate object on which we are setting values always behaves as a copy.\n",
            "\n",
            "For example, when doing 'df[col].method(value, inplace=True)', try using 'df.method({col: value}, inplace=True)' or df[col] = df[col].method(value) instead, to perform the operation inplace on the original object.\n",
            "\n",
            "\n",
            "  final_data['leukaem'].fillna(2,inplace = True)\n"
          ]
        }
      ],
      "source": [
        "#leukaem\n",
        "final_data['leukaem'].fillna(2,inplace = True)\n",
        "print(final_data['leukaem'].isna().sum())"
      ]
    },
    {
      "cell_type": "code",
      "execution_count": null,
      "metadata": {
        "id": "Was81rgrlrgl",
        "outputId": "5a444d5d-cb31-4edd-d333-0aac5acfad39"
      },
      "outputs": [
        {
          "name": "stdout",
          "output_type": "stream",
          "text": [
            "0\n"
          ]
        },
        {
          "name": "stderr",
          "output_type": "stream",
          "text": [
            "/tmp/ipykernel_190/1346018129.py:2: FutureWarning: A value is trying to be set on a copy of a DataFrame or Series through chained assignment using an inplace method.\n",
            "The behavior will change in pandas 3.0. This inplace method will never work because the intermediate object on which we are setting values always behaves as a copy.\n",
            "\n",
            "For example, when doing 'df[col].method(value, inplace=True)', try using 'df.method({col: value}, inplace=True)' or df[col] = df[col].method(value) instead, to perform the operation inplace on the original object.\n",
            "\n",
            "\n",
            "  final_data['pre_icu_hrs'].fillna(0,inplace = True)\n"
          ]
        }
      ],
      "source": [
        "#pre_icu_hrs\n",
        "final_data['pre_icu_hrs'].fillna(0,inplace = True)\n",
        "print(final_data['pre_icu_hrs'].isna().sum())"
      ]
    },
    {
      "cell_type": "code",
      "execution_count": null,
      "metadata": {
        "id": "ESiM3zpblrgl",
        "outputId": "b001bec9-087a-4757-e1bb-9ca98705ef24"
      },
      "outputs": [
        {
          "name": "stdout",
          "output_type": "stream",
          "text": [
            "0\n"
          ]
        },
        {
          "name": "stderr",
          "output_type": "stream",
          "text": [
            "/tmp/ipykernel_190/1585731119.py:2: FutureWarning: A value is trying to be set on a copy of a DataFrame or Series through chained assignment using an inplace method.\n",
            "The behavior will change in pandas 3.0. This inplace method will never work because the intermediate object on which we are setting values always behaves as a copy.\n",
            "\n",
            "For example, when doing 'df[col].method(value, inplace=True)', try using 'df.method({col: value}, inplace=True)' or df[col] = df[col].method(value) instead, to perform the operation inplace on the original object.\n",
            "\n",
            "\n",
            "  final_data['treat_lmt'].fillna(1,inplace = True)\n"
          ]
        }
      ],
      "source": [
        "#treat_lmt\n",
        "final_data['treat_lmt'].fillna(1,inplace = True)\n",
        "print(final_data['treat_lmt'].isna().sum())"
      ]
    },
    {
      "cell_type": "code",
      "execution_count": null,
      "metadata": {
        "id": "xxVsDLt_lrgm",
        "outputId": "30f432d3-e6a7-44f5-dc79-543706c98f54"
      },
      "outputs": [
        {
          "name": "stdout",
          "output_type": "stream",
          "text": [
            "0\n"
          ]
        },
        {
          "name": "stderr",
          "output_type": "stream",
          "text": [
            "/tmp/ipykernel_190/2477050930.py:2: FutureWarning: A value is trying to be set on a copy of a DataFrame or Series through chained assignment using an inplace method.\n",
            "The behavior will change in pandas 3.0. This inplace method will never work because the intermediate object on which we are setting values always behaves as a copy.\n",
            "\n",
            "For example, when doing 'df[col].method(value, inplace=True)', try using 'df.method({col: value}, inplace=True)' or df[col] = df[col].method(value) instead, to perform the operation inplace on the original object.\n",
            "\n",
            "\n",
            "  final_data['icu_srce'].fillna(3,inplace = True)\n"
          ]
        }
      ],
      "source": [
        "#icu_srce\n",
        "final_data['icu_srce'].fillna(3,inplace = True)\n",
        "print(final_data['icu_srce'].isna().sum())"
      ]
    },
    {
      "cell_type": "code",
      "execution_count": null,
      "metadata": {
        "tags": [],
        "id": "T0TJMEePlrgm",
        "outputId": "ec028ad4-f209-4440-88f6-47f22c932739"
      },
      "outputs": [
        {
          "data": {
            "image/png": "[encoded data removed]",
            "text/plain": [
              "<Figure size 2000x2000 with 2 Axes>"
            ]
          },
          "metadata": {},
          "output_type": "display_data"
        }
      ],
      "source": [
        "plt.figure(figsize=(20,20))\n",
        "_=sns.heatmap(final_data.corr(),cmap='PiYG')"
      ]
    },
    {
      "cell_type": "code",
      "execution_count": null,
      "metadata": {
        "tags": [],
        "id": "qfyNcw0glrgn"
      },
      "outputs": [],
      "source": [
        "#selecting the features for prediction in X_feat set and target variable as y_feat\n",
        "X_feat= final_data.drop(['died_hosp'],axis=1)\n",
        "y_feat = final_data['died_hosp']"
      ]
    },
    {
      "cell_type": "code",
      "execution_count": null,
      "metadata": {
        "id": "F1g_yXwplrgn",
        "outputId": "222121b6-29ce-4aa1-f3fe-2f5b08c1db5c"
      },
      "outputs": [
        {
          "name": "stdout",
          "output_type": "stream",
          "text": [
            "(81884, 37)\n",
            "(81884,)\n"
          ]
        }
      ],
      "source": [
        "print(X_feat.shape)\n",
        "print(y_feat.shape)"
      ]
    },
    {
      "cell_type": "code",
      "execution_count": null,
      "metadata": {
        "tags": [],
        "id": "gnAbm_6Hlrgo",
        "outputId": "953cf852-1248-4d82-d7ff-31c3da1b1ad6"
      },
      "outputs": [
        {
          "name": "stdout",
          "output_type": "stream",
          "text": [
            "5      2.0\n",
            "26     2.0\n",
            "47     2.0\n",
            "56     1.0\n",
            "144    2.0\n",
            "Name: died_hosp, dtype: float64\n"
          ]
        }
      ],
      "source": [
        "print(y_feat.head(5))"
      ]
    },
    {
      "cell_type": "markdown",
      "metadata": {
        "id": "8Puo2z2Jlrgo"
      },
      "source": [
        "### Feature selection"
      ]
    },
    {
      "cell_type": "markdown",
      "metadata": {
        "id": "49t8AQy2lrgo"
      },
      "source": [
        "Now split the data into training and test set(60-40 split)"
      ]
    },
    {
      "cell_type": "code",
      "execution_count": null,
      "metadata": {
        "id": "8fqIIHqXlrgp",
        "outputId": "9e024aea-a914-462d-d932-649bd85644df"
      },
      "outputs": [
        {
          "name": "stdout",
          "output_type": "stream",
          "text": [
            "(49130, 37)\n",
            "(49130,)\n",
            "(16377, 37)\n",
            "(16377,)\n",
            "(16377, 37)\n",
            "(16377,)\n"
          ]
        }
      ],
      "source": [
        "# Step 1: Split the data into train (60%) and a temporary set 'tst_val'(40%) initially\n",
        "X_train, X_tst_val, y_train, y_tst_val = train_test_split(X_feat, y_feat, test_size=0.4, random_state=42)\n",
        "\n",
        "# Step 2: Split the temporary set into test (50%) and validation (50%)\n",
        "X_test, X_val, y_test, y_val = train_test_split(X_tst_val, y_tst_val, test_size=0.5, random_state=42)\n",
        "\n",
        "print(X_train.shape)#size of training dataset for independent features\n",
        "print(y_train.shape)#size of training dataset for target feature\n",
        "print(X_test.shape)#test feature set\n",
        "print(y_test.shape)#test target variable\n",
        "print(X_val.shape)#validation feature set\n",
        "print(y_val.shape)#validation target variable"
      ]
    },
    {
      "cell_type": "markdown",
      "metadata": {
        "id": "pWfJ0jpFlrgp"
      },
      "source": [
        "### Exploratory data Analysis on training data set"
      ]
    },
    {
      "cell_type": "markdown",
      "metadata": {
        "id": "fweEBHBUlrgp"
      },
      "source": [
        "Check for missing values and their percentage"
      ]
    },
    {
      "cell_type": "markdown",
      "metadata": {
        "id": "Gomx4xZVlrgp"
      },
      "source": [
        "iddm, and preg_stat have too many missing values(all over 65%.). let's explore the distribution before removing the variables.\n"
      ]
    },
    {
      "cell_type": "code",
      "execution_count": null,
      "metadata": {
        "id": "Ym5cy9gulrgq"
      },
      "outputs": [],
      "source": []
    },
    {
      "cell_type": "code",
      "execution_count": null,
      "metadata": {
        "id": "4vApp-fnlrgq"
      },
      "outputs": [],
      "source": [
        "# data_na_heavy = data_train[['preg_stat', 'anzrod20riskofdeath']]\n",
        "# data_na_heavy.describe()"
      ]
    },
    {
      "cell_type": "code",
      "execution_count": null,
      "metadata": {
        "id": "xRxr3qTjlrgq"
      },
      "outputs": [],
      "source": [
        "# datatypes = data_train.dtypes\n",
        "# html_datatypes = create_scrollable_table(datatypes.to_frame(), 'datatypes', 'Different data types in the dataset')\n",
        "# display(HTML(html_datatypes))"
      ]
    },
    {
      "cell_type": "code",
      "execution_count": null,
      "metadata": {
        "id": "DI9tohyxlrgq"
      },
      "outputs": [],
      "source": [
        "# plt.scatter(data_na_heavy['anzrod20riskofdeath'],data_na_heavy['iddm'])\n",
        "# plt.title('Relationship between iddm and anzrod20riskofdeath')\n",
        "# plt.xlabel('iddm')\n",
        "# plt.ylabel('anzrod20riskofdeath')\n",
        "# plt.show()\n"
      ]
    },
    {
      "cell_type": "code",
      "execution_count": null,
      "metadata": {
        "id": "riWkoQDzlrgr"
      },
      "outputs": [],
      "source": [
        "#categorical_vars = ['sex', 'HospitalClassification']"
      ]
    },
    {
      "cell_type": "code",
      "execution_count": null,
      "metadata": {
        "tags": [],
        "id": "-G7721QKlrgr"
      },
      "outputs": [],
      "source": [
        "#data_train[categorical_vars].describe(include='all')"
      ]
    },
    {
      "cell_type": "code",
      "execution_count": null,
      "metadata": {
        "id": "JZcq5sxSlrgr"
      },
      "outputs": [],
      "source": []
    },
    {
      "cell_type": "code",
      "execution_count": null,
      "metadata": {
        "id": "Iyfofbyalrgr",
        "outputId": "660515d3-d09c-46ab-c2f1-bc836824243c"
      },
      "outputs": [
        {
          "data": {
            "text/plain": [
              "(81845, 42)"
            ]
          },
          "execution_count": 194,
          "metadata": {},
          "output_type": "execute_result"
        }
      ],
      "source": [
        "#final_data_clean\n",
        "# now to drop all NAs in died_hosp, score column\n",
        "score_data = final_data_clean\n",
        "score_data = score_data.dropna(subset=['died_hosp'])\n",
        "score_data = score_data.dropna(subset=['anzrod20riskofdeath'])\n",
        "score_data = score_data.dropna(subset=['anzrod15riskofdeath'])\n",
        "score_data = score_data.dropna(subset=['apache3score'])\n",
        "score_data.shape"
      ]
    },
    {
      "cell_type": "markdown",
      "metadata": {
        "id": "SiQjfpO4lrgs"
      },
      "source": [
        "#### Review Scoring Rows"
      ]
    },
    {
      "cell_type": "code",
      "execution_count": null,
      "metadata": {
        "id": "SCP_G2QUlrgs"
      },
      "outputs": [],
      "source": [
        "def plot_class_broke_down_hist(df, var, xlog=False, ylog=False, **histkwargs):\n",
        "    df[var][df.died_hosp == 2].hist(alpha=.5, label='survived', color = \"green\", **histkwargs)\n",
        "    df[var][df.died_hosp == 1].hist(alpha=.5, label='died', color = \"red\", **histkwargs)\n",
        "    plt.xlabel(var)\n",
        "    if xlog:\n",
        "        plt.xscale('log')\n",
        "        plt.yscale('log')\n",
        "    plt.legend();"
      ]
    },
    {
      "cell_type": "code",
      "execution_count": null,
      "metadata": {
        "id": "qwLlL4G4lrgs",
        "outputId": "50287e72-a024-415d-8237-c427e95ec176"
      },
      "outputs": [
        {
          "data": {
            "image/png": "[encoded data removed]",
            "text/plain": [
              "<Figure size 640x480 with 1 Axes>"
            ]
          },
          "metadata": {},
          "output_type": "display_data"
        }
      ],
      "source": [
        "plot_class_broke_down_hist(score_data, 'anzrod20riskofdeath', bins=100)"
      ]
    },
    {
      "cell_type": "code",
      "execution_count": null,
      "metadata": {
        "id": "3-ViALlplrgt",
        "outputId": "7b820143-7b60-4a11-8707-b9b5cf49bd58"
      },
      "outputs": [
        {
          "data": {
            "image/png": "[encoded data removed]",
            "text/plain": [
              "<Figure size 640x480 with 1 Axes>"
            ]
          },
          "metadata": {},
          "output_type": "display_data"
        }
      ],
      "source": [
        "plot_class_broke_down_hist(score_data, 'apache3score', bins=100)"
      ]
    },
    {
      "cell_type": "code",
      "execution_count": null,
      "metadata": {
        "id": "-0C_pbLxlrgt",
        "outputId": "bac584a1-cc03-4b50-f396-35c9a2a7869a"
      },
      "outputs": [
        {
          "data": {
            "image/png": "[encoded data removed]",
            "text/plain": [
              "<Figure size 640x480 with 1 Axes>"
            ]
          },
          "metadata": {},
          "output_type": "display_data"
        }
      ],
      "source": [
        "plot_class_broke_down_hist(score_data, 'apache3riskofdeath', bins=100)"
      ]
    },
    {
      "cell_type": "code",
      "execution_count": null,
      "metadata": {
        "id": "ly_bw7VKlrgt",
        "outputId": "04394d6b-78a4-4833-ad28-c2758a94f930"
      },
      "outputs": [
        {
          "data": {
            "image/png": "[encoded data removed]",
            "text/plain": [
              "<Figure size 640x480 with 1 Axes>"
            ]
          },
          "metadata": {},
          "output_type": "display_data"
        }
      ],
      "source": [
        "plot_class_broke_down_hist(score_data, 'anzrod15riskofdeath', bins=100)"
      ]
    },
    {
      "cell_type": "code",
      "execution_count": null,
      "metadata": {
        "id": "yz02PtfbZOlc"
      },
      "outputs": [],
      "source": [
        "\n",
        "import numpy as np\n",
        "from sklearn import metrics\n",
        "# y = np.array([1, 1, 2, 2])\n",
        "# pred = np.array([0.1, 0.4, 0.35, 0.8])\n",
        "\n",
        "actual = score_data.died_hosp\n",
        "predict = score_data.anzrod20riskofdeath\n",
        "\n",
        "model = dict()\n",
        "actual = dict()\n",
        "predict = dict()\n",
        "color = dict()\n",
        "fpr = dict()\n",
        "tpr = dict()\n",
        "roc_auc = dict()\n",
        "\n",
        "n_classes = 2\n",
        "\n",
        "model[0] = 'anzrod20riskofdeath'\n",
        "actual[0] = score_data.died_hosp\n",
        "predict[0] = score_data.anzrod20riskofdeath\n",
        "color[0] = 'blue'\n",
        "\n",
        "model[1] = 'anzrod15riskofdeath'\n",
        "actual[1] = score_data.died_hosp\n",
        "predict[1] = score_data.anzrod15riskofdeath\n",
        "color[1] = 'orange'\n",
        "\n",
        "\n",
        "\n",
        "for i in range(n_classes):\n",
        "    fpr[i], tpr[i], thresholds = metrics.roc_curve(actual[i], predict[i], pos_label=1)\n",
        "    roc_auc[i] = metrics.auc(fpr[i], tpr[i])"
      ]
    },
    {
      "cell_type": "code",
      "execution_count": null,
      "metadata": {
        "id": "C5kUxdpXaMvN",
        "outputId": "e2e95b3c-f97c-48f7-b4b5-29265f540b24"
      },
      "outputs": [
        {
          "data": {
            "image/png": "[encoded data removed]",
            "text/plain": [
              "<Figure size 640x480 with 1 Axes>"
            ]
          },
          "metadata": {},
          "output_type": "display_data"
        }
      ],
      "source": [
        "plt.figure()\n",
        "lw = 2\n",
        "for i in range(n_classes):\n",
        "    plt.plot(fpr[i], tpr[i], color=color[i],\n",
        "         lw=lw, label=model[i]+' (AUC = %0.2f)' % roc_auc[i])\n",
        "plt.plot([0, 1], [0, 1], color='lightgrey', lw=lw, linestyle='--')\n",
        "plt.xlim([0.0, 1.0])\n",
        "plt.ylim([0.0, 1.05])\n",
        "plt.xlabel('False Positive Rate')\n",
        "plt.ylabel('True Positive Rate')\n",
        "plt.title('Receiver operating characteristic example')\n",
        "plt.legend(loc=\"lower right\")\n",
        "plt.show()"
      ]
    },
    {
      "cell_type": "code",
      "execution_count": null,
      "metadata": {
        "tags": [],
        "id": "xkagGtdelrgu",
        "outputId": "49875428-4688-4476-fd12-ebf2796d15af"
      },
      "outputs": [
        {
          "name": "stdout",
          "output_type": "stream",
          "text": [
            "<class 'pandas.core.frame.DataFrame'>\n",
            "Index: 49130 entries, 1887 to 219449\n",
            "Data columns (total 37 columns):\n",
            " #   Column                     Non-Null Count  Dtype  \n",
            "---  ------                     --------------  -----  \n",
            " 0   chr_resp                   49130 non-null  float64\n",
            " 1   chr_cvs                    49130 non-null  float64\n",
            " 2   chr_liv                    49130 non-null  float64\n",
            " 3   chr_ren                    49130 non-null  float64\n",
            " 4   immundis                   49130 non-null  float64\n",
            " 5   immunrx                    49130 non-null  float64\n",
            " 6   aids                       49130 non-null  float64\n",
            " 7   hepfail                    49130 non-null  float64\n",
            " 8   lymphoma                   49130 non-null  float64\n",
            " 9   metast                     49130 non-null  float64\n",
            " 10  leukaem                    49130 non-null  float64\n",
            " 11  DIABETES                   49130 non-null  float64\n",
            " 12  weight                     49130 non-null  float64\n",
            " 13  height                     49130 non-null  float64\n",
            " 14  preg_stat                  49130 non-null  float64\n",
            " 15  intubated                  49130 non-null  float64\n",
            " 16  temperaturescore           49130 non-null  int64  \n",
            " 17  meanarterialpressurescore  49130 non-null  int64  \n",
            " 18  heartratescore             49130 non-null  int64  \n",
            " 19  respiratoryratescore       49130 non-null  int64  \n",
            " 20  sodiumscore                49130 non-null  int64  \n",
            " 21  creatininescore            49130 non-null  int64  \n",
            " 22  haematocritscore           49130 non-null  int64  \n",
            " 23  whitecellcountscore        49130 non-null  int64  \n",
            " 24  oxygenationscore           49130 non-null  int64  \n",
            " 25  urineoutputscore           49130 non-null  int64  \n",
            " 26  glucosescore               49130 non-null  int64  \n",
            " 27  bilirubinscore             49130 non-null  int64  \n",
            " 28  albuminscore               49130 non-null  int64  \n",
            " 29  phscore                    49130 non-null  int64  \n",
            " 30  neurologicalscore          49130 non-null  int64  \n",
            " 31  pre_icu_hrs                49130 non-null  float64\n",
            " 32  ELECT_SURG                 49130 non-null  float64\n",
            " 33  agescore                   49130 non-null  int64  \n",
            " 34  treat_lmt                  49130 non-null  float64\n",
            " 35  hosp_srce                  49130 non-null  float64\n",
            " 36  icu_srce                   49130 non-null  float64\n",
            "dtypes: float64(21), int64(16)\n",
            "memory usage: 14.2 MB\n"
          ]
        }
      ],
      "source": [
        "X_train.info()"
      ]
    },
    {
      "cell_type": "markdown",
      "metadata": {
        "id": "0ru1sifblrgv"
      },
      "source": [
        "### Logistic regression model implementation"
      ]
    },
    {
      "cell_type": "code",
      "execution_count": null,
      "metadata": {
        "tags": [],
        "id": "QxyWjJVJlrgv",
        "outputId": "eee0d151-d51a-4ff0-8d33-ea4d72cca648"
      },
      "outputs": [
        {
          "name": "stdout",
          "output_type": "stream",
          "text": [
            "***************Logistic regression model efficiency scores************\n",
            "\n",
            "Mean accuracy for training set:  0.8198046000407082\n",
            "Accuracy without calibration: 0.8123587958722599\n",
            "Log loss without calibration: 0.4232899357656333\n"
          ]
        }
      ],
      "source": [
        "#Create a stratified k-fold object for cross-validation to balance the ratio of the target variable in all folds\n",
        "stratified_kfold = StratifiedKFold(n_splits=5, shuffle=True, random_state=42)\n",
        "\n",
        "# Instantiate your classifier with class weights\n",
        "LR_classifier = LogisticRegression(max_iter=2000, class_weight='balanced', random_state=42)\n",
        "\n",
        "#Perform cross-validation using stratified folds\n",
        "cv_scores = cross_val_score(LR_classifier, X_train, y_train, cv=stratified_kfold, scoring='accuracy')\n",
        "\n",
        "# Print the cross-validation scores\n",
        "print('***************Logistic regression model efficiency scores************')\n",
        "#print(\"Cross-validation scores for training set: \", cv_scores)\n",
        "print(\"\\nMean accuracy for training set: \", np.mean(cv_scores))\n",
        "\n",
        "#Train your model on the entire training set\n",
        "LR_classifier.fit(X_train, y_train)\n",
        "#Make predictions on the test set\n",
        "# Evaluate the classifier without calibration\n",
        "y_pred = LR_classifier.predict(X_test)\n",
        "\n",
        "# Probability estimate\n",
        "prob_pos = LR_classifier.predict_proba(X_test)[:, 1]\n",
        "\n",
        "print(\"Accuracy without calibration:\", accuracy_score(y_test, y_pred))\n",
        "print(\"Log loss without calibration:\", log_loss(y_test, prob_pos))"
      ]
    },
    {
      "cell_type": "code",
      "execution_count": null,
      "metadata": {
        "tags": [],
        "id": "fgiryis_lrgv",
        "outputId": "18f964ce-3524-41c3-ce99-8430a0d52833"
      },
      "outputs": [
        {
          "name": "stdout",
          "output_type": "stream",
          "text": [
            "Brier score of the base model: 0.1330\n"
          ]
        }
      ],
      "source": [
        "# Evaluate Brier score\n",
        "brier_base = brier_score_loss(y_test, prob_pos)\n",
        "print(f\"Brier score of the base model: {brier_base:.4f}\")"
      ]
    },
    {
      "cell_type": "code",
      "execution_count": null,
      "metadata": {
        "tags": [],
        "id": "8SiovFd0lrgw"
      },
      "outputs": [],
      "source": [
        "# True and Predicted Probabilities\n",
        "true_pos, pred_pos = calibration_curve(y_test, prob_pos, pos_label=1, n_bins=10)"
      ]
    },
    {
      "cell_type": "code",
      "execution_count": null,
      "metadata": {
        "tags": [],
        "id": "uSJMxcKvlrgw"
      },
      "outputs": [],
      "source": [
        "#Plot the Probabilities Calibrated curve\n",
        "plt.plot(pred_pos,\n",
        "         true_pos,\n",
        "         marker='o',\n",
        "         linewidth=1,\n",
        "         label='Logistic Regression')\n",
        "\n",
        "#Plot the Perfectly Calibrated by Adding the 45-degree line to the plot\n",
        "plt.plot([0, 1],\n",
        "         [0, 1],\n",
        "         linestyle='--',\n",
        "         label='Perfectly Calibrated')\n",
        "\n",
        "# Set the title and axis labels for the plot\n",
        "plt.title('Probability Calibration Curve')\n",
        "plt.xlabel('Predicted Probability')\n",
        "plt.ylabel('True Probability')\n",
        "\n",
        "# Add a legend to the plot\n",
        "plt.legend(loc='best')\n",
        "\n",
        "# Show the plot\n",
        "plt.show()"
      ]
    },
    {
      "cell_type": "markdown",
      "metadata": {
        "id": "Bq63EEsXlrgx"
      },
      "source": [
        "### Reliability diagram  \n",
        "A reliability diagram is used to illustrate how the model performs in predicting the probability."
      ]
    },
    {
      "cell_type": "code",
      "execution_count": null,
      "metadata": {
        "tags": [],
        "id": "jIN_EzcVlrgx"
      },
      "outputs": [],
      "source": [
        "# Calibrate the classifier using isotonic regression\n",
        "calibrated_lr = CalibratedClassifierCV( LR_classifier, method='isotonic', cv=5)\n",
        "calibrated_lr.fit(X_train, y_train)\n",
        "\n",
        "\n",
        "# Evaluate the calibrated classifier\n",
        "y_pred_calibrated = calibrated_lr.predict(X_test)\n",
        "y_pred_proba_calibrated = calibrated_lr.predict_proba(X_test)[:, 1]\n",
        "print(\"Accuracy with calibration:\", accuracy_score(y_test, y_pred_calibrated))\n",
        "print(\"Log loss with calibration:\", log_loss(y_test, y_pred_proba_calibrated))"
      ]
    },
    {
      "cell_type": "markdown",
      "metadata": {
        "id": "rxBuOdmplrgy"
      },
      "source": [
        "### calibration curve"
      ]
    },
    {
      "cell_type": "code",
      "execution_count": null,
      "metadata": {
        "id": "sFNKgigslrgy"
      },
      "outputs": [],
      "source": [
        "# Compute the calibration curve\n",
        "prob_true, prob_pred = calibration_curve(y_test, y_pred_proba_calibrated, pos_label=1, n_bins=10)\n",
        "\n",
        "# Plot the calibration curve\n",
        "plt.figure(figsize=(10, 10))\n",
        "plt.plot([0, 1], [0, 1], linestyle='--', label='Perfectly calibrated')\n",
        "plt.plot(prob_pred, prob_true, marker='.', label='Isotonic regression')\n",
        "plt.xlabel('Predicted probability')\n",
        "plt.ylabel('True probability in each bin')\n",
        "plt.legend()\n",
        "plt.title('Reliability Diagram')\n",
        "plt.show()"
      ]
    },
    {
      "cell_type": "markdown",
      "metadata": {
        "id": "4L24ZoNVaMyc"
      },
      "source": [
        "calibrate, the probability estimates.\n",
        "One is to feed the probability estimates from, say, a random forest to a logistic regression model and train it with the original targets.\n",
        "This works, because logistic regression is a rare beast that actually produces calibrated probabilities. The secret behind it is that it optimizes\n",
        " for log-odds, which makes probabilities actually present in the model’s cost function. This approach is known as Platt-scaling."
      ]
    },
    {
      "cell_type": "markdown",
      "metadata": {
        "id": "dASnA_hVlrgz"
      },
      "source": [
        "Now, Let’s evaluate the quality of the calibration by Brier score."
      ]
    },
    {
      "cell_type": "code",
      "execution_count": null,
      "metadata": {
        "tags": [],
        "id": "GBc6NZOhlrgz"
      },
      "outputs": [],
      "source": [
        "# Evaluate Brier score\n",
        "brier_isotonic = brier_score_loss(y_test, y_pred_proba_calibrated)\n",
        "print(f\"Brier score after Isotonic Regression: {brier_isotonic:.4f}\")\n"
      ]
    },
    {
      "cell_type": "code",
      "execution_count": null,
      "metadata": {
        "id": "znFdCUmmlrgz"
      },
      "outputs": [],
      "source": []
    },
    {
      "cell_type": "code",
      "execution_count": null,
      "metadata": {
        "id": "kHFr0Lavlrgz"
      },
      "outputs": [],
      "source": []
    }
  ],
  "metadata": {
    "colab": {
      "provenance": []
    },
    "kernelspec": {
      "display_name": "Python 3 (ipykernel)",
      "language": "python",
      "name": "python3"
    },
    "language_info": {
      "codemirror_mode": {
        "name": "ipython",
        "version": 3
      },
      "file_extension": ".py",
      "mimetype": "text/x-python",
      "name": "python",
      "nbconvert_exporter": "python",
      "pygments_lexer": "ipython3",
      "version": "3.10.13"
    }
  },
  "nbformat": 4,
  "nbformat_minor": 0
}